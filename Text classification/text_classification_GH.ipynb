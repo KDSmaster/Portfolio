{
 "cells": [
  {
   "cell_type": "markdown",
   "metadata": {
    "toc": true
   },
   "source": [
    "<h1>Идентификация тональности текста в описании карточек товара интернет-магазина.<span class=\"tocSkip\"></span></h1>\n",
    "<h1>Содержание<span class=\"tocSkip\"></span></h1>\n",
    "<div class=\"toc\"><ul class=\"toc-item\"><li><span><a href=\"#Подготовка\" data-toc-modified-id=\"Подготовка-1\"><span class=\"toc-item-num\">1&nbsp;&nbsp;</span>Подготовка</a></span></li><li><span><a href=\"#Обучение\" data-toc-modified-id=\"Обучение-2\"><span class=\"toc-item-num\">2&nbsp;&nbsp;</span>Обучение</a></span></li><li><span><a href=\"#Выводы\" data-toc-modified-id=\"Выводы-3\"><span class=\"toc-item-num\">3&nbsp;&nbsp;</span>Выводы</a></span></li><li><span><a href=\"#Чек-лист-проверки\" data-toc-modified-id=\"Чек-лист-проверки-4\"><span class=\"toc-item-num\">4&nbsp;&nbsp;</span>Чек-лист проверки</a></span></li></ul></div>"
   ]
  },
  {
   "cell_type": "markdown",
   "metadata": {},
   "source": [
    "# Описание"
   ]
  },
  {
   "cell_type": "markdown",
   "metadata": {},
   "source": [
    "Пользователи могут редактировать и дополнять описания товаров, как в вики-сообществах. То есть клиенты предлагают свои правки и комментируют изменения других. Магазину нужен инструмент, который будет искать токсичные комментарии и отправлять их на модерацию. \n",
    "\n",
    "Обучаем модель классифицировать комментарии на позитивные и негативные на наборе данных с разметкой о токсичности правок.\n",
    "\n",
    "Критерий точности модели - метрика качества *F1*, целевой уровень - не меньше 0.75. \n",
    "\n",
    "**Ход решения:**\n",
    "\n",
    "1. Загрузка и подготовка данных.\n",
    "2. Обучение моделей. \n",
    "3. Выводы.\n",
    "\n",
    "**Описание данных**\n",
    "\n",
    "Данные находятся в файле `toxic_comments.csv`. Столбец *text* содержит текст комментария, столбец *toxic* — целевой признак."
   ]
  },
  {
   "cell_type": "markdown",
   "metadata": {},
   "source": [
    "## Подготовка"
   ]
  },
  {
   "cell_type": "code",
   "execution_count": 1,
   "metadata": {},
   "outputs": [
    {
     "name": "stderr",
     "output_type": "stream",
     "text": [
      "[nltk_data] Downloading package averaged_perceptron_tagger to\n",
      "[nltk_data]     /home/jovyan/nltk_data...\n",
      "[nltk_data]   Unzipping taggers/averaged_perceptron_tagger.zip.\n"
     ]
    }
   ],
   "source": [
    "import pandas as pd\n",
    "import numpy as np\n",
    "from tqdm import tqdm\n",
    "import torch\n",
    "import transformers\n",
    "import re \n",
    "from tqdm import notebook\n",
    "from sklearn.model_selection import train_test_split, GridSearchCV, cross_val_score\n",
    "import nltk\n",
    "nltk.download('averaged_perceptron_tagger')\n",
    "from nltk import pos_tag, sent_tokenize, word_tokenize\n",
    "from nltk.stem import WordNetLemmatizer \n",
    "from nltk.corpus import stopwords as nltk_stopwords\n",
    "from transformers import BertTokenizer, BertModel\n",
    "from sklearn.feature_extraction.text import TfidfVectorizer\n",
    "from sklearn.linear_model import LogisticRegression\n",
    "from catboost import CatBoostClassifier\n",
    "from sklearn.metrics import accuracy_score\n",
    "from sklearn.metrics import f1_score\n",
    "from sklearn.ensemble import RandomForestClassifier\n",
    "import warnings\n",
    "warnings.filterwarnings(\"ignore\")"
   ]
  },
  {
   "cell_type": "code",
   "execution_count": 2,
   "metadata": {},
   "outputs": [
    {
     "data": {
      "text/html": [
       "<div>\n",
       "<style scoped>\n",
       "    .dataframe tbody tr th:only-of-type {\n",
       "        vertical-align: middle;\n",
       "    }\n",
       "\n",
       "    .dataframe tbody tr th {\n",
       "        vertical-align: top;\n",
       "    }\n",
       "\n",
       "    .dataframe thead th {\n",
       "        text-align: right;\n",
       "    }\n",
       "</style>\n",
       "<table border=\"1\" class=\"dataframe\">\n",
       "  <thead>\n",
       "    <tr style=\"text-align: right;\">\n",
       "      <th></th>\n",
       "      <th>Unnamed: 0</th>\n",
       "      <th>text</th>\n",
       "      <th>toxic</th>\n",
       "    </tr>\n",
       "  </thead>\n",
       "  <tbody>\n",
       "    <tr>\n",
       "      <th>0</th>\n",
       "      <td>0</td>\n",
       "      <td>Explanation\\nWhy the edits made under my usern...</td>\n",
       "      <td>0</td>\n",
       "    </tr>\n",
       "    <tr>\n",
       "      <th>1</th>\n",
       "      <td>1</td>\n",
       "      <td>D'aww! He matches this background colour I'm s...</td>\n",
       "      <td>0</td>\n",
       "    </tr>\n",
       "    <tr>\n",
       "      <th>2</th>\n",
       "      <td>2</td>\n",
       "      <td>Hey man, I'm really not trying to edit war. It...</td>\n",
       "      <td>0</td>\n",
       "    </tr>\n",
       "    <tr>\n",
       "      <th>3</th>\n",
       "      <td>3</td>\n",
       "      <td>\"\\nMore\\nI can't make any real suggestions on ...</td>\n",
       "      <td>0</td>\n",
       "    </tr>\n",
       "    <tr>\n",
       "      <th>4</th>\n",
       "      <td>4</td>\n",
       "      <td>You, sir, are my hero. Any chance you remember...</td>\n",
       "      <td>0</td>\n",
       "    </tr>\n",
       "    <tr>\n",
       "      <th>5</th>\n",
       "      <td>5</td>\n",
       "      <td>\"\\n\\nCongratulations from me as well, use the ...</td>\n",
       "      <td>0</td>\n",
       "    </tr>\n",
       "    <tr>\n",
       "      <th>6</th>\n",
       "      <td>6</td>\n",
       "      <td>COCKSUCKER BEFORE YOU PISS AROUND ON MY WORK</td>\n",
       "      <td>1</td>\n",
       "    </tr>\n",
       "    <tr>\n",
       "      <th>7</th>\n",
       "      <td>7</td>\n",
       "      <td>Your vandalism to the Matt Shirvington article...</td>\n",
       "      <td>0</td>\n",
       "    </tr>\n",
       "    <tr>\n",
       "      <th>8</th>\n",
       "      <td>8</td>\n",
       "      <td>Sorry if the word 'nonsense' was offensive to ...</td>\n",
       "      <td>0</td>\n",
       "    </tr>\n",
       "    <tr>\n",
       "      <th>9</th>\n",
       "      <td>9</td>\n",
       "      <td>alignment on this subject and which are contra...</td>\n",
       "      <td>0</td>\n",
       "    </tr>\n",
       "  </tbody>\n",
       "</table>\n",
       "</div>"
      ],
      "text/plain": [
       "   Unnamed: 0                                               text  toxic\n",
       "0           0  Explanation\\nWhy the edits made under my usern...      0\n",
       "1           1  D'aww! He matches this background colour I'm s...      0\n",
       "2           2  Hey man, I'm really not trying to edit war. It...      0\n",
       "3           3  \"\\nMore\\nI can't make any real suggestions on ...      0\n",
       "4           4  You, sir, are my hero. Any chance you remember...      0\n",
       "5           5  \"\\n\\nCongratulations from me as well, use the ...      0\n",
       "6           6       COCKSUCKER BEFORE YOU PISS AROUND ON MY WORK      1\n",
       "7           7  Your vandalism to the Matt Shirvington article...      0\n",
       "8           8  Sorry if the word 'nonsense' was offensive to ...      0\n",
       "9           9  alignment on this subject and which are contra...      0"
      ]
     },
     "execution_count": 2,
     "metadata": {},
     "output_type": "execute_result"
    }
   ],
   "source": [
    "data = pd.read_csv('/datasets/toxic_comments.csv')\n",
    "data.head(10)"
   ]
  },
  {
   "cell_type": "markdown",
   "metadata": {},
   "source": [
    "Убираем лишний столбец."
   ]
  },
  {
   "cell_type": "code",
   "execution_count": 3,
   "metadata": {},
   "outputs": [],
   "source": [
    " data = data.drop(columns=[\"Unnamed: 0\"])"
   ]
  },
  {
   "cell_type": "code",
   "execution_count": 4,
   "metadata": {},
   "outputs": [
    {
     "name": "stdout",
     "output_type": "stream",
     "text": [
      "<class 'pandas.core.frame.DataFrame'>\n",
      "RangeIndex: 159292 entries, 0 to 159291\n",
      "Data columns (total 2 columns):\n",
      " #   Column  Non-Null Count   Dtype \n",
      "---  ------  --------------   ----- \n",
      " 0   text    159292 non-null  object\n",
      " 1   toxic   159292 non-null  int64 \n",
      "dtypes: int64(1), object(1)\n",
      "memory usage: 2.4+ MB\n"
     ]
    }
   ],
   "source": [
    "data.info();"
   ]
  },
  {
   "cell_type": "code",
   "execution_count": 5,
   "metadata": {},
   "outputs": [
    {
     "data": {
      "text/plain": [
       "0"
      ]
     },
     "execution_count": 5,
     "metadata": {},
     "output_type": "execute_result"
    }
   ],
   "source": [
    "data.duplicated().sum()"
   ]
  },
  {
   "cell_type": "markdown",
   "metadata": {},
   "source": [
    "Пропусков и явных дубликатов в данных нет."
   ]
  },
  {
   "cell_type": "markdown",
   "metadata": {},
   "source": [
    "Лемматизация текста:"
   ]
  },
  {
   "cell_type": "code",
   "execution_count": 7,
   "metadata": {},
   "outputs": [
    {
     "data": {
      "application/vnd.jupyter.widget-view+json": {
       "model_id": "cca42515cd0e419e882c690552c16745",
       "version_major": 2,
       "version_minor": 0
      },
      "text/plain": [
       "  0%|          | 0/159292 [00:00<?, ?it/s]"
      ]
     },
     "metadata": {},
     "output_type": "display_data"
    },
    {
     "data": {
      "application/vnd.jupyter.widget-view+json": {
       "model_id": "2f2fde31d36448c19aeaad5ced2ace2c",
       "version_major": 2,
       "version_minor": 0
      },
      "text/plain": [
       "  0%|          | 0/159292 [00:00<?, ?it/s]"
      ]
     },
     "metadata": {},
     "output_type": "display_data"
    },
    {
     "data": {
      "text/html": [
       "<div>\n",
       "<style scoped>\n",
       "    .dataframe tbody tr th:only-of-type {\n",
       "        vertical-align: middle;\n",
       "    }\n",
       "\n",
       "    .dataframe tbody tr th {\n",
       "        vertical-align: top;\n",
       "    }\n",
       "\n",
       "    .dataframe thead th {\n",
       "        text-align: right;\n",
       "    }\n",
       "</style>\n",
       "<table border=\"1\" class=\"dataframe\">\n",
       "  <thead>\n",
       "    <tr style=\"text-align: right;\">\n",
       "      <th></th>\n",
       "      <th>text</th>\n",
       "      <th>toxic</th>\n",
       "      <th>text_lemmatized</th>\n",
       "    </tr>\n",
       "  </thead>\n",
       "  <tbody>\n",
       "    <tr>\n",
       "      <th>0</th>\n",
       "      <td>Explanation\\nWhy the edits made under my usern...</td>\n",
       "      <td>0</td>\n",
       "      <td>[explanation, why, the, edits, make, under, my...</td>\n",
       "    </tr>\n",
       "    <tr>\n",
       "      <th>1</th>\n",
       "      <td>D'aww! He matches this background colour I'm s...</td>\n",
       "      <td>0</td>\n",
       "      <td>[d, aww, he, match, this, background, colour, ...</td>\n",
       "    </tr>\n",
       "    <tr>\n",
       "      <th>2</th>\n",
       "      <td>Hey man, I'm really not trying to edit war. It...</td>\n",
       "      <td>0</td>\n",
       "      <td>[hey, man, i, m, really, not, try, to, edit, w...</td>\n",
       "    </tr>\n",
       "    <tr>\n",
       "      <th>3</th>\n",
       "      <td>\"\\nMore\\nI can't make any real suggestions on ...</td>\n",
       "      <td>0</td>\n",
       "      <td>[more, i, can, t, make, any, real, suggestion,...</td>\n",
       "    </tr>\n",
       "    <tr>\n",
       "      <th>4</th>\n",
       "      <td>You, sir, are my hero. Any chance you remember...</td>\n",
       "      <td>0</td>\n",
       "      <td>[you, sir, be, my, hero, any, chance, you, rem...</td>\n",
       "    </tr>\n",
       "    <tr>\n",
       "      <th>5</th>\n",
       "      <td>\"\\n\\nCongratulations from me as well, use the ...</td>\n",
       "      <td>0</td>\n",
       "      <td>[congratulation, from, me, a, well, use, the, ...</td>\n",
       "    </tr>\n",
       "    <tr>\n",
       "      <th>6</th>\n",
       "      <td>COCKSUCKER BEFORE YOU PISS AROUND ON MY WORK</td>\n",
       "      <td>1</td>\n",
       "      <td>[cocksucker, before, you, piss, around, on, my...</td>\n",
       "    </tr>\n",
       "    <tr>\n",
       "      <th>7</th>\n",
       "      <td>Your vandalism to the Matt Shirvington article...</td>\n",
       "      <td>0</td>\n",
       "      <td>[your, vandalism, to, the, matt, shirvington, ...</td>\n",
       "    </tr>\n",
       "    <tr>\n",
       "      <th>8</th>\n",
       "      <td>Sorry if the word 'nonsense' was offensive to ...</td>\n",
       "      <td>0</td>\n",
       "      <td>[sorry, if, the, word, nonsense, wa, offensive...</td>\n",
       "    </tr>\n",
       "    <tr>\n",
       "      <th>9</th>\n",
       "      <td>alignment on this subject and which are contra...</td>\n",
       "      <td>0</td>\n",
       "      <td>[alignment, on, this, subject, and, which, be,...</td>\n",
       "    </tr>\n",
       "  </tbody>\n",
       "</table>\n",
       "</div>"
      ],
      "text/plain": [
       "                                                text  toxic  \\\n",
       "0  Explanation\\nWhy the edits made under my usern...      0   \n",
       "1  D'aww! He matches this background colour I'm s...      0   \n",
       "2  Hey man, I'm really not trying to edit war. It...      0   \n",
       "3  \"\\nMore\\nI can't make any real suggestions on ...      0   \n",
       "4  You, sir, are my hero. Any chance you remember...      0   \n",
       "5  \"\\n\\nCongratulations from me as well, use the ...      0   \n",
       "6       COCKSUCKER BEFORE YOU PISS AROUND ON MY WORK      1   \n",
       "7  Your vandalism to the Matt Shirvington article...      0   \n",
       "8  Sorry if the word 'nonsense' was offensive to ...      0   \n",
       "9  alignment on this subject and which are contra...      0   \n",
       "\n",
       "                                     text_lemmatized  \n",
       "0  [explanation, why, the, edits, make, under, my...  \n",
       "1  [d, aww, he, match, this, background, colour, ...  \n",
       "2  [hey, man, i, m, really, not, try, to, edit, w...  \n",
       "3  [more, i, can, t, make, any, real, suggestion,...  \n",
       "4  [you, sir, be, my, hero, any, chance, you, rem...  \n",
       "5  [congratulation, from, me, a, well, use, the, ...  \n",
       "6  [cocksucker, before, you, piss, around, on, my...  \n",
       "7  [your, vandalism, to, the, matt, shirvington, ...  \n",
       "8  [sorry, if, the, word, nonsense, wa, offensive...  \n",
       "9  [alignment, on, this, subject, and, which, be,...  "
      ]
     },
     "execution_count": 7,
     "metadata": {},
     "output_type": "execute_result"
    }
   ],
   "source": [
    "data['text_lemmatized'] = data['text']\n",
    "\n",
    "wnl = WordNetLemmatizer()\n",
    "\n",
    "def penn2morphy(penntag):\n",
    "    morphy_tag = {'NN':'n', 'JJ':'a',\n",
    "                  'VB':'v', 'RB':'r'}\n",
    "    try:\n",
    "        return morphy_tag[penntag[:2]]\n",
    "    except:\n",
    "        return 'n' \n",
    "\n",
    "def clear_text(text):\n",
    "    #text = text.lower()\n",
    "    pattern = re.sub(r'[^a-zA-Z]', ' ', text)\n",
    "    clear = pattern.split()\n",
    "    lemm = []\n",
    "    for i in range(len(clear)):\n",
    "        lemm.append(wnl.lemmatize(clear[i]))\n",
    "    return \" \".join(lemm)\n",
    "\n",
    "def lemmafunction(text): \n",
    "    # Text input is string, returns lowercased strings.\n",
    "    return [wnl.lemmatize(word.lower(), pos=penn2morphy(tag)) \n",
    "            for word, tag in pos_tag(word_tokenize(text))]\n",
    "\n",
    "from tqdm.notebook import tqdm\n",
    "tqdm.pandas()\n",
    "\n",
    "data['text_lemmatized'] = data['text_lemmatized'].progress_apply(clear_text)\n",
    "data['text_lemmatized'] = data['text_lemmatized'].progress_apply(lemmafunction)\n",
    "\n",
    "data.head(10)"
   ]
  },
  {
   "cell_type": "code",
   "execution_count": 8,
   "metadata": {},
   "outputs": [
    {
     "data": {
      "text/html": [
       "<div>\n",
       "<style scoped>\n",
       "    .dataframe tbody tr th:only-of-type {\n",
       "        vertical-align: middle;\n",
       "    }\n",
       "\n",
       "    .dataframe tbody tr th {\n",
       "        vertical-align: top;\n",
       "    }\n",
       "\n",
       "    .dataframe thead th {\n",
       "        text-align: right;\n",
       "    }\n",
       "</style>\n",
       "<table border=\"1\" class=\"dataframe\">\n",
       "  <thead>\n",
       "    <tr style=\"text-align: right;\">\n",
       "      <th></th>\n",
       "      <th>text</th>\n",
       "      <th>toxic</th>\n",
       "      <th>text_lemmatized</th>\n",
       "    </tr>\n",
       "  </thead>\n",
       "  <tbody>\n",
       "    <tr>\n",
       "      <th>0</th>\n",
       "      <td>Explanation\\nWhy the edits made under my usern...</td>\n",
       "      <td>0</td>\n",
       "      <td>explanation why the edits make under my userna...</td>\n",
       "    </tr>\n",
       "    <tr>\n",
       "      <th>1</th>\n",
       "      <td>D'aww! He matches this background colour I'm s...</td>\n",
       "      <td>0</td>\n",
       "      <td>d aww he match this background colour i m seem...</td>\n",
       "    </tr>\n",
       "    <tr>\n",
       "      <th>2</th>\n",
       "      <td>Hey man, I'm really not trying to edit war. It...</td>\n",
       "      <td>0</td>\n",
       "      <td>hey man i m really not try to edit war it s ju...</td>\n",
       "    </tr>\n",
       "    <tr>\n",
       "      <th>3</th>\n",
       "      <td>\"\\nMore\\nI can't make any real suggestions on ...</td>\n",
       "      <td>0</td>\n",
       "      <td>more i can t make any real suggestion on impro...</td>\n",
       "    </tr>\n",
       "    <tr>\n",
       "      <th>4</th>\n",
       "      <td>You, sir, are my hero. Any chance you remember...</td>\n",
       "      <td>0</td>\n",
       "      <td>you sir be my hero any chance you remember wha...</td>\n",
       "    </tr>\n",
       "    <tr>\n",
       "      <th>5</th>\n",
       "      <td>\"\\n\\nCongratulations from me as well, use the ...</td>\n",
       "      <td>0</td>\n",
       "      <td>congratulation from me a well use the tool wel...</td>\n",
       "    </tr>\n",
       "    <tr>\n",
       "      <th>6</th>\n",
       "      <td>COCKSUCKER BEFORE YOU PISS AROUND ON MY WORK</td>\n",
       "      <td>1</td>\n",
       "      <td>cocksucker before you piss around on my work</td>\n",
       "    </tr>\n",
       "    <tr>\n",
       "      <th>7</th>\n",
       "      <td>Your vandalism to the Matt Shirvington article...</td>\n",
       "      <td>0</td>\n",
       "      <td>your vandalism to the matt shirvington article...</td>\n",
       "    </tr>\n",
       "    <tr>\n",
       "      <th>8</th>\n",
       "      <td>Sorry if the word 'nonsense' was offensive to ...</td>\n",
       "      <td>0</td>\n",
       "      <td>sorry if the word nonsense wa offensive to you...</td>\n",
       "    </tr>\n",
       "    <tr>\n",
       "      <th>9</th>\n",
       "      <td>alignment on this subject and which are contra...</td>\n",
       "      <td>0</td>\n",
       "      <td>alignment on this subject and which be contrar...</td>\n",
       "    </tr>\n",
       "  </tbody>\n",
       "</table>\n",
       "</div>"
      ],
      "text/plain": [
       "                                                text  toxic  \\\n",
       "0  Explanation\\nWhy the edits made under my usern...      0   \n",
       "1  D'aww! He matches this background colour I'm s...      0   \n",
       "2  Hey man, I'm really not trying to edit war. It...      0   \n",
       "3  \"\\nMore\\nI can't make any real suggestions on ...      0   \n",
       "4  You, sir, are my hero. Any chance you remember...      0   \n",
       "5  \"\\n\\nCongratulations from me as well, use the ...      0   \n",
       "6       COCKSUCKER BEFORE YOU PISS AROUND ON MY WORK      1   \n",
       "7  Your vandalism to the Matt Shirvington article...      0   \n",
       "8  Sorry if the word 'nonsense' was offensive to ...      0   \n",
       "9  alignment on this subject and which are contra...      0   \n",
       "\n",
       "                                     text_lemmatized  \n",
       "0  explanation why the edits make under my userna...  \n",
       "1  d aww he match this background colour i m seem...  \n",
       "2  hey man i m really not try to edit war it s ju...  \n",
       "3  more i can t make any real suggestion on impro...  \n",
       "4  you sir be my hero any chance you remember wha...  \n",
       "5  congratulation from me a well use the tool wel...  \n",
       "6       cocksucker before you piss around on my work  \n",
       "7  your vandalism to the matt shirvington article...  \n",
       "8  sorry if the word nonsense wa offensive to you...  \n",
       "9  alignment on this subject and which be contrar...  "
      ]
     },
     "execution_count": 8,
     "metadata": {},
     "output_type": "execute_result"
    }
   ],
   "source": [
    "for i in range(len(data['text_lemmatized'])):\n",
    "    string = data['text_lemmatized'][i]\n",
    "    data['text_lemmatized'][i] =\" \".join([str(j) for j in string])\n",
    "data.head(10)"
   ]
  },
  {
   "cell_type": "markdown",
   "metadata": {},
   "source": [
    "Создание признаков:"
   ]
  },
  {
   "cell_type": "code",
   "execution_count": 9,
   "metadata": {},
   "outputs": [],
   "source": [
    "target = data['toxic']\n",
    "features = data['text_lemmatized']"
   ]
  },
  {
   "cell_type": "markdown",
   "metadata": {},
   "source": [
    "Разделение на выборки:"
   ]
  },
  {
   "cell_type": "code",
   "execution_count": 10,
   "metadata": {},
   "outputs": [],
   "source": [
    "features_train, features_test, target_train, target_test = train_test_split(features, target, test_size=0.1, random_state=0)"
   ]
  },
  {
   "cell_type": "markdown",
   "metadata": {},
   "source": [
    "Создание матрицы TF-IDF c учетом стоп-слов:"
   ]
  },
  {
   "cell_type": "code",
   "execution_count": 11,
   "metadata": {},
   "outputs": [
    {
     "name": "stderr",
     "output_type": "stream",
     "text": [
      "[nltk_data] Downloading package stopwords to /home/jovyan/nltk_data...\n",
      "[nltk_data]   Package stopwords is already up-to-date!\n"
     ]
    },
    {
     "name": "stdout",
     "output_type": "stream",
     "text": [
      "Размер матрицы: (143362, 145383)\n"
     ]
    }
   ],
   "source": [
    "nltk.download('stopwords')\n",
    "stopwords = set(nltk_stopwords.words('english'))\n",
    "count_tf_idf = TfidfVectorizer(stop_words=stopwords) \n",
    "train_tf_idf = count_tf_idf.fit_transform(features_train)\n",
    "\n",
    "print(\"Размер матрицы:\", train_tf_idf.shape)"
   ]
  },
  {
   "cell_type": "code",
   "execution_count": 12,
   "metadata": {},
   "outputs": [
    {
     "name": "stdout",
     "output_type": "stream",
     "text": [
      "Размер матрицы: (15930, 145383)\n"
     ]
    }
   ],
   "source": [
    "test_tf_idf = count_tf_idf.transform(features_test)\n",
    "print(\"Размер матрицы:\", test_tf_idf.shape)"
   ]
  },
  {
   "cell_type": "markdown",
   "metadata": {},
   "source": [
    "## Обучение"
   ]
  },
  {
   "cell_type": "markdown",
   "metadata": {},
   "source": [
    "Логистическая регрессия на TF_IDF:"
   ]
  },
  {
   "cell_type": "code",
   "execution_count": 45,
   "metadata": {},
   "outputs": [],
   "source": [
    "model_lr = LogisticRegression(random_state=12345,\n",
    "                                solver='liblinear')"
   ]
  },
  {
   "cell_type": "code",
   "execution_count": 46,
   "metadata": {},
   "outputs": [
    {
     "data": {
      "text/plain": [
       "dict_keys(['C', 'class_weight', 'dual', 'fit_intercept', 'intercept_scaling', 'l1_ratio', 'max_iter', 'multi_class', 'n_jobs', 'penalty', 'random_state', 'solver', 'tol', 'verbose', 'warm_start'])"
      ]
     },
     "execution_count": 46,
     "metadata": {},
     "output_type": "execute_result"
    }
   ],
   "source": [
    "model_lr.get_params().keys()"
   ]
  },
  {
   "cell_type": "markdown",
   "metadata": {},
   "source": [
    "Настраиваем регуляризацию через параметр 'C'."
   ]
  },
  {
   "cell_type": "code",
   "execution_count": 47,
   "metadata": {},
   "outputs": [],
   "source": [
    "lr_param = {'C': [0.1, 1, 5, 10, 15]}"
   ]
  },
  {
   "cell_type": "code",
   "execution_count": 58,
   "metadata": {},
   "outputs": [
    {
     "data": {
      "text/plain": [
       "GridSearchCV(cv=5,\n",
       "             estimator=LogisticRegression(random_state=12345,\n",
       "                                          solver='liblinear'),\n",
       "             param_grid={'C': [0.1, 1, 5, 10, 15]}, scoring='f1')"
      ]
     },
     "execution_count": 58,
     "metadata": {},
     "output_type": "execute_result"
    }
   ],
   "source": [
    "gsearch = GridSearchCV(estimator=model_lr, \n",
    "                       cv=5, \n",
    "                       param_grid=lr_param,  \n",
    "                       scoring='f1')\n",
    "\n",
    "gsearch.fit(train_tf_idf, target_train)"
   ]
  },
  {
   "cell_type": "markdown",
   "metadata": {},
   "source": [
    "Лучшая модель:"
   ]
  },
  {
   "cell_type": "code",
   "execution_count": 59,
   "metadata": {},
   "outputs": [
    {
     "data": {
      "text/plain": [
       "LogisticRegression(C=15, random_state=12345, solver='liblinear')"
      ]
     },
     "execution_count": 59,
     "metadata": {},
     "output_type": "execute_result"
    }
   ],
   "source": [
    "gsearch.best_estimator_"
   ]
  },
  {
   "cell_type": "markdown",
   "metadata": {},
   "source": [
    "Оценка лучшей модели:"
   ]
  },
  {
   "cell_type": "code",
   "execution_count": 60,
   "metadata": {},
   "outputs": [
    {
     "data": {
      "text/plain": [
       "0.7667905969902142"
      ]
     },
     "execution_count": 60,
     "metadata": {},
     "output_type": "execute_result"
    }
   ],
   "source": [
    "gsearch.best_score_"
   ]
  },
  {
   "cell_type": "markdown",
   "metadata": {},
   "source": [
    "Параметры лучшей модели:"
   ]
  },
  {
   "cell_type": "code",
   "execution_count": 61,
   "metadata": {},
   "outputs": [
    {
     "data": {
      "text/plain": [
       "{'C': 15}"
      ]
     },
     "execution_count": 61,
     "metadata": {},
     "output_type": "execute_result"
    }
   ],
   "source": [
    "gsearch.best_params_"
   ]
  },
  {
   "cell_type": "markdown",
   "metadata": {},
   "source": [
    "Модель CatBoost."
   ]
  },
  {
   "cell_type": "code",
   "execution_count": 63,
   "metadata": {},
   "outputs": [],
   "source": [
    "# сокращаю датасет, т.к. долго обрабатывается:\n",
    "features_train_cb = train_tf_idf[:900]\n",
    "features_test_cb = test_tf_idf[:300]\n",
    "target_train_cb = target_train[:900]\n",
    "target_test_cb = target_test[:300]"
   ]
  },
  {
   "cell_type": "code",
   "execution_count": 69,
   "metadata": {},
   "outputs": [
    {
     "name": "stdout",
     "output_type": "stream",
     "text": [
      "CPU times: user 1min 1s, sys: 2.04 s, total: 1min 3s\n",
      "Wall time: 1min 14s\n"
     ]
    },
    {
     "data": {
      "text/plain": [
       "GridSearchCV(cv=5,\n",
       "             estimator=<catboost.core.CatBoostClassifier object at 0x7f33ec25d070>,\n",
       "             param_grid={'depth': [2, 4, 6, 8, 20]}, scoring='f1')"
      ]
     },
     "execution_count": 69,
     "metadata": {},
     "output_type": "execute_result"
    }
   ],
   "source": [
    "%%time\n",
    "zeroes = data['toxic'].value_counts()[0]\n",
    "ones = data['toxic'].value_counts()[1]\n",
    "\n",
    "cb = CatBoostClassifier(verbose=False, iterations=50)\n",
    "#список параметров:\n",
    "cb_param = {'depth': [2, 4, 6, 8, 20]}\n",
    "\n",
    "gsearch_cb = GridSearchCV(estimator=cb, \n",
    "                       cv=5, \n",
    "                       param_grid=cb_param,  \n",
    "                       scoring='f1')\n",
    "\n",
    "gsearch_cb.fit(features_train_cb, target_train_cb)"
   ]
  },
  {
   "cell_type": "code",
   "execution_count": 71,
   "metadata": {},
   "outputs": [
    {
     "data": {
      "text/plain": [
       "0.32001367053998636"
      ]
     },
     "execution_count": 71,
     "metadata": {},
     "output_type": "execute_result"
    }
   ],
   "source": [
    "gsearch_cb.best_score_"
   ]
  },
  {
   "cell_type": "code",
   "execution_count": 72,
   "metadata": {},
   "outputs": [
    {
     "data": {
      "text/plain": [
       "{'depth': 4}"
      ]
     },
     "execution_count": 72,
     "metadata": {},
     "output_type": "execute_result"
    }
   ],
   "source": [
    "gsearch_cb.best_params_"
   ]
  },
  {
   "cell_type": "markdown",
   "metadata": {},
   "source": [
    "Случайный лес:"
   ]
  },
  {
   "cell_type": "code",
   "execution_count": 73,
   "metadata": {},
   "outputs": [],
   "source": [
    "rf = RandomForestClassifier(class_weight='balanced')\n",
    "\n",
    "rf_param = {'n_estimators': range(20, 40, 5),\n",
    "                     'max_depth': range(2, 10, 2)}\n"
   ]
  },
  {
   "cell_type": "code",
   "execution_count": 77,
   "metadata": {},
   "outputs": [
    {
     "data": {
      "text/plain": [
       "GridSearchCV(cv=5, estimator=RandomForestClassifier(class_weight='balanced'),\n",
       "             param_grid={'max_depth': range(2, 10, 2),\n",
       "                         'n_estimators': range(20, 40, 5)},\n",
       "             scoring='f1')"
      ]
     },
     "execution_count": 77,
     "metadata": {},
     "output_type": "execute_result"
    }
   ],
   "source": [
    "gsearch_rf = GridSearchCV(estimator=rf, \n",
    "                       cv=5, \n",
    "                       param_grid=rf_param,  \n",
    "                       scoring='f1')\n",
    "\n",
    "gsearch_rf.fit(train_tf_idf, target_train)"
   ]
  },
  {
   "cell_type": "code",
   "execution_count": 78,
   "metadata": {},
   "outputs": [
    {
     "data": {
      "text/plain": [
       "0.33395510216101343"
      ]
     },
     "execution_count": 78,
     "metadata": {},
     "output_type": "execute_result"
    }
   ],
   "source": [
    "gsearch_rf.best_score_"
   ]
  },
  {
   "cell_type": "code",
   "execution_count": 81,
   "metadata": {},
   "outputs": [
    {
     "data": {
      "text/plain": [
       "{'max_depth': 8, 'n_estimators': 35}"
      ]
     },
     "execution_count": 81,
     "metadata": {},
     "output_type": "execute_result"
    }
   ],
   "source": [
    "gsearch_rf.best_params_"
   ]
  },
  {
   "cell_type": "markdown",
   "metadata": {},
   "source": [
    "Лучший результат показала модель логистической регрессии - тестируем:"
   ]
  },
  {
   "cell_type": "code",
   "execution_count": 82,
   "metadata": {},
   "outputs": [
    {
     "name": "stdout",
     "output_type": "stream",
     "text": [
      "0.766\n"
     ]
    }
   ],
   "source": [
    "lr_model_test = gsearch.best_estimator_\n",
    "\n",
    "lr_model_test.fit(train_tf_idf, target_train)\n",
    "\n",
    "lr_predictions = lr_model_test.predict(test_tf_idf)\n",
    "lr_f1 = round(f1_score(target_test, lr_predictions), 3) \n",
    "print(lr_f1)"
   ]
  },
  {
   "cell_type": "markdown",
   "metadata": {},
   "source": [
    "## Выводы"
   ]
  },
  {
   "cell_type": "markdown",
   "metadata": {},
   "source": [
    "В ходе работы над проектом было сделано:\n",
    "\n",
    "- Подготовленны данные обучения на моделях\n",
    "- Обучены модели и выбраны лучшие на кросс-валидации\n",
    "\n",
    "На тестовой выбоке по метрике F1 лучше всего себя показал LogisticRegression - 0.766.\n",
    "CatBoost испытать в полной мере не удалось, из-за отказа ядра. Показель F1 значительно ниже, т.к. для теста был урезан датасет.\n",
    "\n",
    "Наиболее рационалным решением будет использование лоигистической регресси."
   ]
  }
 ],
 "metadata": {
  "ExecuteTimeLog": [
   {
    "duration": 49,
    "start_time": "2023-06-06T17:32:40.299Z"
   },
   {
    "duration": 369,
    "start_time": "2023-06-06T17:32:50.586Z"
   },
   {
    "duration": 3412,
    "start_time": "2023-06-06T17:32:51.067Z"
   },
   {
    "duration": 771,
    "start_time": "2023-06-06T17:33:00.187Z"
   },
   {
    "duration": 27,
    "start_time": "2023-06-06T17:33:31.340Z"
   },
   {
    "duration": 31,
    "start_time": "2023-06-06T17:33:39.690Z"
   },
   {
    "duration": 30,
    "start_time": "2023-06-06T17:33:44.347Z"
   },
   {
    "duration": 733,
    "start_time": "2023-06-06T17:35:21.087Z"
   },
   {
    "duration": 9,
    "start_time": "2023-06-06T17:36:21.197Z"
   },
   {
    "duration": 6,
    "start_time": "2023-06-06T17:36:28.967Z"
   },
   {
    "duration": 6,
    "start_time": "2023-06-06T17:38:02.242Z"
   },
   {
    "duration": 27,
    "start_time": "2023-06-06T17:38:12.819Z"
   },
   {
    "duration": 238,
    "start_time": "2023-06-06T17:38:26.647Z"
   },
   {
    "duration": 1856,
    "start_time": "2023-06-06T18:02:50.038Z"
   },
   {
    "duration": 860,
    "start_time": "2023-06-06T18:03:36.016Z"
   },
   {
    "duration": 1233,
    "start_time": "2023-06-06T18:04:13.888Z"
   },
   {
    "duration": 3357,
    "start_time": "2023-06-06T18:04:15.123Z"
   },
   {
    "duration": 32,
    "start_time": "2023-06-06T18:04:18.481Z"
   },
   {
    "duration": 219,
    "start_time": "2023-06-06T18:04:18.515Z"
   },
   {
    "duration": 2622,
    "start_time": "2023-06-06T18:04:18.736Z"
   },
   {
    "duration": 126,
    "start_time": "2023-06-06T18:04:21.360Z"
   },
   {
    "duration": 0,
    "start_time": "2023-06-06T18:04:21.488Z"
   },
   {
    "duration": 0,
    "start_time": "2023-06-06T18:04:21.489Z"
   },
   {
    "duration": 0,
    "start_time": "2023-06-06T18:04:21.490Z"
   },
   {
    "duration": 1329,
    "start_time": "2023-06-06T18:13:20.978Z"
   },
   {
    "duration": 3390,
    "start_time": "2023-06-06T18:13:23.389Z"
   },
   {
    "duration": 32,
    "start_time": "2023-06-06T18:13:26.781Z"
   },
   {
    "duration": 225,
    "start_time": "2023-06-06T18:13:27.003Z"
   },
   {
    "duration": 1813,
    "start_time": "2023-06-06T18:13:28.948Z"
   },
   {
    "duration": 10,
    "start_time": "2023-06-06T18:13:55.357Z"
   },
   {
    "duration": 2,
    "start_time": "2023-06-06T18:14:21.648Z"
   },
   {
    "duration": 2937,
    "start_time": "2023-06-06T18:14:26.298Z"
   },
   {
    "duration": 34,
    "start_time": "2023-06-06T18:14:55.457Z"
   },
   {
    "duration": 4,
    "start_time": "2023-06-06T18:15:18.319Z"
   },
   {
    "duration": 747,
    "start_time": "2023-06-06T18:15:21.280Z"
   },
   {
    "duration": 38,
    "start_time": "2023-06-06T18:15:22.460Z"
   },
   {
    "duration": 228,
    "start_time": "2023-06-06T18:15:25.008Z"
   },
   {
    "duration": 1337,
    "start_time": "2023-06-06T18:15:57.827Z"
   },
   {
    "duration": 3395,
    "start_time": "2023-06-06T18:15:59.165Z"
   },
   {
    "duration": 32,
    "start_time": "2023-06-06T18:16:02.562Z"
   },
   {
    "duration": 221,
    "start_time": "2023-06-06T18:16:05.680Z"
   },
   {
    "duration": 1913,
    "start_time": "2023-06-06T18:16:10.357Z"
   },
   {
    "duration": 50,
    "start_time": "2023-06-06T18:21:44.728Z"
   },
   {
    "duration": 8,
    "start_time": "2023-06-06T18:22:02.178Z"
   },
   {
    "duration": 6,
    "start_time": "2023-06-06T18:22:13.318Z"
   },
   {
    "duration": 1389,
    "start_time": "2023-06-06T18:22:18.257Z"
   },
   {
    "duration": 3380,
    "start_time": "2023-06-06T18:22:19.648Z"
   },
   {
    "duration": 32,
    "start_time": "2023-06-06T18:22:24.327Z"
   },
   {
    "duration": 223,
    "start_time": "2023-06-06T18:22:26.100Z"
   },
   {
    "duration": 3,
    "start_time": "2023-06-06T18:22:29.791Z"
   },
   {
    "duration": 2055,
    "start_time": "2023-06-06T18:22:31.928Z"
   },
   {
    "duration": 15,
    "start_time": "2023-06-06T18:32:33.347Z"
   },
   {
    "duration": 10060,
    "start_time": "2023-06-06T18:34:28.782Z"
   },
   {
    "duration": 10,
    "start_time": "2023-06-06T18:35:51.205Z"
   },
   {
    "duration": 2462,
    "start_time": "2023-06-06T18:45:48.190Z"
   },
   {
    "duration": 1509,
    "start_time": "2023-06-06T18:45:50.654Z"
   },
   {
    "duration": 952,
    "start_time": "2023-06-06T18:45:52.165Z"
   },
   {
    "duration": 44,
    "start_time": "2023-06-06T18:45:53.120Z"
   },
   {
    "duration": 285,
    "start_time": "2023-06-06T18:45:53.166Z"
   },
   {
    "duration": 3,
    "start_time": "2023-06-06T18:45:53.454Z"
   },
   {
    "duration": 1987,
    "start_time": "2023-06-06T18:45:53.459Z"
   },
   {
    "duration": 133,
    "start_time": "2023-06-06T18:45:55.451Z"
   },
   {
    "duration": 0,
    "start_time": "2023-06-06T18:45:55.586Z"
   },
   {
    "duration": 0,
    "start_time": "2023-06-06T18:45:55.588Z"
   },
   {
    "duration": 0,
    "start_time": "2023-06-06T18:45:55.590Z"
   },
   {
    "duration": 0,
    "start_time": "2023-06-06T18:45:55.592Z"
   },
   {
    "duration": 0,
    "start_time": "2023-06-06T18:45:55.593Z"
   },
   {
    "duration": 2091,
    "start_time": "2023-06-06T18:46:35.292Z"
   },
   {
    "duration": 1377,
    "start_time": "2023-06-06T18:46:37.385Z"
   },
   {
    "duration": 876,
    "start_time": "2023-06-06T18:46:38.764Z"
   },
   {
    "duration": 38,
    "start_time": "2023-06-06T18:46:39.642Z"
   },
   {
    "duration": 248,
    "start_time": "2023-06-06T18:46:39.682Z"
   },
   {
    "duration": 2,
    "start_time": "2023-06-06T18:46:39.932Z"
   },
   {
    "duration": 1919,
    "start_time": "2023-06-06T18:46:39.936Z"
   },
   {
    "duration": 2064,
    "start_time": "2023-06-06T18:46:58.888Z"
   },
   {
    "duration": 1480,
    "start_time": "2023-06-06T18:47:00.960Z"
   },
   {
    "duration": 3761,
    "start_time": "2023-06-06T18:47:02.442Z"
   },
   {
    "duration": 32,
    "start_time": "2023-06-06T18:47:06.205Z"
   },
   {
    "duration": 247,
    "start_time": "2023-06-06T18:47:06.239Z"
   },
   {
    "duration": 3,
    "start_time": "2023-06-06T18:47:06.488Z"
   },
   {
    "duration": 1945,
    "start_time": "2023-06-06T18:47:06.493Z"
   },
   {
    "duration": 47,
    "start_time": "2023-06-06T18:47:26.864Z"
   },
   {
    "duration": 3,
    "start_time": "2023-06-06T18:47:39.999Z"
   },
   {
    "duration": 1345,
    "start_time": "2023-06-06T18:47:40.963Z"
   },
   {
    "duration": 3451,
    "start_time": "2023-06-06T18:47:42.438Z"
   },
   {
    "duration": 34,
    "start_time": "2023-06-06T18:47:47.299Z"
   },
   {
    "duration": 233,
    "start_time": "2023-06-06T18:47:48.558Z"
   },
   {
    "duration": 3,
    "start_time": "2023-06-06T18:47:51.660Z"
   },
   {
    "duration": 1862,
    "start_time": "2023-06-06T18:47:55.117Z"
   },
   {
    "duration": 54,
    "start_time": "2023-06-06T18:48:18.289Z"
   },
   {
    "duration": 5,
    "start_time": "2023-06-06T18:48:28.038Z"
   },
   {
    "duration": 1363,
    "start_time": "2023-06-06T18:48:28.047Z"
   },
   {
    "duration": 3506,
    "start_time": "2023-06-06T18:48:29.411Z"
   },
   {
    "duration": 34,
    "start_time": "2023-06-06T18:48:32.918Z"
   },
   {
    "duration": 249,
    "start_time": "2023-06-06T18:48:32.954Z"
   },
   {
    "duration": 2,
    "start_time": "2023-06-06T18:48:33.205Z"
   },
   {
    "duration": 1939,
    "start_time": "2023-06-06T18:48:33.209Z"
   },
   {
    "duration": 3,
    "start_time": "2023-06-06T18:51:12.797Z"
   },
   {
    "duration": 1318,
    "start_time": "2023-06-06T18:51:12.802Z"
   },
   {
    "duration": 3420,
    "start_time": "2023-06-06T18:51:14.122Z"
   },
   {
    "duration": 34,
    "start_time": "2023-06-06T18:51:17.544Z"
   },
   {
    "duration": 236,
    "start_time": "2023-06-06T18:51:17.580Z"
   },
   {
    "duration": 3,
    "start_time": "2023-06-06T18:51:17.817Z"
   },
   {
    "duration": 12,
    "start_time": "2023-06-06T18:51:17.821Z"
   },
   {
    "duration": 26,
    "start_time": "2023-06-06T18:51:17.835Z"
   },
   {
    "duration": 20,
    "start_time": "2023-06-06T18:51:17.863Z"
   },
   {
    "duration": 192,
    "start_time": "2023-06-06T18:51:17.885Z"
   },
   {
    "duration": 34,
    "start_time": "2023-06-06T18:51:18.079Z"
   },
   {
    "duration": 36,
    "start_time": "2023-06-06T18:51:18.115Z"
   },
   {
    "duration": 5,
    "start_time": "2023-06-06T18:51:18.152Z"
   },
   {
    "duration": 7,
    "start_time": "2023-06-06T18:51:18.158Z"
   },
   {
    "duration": 6,
    "start_time": "2023-06-06T18:51:56.349Z"
   },
   {
    "duration": 6,
    "start_time": "2023-06-06T18:52:15.098Z"
   },
   {
    "duration": 2756,
    "start_time": "2023-06-07T18:30:27.451Z"
   },
   {
    "duration": 5550,
    "start_time": "2023-06-07T18:30:33.938Z"
   },
   {
    "duration": 3086,
    "start_time": "2023-06-07T18:30:39.490Z"
   },
   {
    "duration": 28,
    "start_time": "2023-06-07T18:30:42.578Z"
   },
   {
    "duration": 214,
    "start_time": "2023-06-07T18:30:42.608Z"
   },
   {
    "duration": 55,
    "start_time": "2023-06-07T18:31:02.456Z"
   },
   {
    "duration": 1720,
    "start_time": "2023-06-07T18:31:13.193Z"
   },
   {
    "duration": 4325,
    "start_time": "2023-06-07T18:31:14.916Z"
   },
   {
    "duration": 1781,
    "start_time": "2023-06-07T18:31:22.745Z"
   },
   {
    "duration": 1722,
    "start_time": "2023-06-07T18:31:58.864Z"
   },
   {
    "duration": 2165,
    "start_time": "2023-06-07T18:32:00.589Z"
   },
   {
    "duration": 3127,
    "start_time": "2023-06-07T18:32:02.756Z"
   },
   {
    "duration": 28,
    "start_time": "2023-06-07T18:32:05.885Z"
   },
   {
    "duration": 204,
    "start_time": "2023-06-07T18:32:05.916Z"
   },
   {
    "duration": 1838,
    "start_time": "2023-06-07T18:32:54.970Z"
   },
   {
    "duration": 4749,
    "start_time": "2023-06-07T18:32:56.810Z"
   },
   {
    "duration": 3105,
    "start_time": "2023-06-07T18:33:01.560Z"
   },
   {
    "duration": 24,
    "start_time": "2023-06-07T18:33:04.666Z"
   },
   {
    "duration": 207,
    "start_time": "2023-06-07T18:33:04.692Z"
   },
   {
    "duration": 9,
    "start_time": "2023-06-07T18:33:04.900Z"
   },
   {
    "duration": 190,
    "start_time": "2023-06-07T18:33:04.910Z"
   },
   {
    "duration": 0,
    "start_time": "2023-06-07T18:33:05.106Z"
   },
   {
    "duration": 0,
    "start_time": "2023-06-07T18:33:05.106Z"
   },
   {
    "duration": 0,
    "start_time": "2023-06-07T18:33:05.108Z"
   },
   {
    "duration": 0,
    "start_time": "2023-06-07T18:33:05.109Z"
   },
   {
    "duration": 0,
    "start_time": "2023-06-07T18:33:05.110Z"
   },
   {
    "duration": 0,
    "start_time": "2023-06-07T18:33:05.110Z"
   },
   {
    "duration": 0,
    "start_time": "2023-06-07T18:33:05.111Z"
   },
   {
    "duration": 0,
    "start_time": "2023-06-07T18:33:05.113Z"
   },
   {
    "duration": 0,
    "start_time": "2023-06-07T18:33:05.113Z"
   },
   {
    "duration": 0,
    "start_time": "2023-06-07T18:33:05.114Z"
   },
   {
    "duration": 0,
    "start_time": "2023-06-07T18:33:05.115Z"
   },
   {
    "duration": 60,
    "start_time": "2023-06-07T18:33:22.388Z"
   },
   {
    "duration": 49,
    "start_time": "2023-06-07T18:35:09.080Z"
   },
   {
    "duration": 3,
    "start_time": "2023-06-07T18:50:16.849Z"
   },
   {
    "duration": 10,
    "start_time": "2023-06-07T18:50:18.650Z"
   },
   {
    "duration": 935,
    "start_time": "2023-06-07T18:50:21.799Z"
   },
   {
    "duration": 39,
    "start_time": "2023-06-07T18:50:22.754Z"
   },
   {
    "duration": 209,
    "start_time": "2023-06-07T18:50:25.158Z"
   },
   {
    "duration": 23,
    "start_time": "2023-06-07T18:50:31.629Z"
   },
   {
    "duration": 1642,
    "start_time": "2023-06-07T18:50:35.329Z"
   },
   {
    "duration": 336,
    "start_time": "2023-06-07T18:51:02.271Z"
   },
   {
    "duration": 6,
    "start_time": "2023-06-07T19:24:11.823Z"
   },
   {
    "duration": 712,
    "start_time": "2023-06-07T19:24:58.517Z"
   },
   {
    "duration": 4,
    "start_time": "2023-06-07T19:25:20.471Z"
   },
   {
    "duration": 4,
    "start_time": "2023-06-07T19:28:47.970Z"
   },
   {
    "duration": 5650,
    "start_time": "2023-06-07T19:28:49.999Z"
   },
   {
    "duration": 20,
    "start_time": "2023-06-07T19:28:59.104Z"
   },
   {
    "duration": 39,
    "start_time": "2023-06-07T19:29:10.406Z"
   },
   {
    "duration": 236,
    "start_time": "2023-06-07T19:29:11.559Z"
   },
   {
    "duration": 14,
    "start_time": "2023-06-07T19:29:22.918Z"
   },
   {
    "duration": 7,
    "start_time": "2023-06-07T19:29:42.879Z"
   },
   {
    "duration": 56,
    "start_time": "2023-06-07T19:29:48.722Z"
   },
   {
    "duration": 3,
    "start_time": "2023-06-07T19:30:23.449Z"
   },
   {
    "duration": 48,
    "start_time": "2023-06-07T19:30:26.304Z"
   },
   {
    "duration": 3,
    "start_time": "2023-06-07T19:30:44.930Z"
   },
   {
    "duration": 3314,
    "start_time": "2023-06-07T19:30:46.413Z"
   },
   {
    "duration": 10,
    "start_time": "2023-06-07T19:30:49.728Z"
   },
   {
    "duration": 31,
    "start_time": "2023-06-07T19:30:49.740Z"
   },
   {
    "duration": 198,
    "start_time": "2023-06-07T19:30:49.773Z"
   },
   {
    "duration": 10,
    "start_time": "2023-06-07T19:30:51.183Z"
   },
   {
    "duration": 61,
    "start_time": "2023-06-07T19:30:53.846Z"
   },
   {
    "duration": 5,
    "start_time": "2023-06-07T19:31:32.957Z"
   },
   {
    "duration": 724,
    "start_time": "2023-06-07T19:31:35.864Z"
   },
   {
    "duration": 3,
    "start_time": "2023-06-07T19:33:11.877Z"
   },
   {
    "duration": 4,
    "start_time": "2023-06-07T19:33:13.077Z"
   },
   {
    "duration": 261,
    "start_time": "2023-06-07T19:33:16.829Z"
   },
   {
    "duration": 24,
    "start_time": "2023-06-07T19:33:22.567Z"
   },
   {
    "duration": 28,
    "start_time": "2023-06-07T19:33:29.013Z"
   },
   {
    "duration": 5,
    "start_time": "2023-06-07T19:33:34.991Z"
   },
   {
    "duration": 5,
    "start_time": "2023-06-07T19:33:40.144Z"
   },
   {
    "duration": 5,
    "start_time": "2023-06-07T19:35:22.323Z"
   },
   {
    "duration": 11121,
    "start_time": "2023-06-07T19:48:00.238Z"
   },
   {
    "duration": 0,
    "start_time": "2023-06-07T19:48:11.361Z"
   },
   {
    "duration": 1579,
    "start_time": "2023-06-07T19:48:38.086Z"
   },
   {
    "duration": 28654,
    "start_time": "2023-06-07T19:48:46.317Z"
   },
   {
    "duration": 159,
    "start_time": "2023-06-07T19:49:24.488Z"
   },
   {
    "duration": 203,
    "start_time": "2023-06-07T19:58:11.518Z"
   },
   {
    "duration": 4,
    "start_time": "2023-06-07T19:58:53.027Z"
   },
   {
    "duration": 13468,
    "start_time": "2023-06-07T19:58:56.994Z"
   },
   {
    "duration": 51,
    "start_time": "2023-06-07T19:59:28.563Z"
   },
   {
    "duration": 47,
    "start_time": "2023-06-07T19:59:31.308Z"
   },
   {
    "duration": 2,
    "start_time": "2023-06-07T19:59:59.492Z"
   },
   {
    "duration": 6025,
    "start_time": "2023-06-07T20:01:33.747Z"
   },
   {
    "duration": 2,
    "start_time": "2023-06-07T20:01:43.890Z"
   },
   {
    "duration": 68,
    "start_time": "2023-06-07T20:04:49.813Z"
   },
   {
    "duration": 3,
    "start_time": "2023-06-07T20:05:05.593Z"
   },
   {
    "duration": 14746,
    "start_time": "2023-06-07T20:05:05.598Z"
   },
   {
    "duration": 3125,
    "start_time": "2023-06-07T20:05:20.346Z"
   },
   {
    "duration": 9,
    "start_time": "2023-06-07T20:05:23.472Z"
   },
   {
    "duration": 39,
    "start_time": "2023-06-07T20:05:23.483Z"
   },
   {
    "duration": 208,
    "start_time": "2023-06-07T20:05:23.524Z"
   },
   {
    "duration": 10,
    "start_time": "2023-06-07T20:05:23.734Z"
   },
   {
    "duration": 1480,
    "start_time": "2023-06-07T20:05:23.745Z"
   },
   {
    "duration": 3,
    "start_time": "2023-06-07T20:05:25.226Z"
   },
   {
    "duration": 34,
    "start_time": "2023-06-07T20:05:25.230Z"
   },
   {
    "duration": 187,
    "start_time": "2023-06-07T20:05:25.265Z"
   },
   {
    "duration": 6,
    "start_time": "2023-06-07T20:05:25.453Z"
   },
   {
    "duration": 18,
    "start_time": "2023-06-07T20:05:25.460Z"
   },
   {
    "duration": 4,
    "start_time": "2023-06-07T20:05:25.480Z"
   },
   {
    "duration": 5,
    "start_time": "2023-06-07T20:05:25.486Z"
   },
   {
    "duration": 12301,
    "start_time": "2023-06-07T20:05:25.493Z"
   },
   {
    "duration": 2,
    "start_time": "2023-06-07T20:05:37.796Z"
   },
   {
    "duration": 3,
    "start_time": "2023-06-07T20:16:09.602Z"
   },
   {
    "duration": 14884,
    "start_time": "2023-06-07T20:16:09.607Z"
   },
   {
    "duration": 3103,
    "start_time": "2023-06-07T20:16:24.492Z"
   },
   {
    "duration": 11,
    "start_time": "2023-06-07T20:16:27.597Z"
   },
   {
    "duration": 40,
    "start_time": "2023-06-07T20:16:27.610Z"
   },
   {
    "duration": 195,
    "start_time": "2023-06-07T20:16:27.652Z"
   },
   {
    "duration": 9,
    "start_time": "2023-06-07T20:16:27.848Z"
   },
   {
    "duration": 1335,
    "start_time": "2023-06-07T20:16:27.858Z"
   },
   {
    "duration": 12,
    "start_time": "2023-06-07T20:16:29.195Z"
   },
   {
    "duration": 12,
    "start_time": "2023-06-07T20:16:29.208Z"
   },
   {
    "duration": 251,
    "start_time": "2023-06-07T20:16:29.222Z"
   },
   {
    "duration": 4,
    "start_time": "2023-06-07T20:16:29.475Z"
   },
   {
    "duration": 11,
    "start_time": "2023-06-07T20:16:29.481Z"
   },
   {
    "duration": 6,
    "start_time": "2023-06-07T20:16:29.493Z"
   },
   {
    "duration": 13,
    "start_time": "2023-06-07T20:16:29.500Z"
   },
   {
    "duration": 12202,
    "start_time": "2023-06-07T20:16:29.514Z"
   },
   {
    "duration": 1,
    "start_time": "2023-06-07T20:16:41.718Z"
   },
   {
    "duration": 22,
    "start_time": "2023-06-07T20:16:41.721Z"
   },
   {
    "duration": 348,
    "start_time": "2023-06-07T20:16:41.744Z"
   },
   {
    "duration": 20,
    "start_time": "2023-06-07T20:19:49.167Z"
   },
   {
    "duration": 68,
    "start_time": "2023-06-07T20:19:54.756Z"
   },
   {
    "duration": 4,
    "start_time": "2023-06-07T20:20:22.996Z"
   },
   {
    "duration": 3450,
    "start_time": "2023-06-07T20:20:23.001Z"
   },
   {
    "duration": 683,
    "start_time": "2023-06-07T20:20:26.453Z"
   },
   {
    "duration": 8,
    "start_time": "2023-06-07T20:20:27.138Z"
   },
   {
    "duration": 32,
    "start_time": "2023-06-07T20:20:27.147Z"
   },
   {
    "duration": 195,
    "start_time": "2023-06-07T20:20:27.180Z"
   },
   {
    "duration": 9,
    "start_time": "2023-06-07T20:20:27.376Z"
   },
   {
    "duration": 1307,
    "start_time": "2023-06-07T20:20:27.386Z"
   },
   {
    "duration": 3,
    "start_time": "2023-06-07T20:20:28.705Z"
   },
   {
    "duration": 11,
    "start_time": "2023-06-07T20:20:28.709Z"
   },
   {
    "duration": 183,
    "start_time": "2023-06-07T20:20:28.721Z"
   },
   {
    "duration": 6,
    "start_time": "2023-06-07T20:20:28.905Z"
   },
   {
    "duration": 11,
    "start_time": "2023-06-07T20:20:28.912Z"
   },
   {
    "duration": 11,
    "start_time": "2023-06-07T20:20:28.924Z"
   },
   {
    "duration": 6,
    "start_time": "2023-06-07T20:20:28.936Z"
   },
   {
    "duration": 5380,
    "start_time": "2023-06-07T20:20:28.943Z"
   },
   {
    "duration": 2,
    "start_time": "2023-06-07T20:20:34.325Z"
   },
   {
    "duration": 46,
    "start_time": "2023-06-07T20:25:29.026Z"
   },
   {
    "duration": 40,
    "start_time": "2023-06-07T20:29:59.023Z"
   },
   {
    "duration": 12987,
    "start_time": "2023-06-08T18:04:25.589Z"
   },
   {
    "duration": 0,
    "start_time": "2023-06-08T18:04:38.584Z"
   },
   {
    "duration": 43,
    "start_time": "2023-06-08T18:04:44.595Z"
   },
   {
    "duration": 9,
    "start_time": "2023-06-08T18:05:39.480Z"
   },
   {
    "duration": 7,
    "start_time": "2023-06-08T18:05:44.896Z"
   },
   {
    "duration": 5267,
    "start_time": "2023-06-08T18:05:48.165Z"
   },
   {
    "duration": 19,
    "start_time": "2023-06-08T18:05:56.590Z"
   },
   {
    "duration": 83,
    "start_time": "2023-06-08T18:05:59.567Z"
   },
   {
    "duration": 389,
    "start_time": "2023-06-08T18:06:01.507Z"
   },
   {
    "duration": 18,
    "start_time": "2023-06-08T18:06:04.777Z"
   },
   {
    "duration": 45,
    "start_time": "2023-06-08T18:06:12.070Z"
   },
   {
    "duration": 47,
    "start_time": "2023-06-08T18:06:45.769Z"
   },
   {
    "duration": 645,
    "start_time": "2023-06-08T18:07:16.369Z"
   },
   {
    "duration": 53,
    "start_time": "2023-06-08T18:29:14.184Z"
   },
   {
    "duration": 3178,
    "start_time": "2023-06-08T18:29:30.034Z"
   },
   {
    "duration": 327,
    "start_time": "2023-06-08T18:31:27.566Z"
   },
   {
    "duration": 518,
    "start_time": "2023-06-08T18:32:15.841Z"
   },
   {
    "duration": 418,
    "start_time": "2023-06-08T18:44:00.074Z"
   },
   {
    "duration": 1056,
    "start_time": "2023-06-08T18:44:28.066Z"
   },
   {
    "duration": 6,
    "start_time": "2023-06-08T18:51:54.385Z"
   },
   {
    "duration": 1109,
    "start_time": "2023-06-08T18:52:02.219Z"
   },
   {
    "duration": 730,
    "start_time": "2023-06-08T18:53:24.503Z"
   },
   {
    "duration": 5131,
    "start_time": "2023-06-08T18:53:49.862Z"
   },
   {
    "duration": 5647,
    "start_time": "2023-06-08T18:56:02.136Z"
   },
   {
    "duration": 3904,
    "start_time": "2023-06-08T18:56:17.421Z"
   },
   {
    "duration": 16,
    "start_time": "2023-06-08T18:56:21.327Z"
   },
   {
    "duration": 47,
    "start_time": "2023-06-08T18:56:25.882Z"
   },
   {
    "duration": 318,
    "start_time": "2023-06-08T18:56:26.574Z"
   },
   {
    "duration": 16,
    "start_time": "2023-06-08T18:56:29.321Z"
   },
   {
    "duration": 6116,
    "start_time": "2023-06-08T18:56:32.887Z"
   },
   {
    "duration": 161,
    "start_time": "2023-06-08T19:02:52.880Z"
   },
   {
    "duration": 5610,
    "start_time": "2023-06-08T19:03:10.208Z"
   },
   {
    "duration": 27,
    "start_time": "2023-06-08T19:04:43.308Z"
   },
   {
    "duration": 5,
    "start_time": "2023-06-08T19:06:21.944Z"
   },
   {
    "duration": 13,
    "start_time": "2023-06-08T19:06:23.861Z"
   },
   {
    "duration": 60,
    "start_time": "2023-06-08T19:06:27.969Z"
   },
   {
    "duration": 43,
    "start_time": "2023-06-08T19:07:25.418Z"
   },
   {
    "duration": 37,
    "start_time": "2023-06-08T19:09:06.517Z"
   },
   {
    "duration": 30,
    "start_time": "2023-06-08T19:09:23.172Z"
   },
   {
    "duration": 39,
    "start_time": "2023-06-08T19:10:42.062Z"
   },
   {
    "duration": 18,
    "start_time": "2023-06-08T19:10:51.386Z"
   },
   {
    "duration": 7040,
    "start_time": "2023-06-08T19:12:08.079Z"
   },
   {
    "duration": 5256,
    "start_time": "2023-06-08T19:12:48.160Z"
   },
   {
    "duration": 121,
    "start_time": "2023-06-08T19:17:09.371Z"
   },
   {
    "duration": 113,
    "start_time": "2023-06-08T19:17:38.600Z"
   },
   {
    "duration": 142,
    "start_time": "2023-06-08T19:18:14.667Z"
   },
   {
    "duration": 167,
    "start_time": "2023-06-08T19:18:22.697Z"
   },
   {
    "duration": 4933,
    "start_time": "2023-06-08T19:18:39.198Z"
   },
   {
    "duration": 649,
    "start_time": "2023-06-08T19:20:13.868Z"
   },
   {
    "duration": 115,
    "start_time": "2023-06-08T19:21:16.510Z"
   },
   {
    "duration": 5090,
    "start_time": "2023-06-08T19:21:30.218Z"
   },
   {
    "duration": 31,
    "start_time": "2023-06-08T19:23:16.115Z"
   },
   {
    "duration": 11,
    "start_time": "2023-06-08T19:24:45.672Z"
   },
   {
    "duration": 28,
    "start_time": "2023-06-08T19:25:27.290Z"
   },
   {
    "duration": 5,
    "start_time": "2023-06-08T19:25:34.012Z"
   },
   {
    "duration": 913,
    "start_time": "2023-06-08T19:26:44.821Z"
   },
   {
    "duration": 1086,
    "start_time": "2023-06-08T19:27:27.486Z"
   },
   {
    "duration": 1019,
    "start_time": "2023-06-08T19:27:52.468Z"
   },
   {
    "duration": 6459,
    "start_time": "2023-06-08T19:28:26.913Z"
   },
   {
    "duration": 1258,
    "start_time": "2023-06-08T19:31:04.267Z"
   },
   {
    "duration": 6407,
    "start_time": "2023-06-08T19:31:29.215Z"
   },
   {
    "duration": 12,
    "start_time": "2023-06-08T19:35:17.138Z"
   },
   {
    "duration": 64,
    "start_time": "2023-06-08T19:36:08.511Z"
   },
   {
    "duration": 32,
    "start_time": "2023-06-08T19:36:33.639Z"
   },
   {
    "duration": 13,
    "start_time": "2023-06-08T19:37:02.227Z"
   },
   {
    "duration": 21,
    "start_time": "2023-06-08T19:37:12.760Z"
   },
   {
    "duration": 7,
    "start_time": "2023-06-08T19:37:44.251Z"
   },
   {
    "duration": 53,
    "start_time": "2023-06-08T19:38:25.167Z"
   },
   {
    "duration": 5,
    "start_time": "2023-06-08T19:38:38.179Z"
   },
   {
    "duration": 12,
    "start_time": "2023-06-08T19:38:42.867Z"
   },
   {
    "duration": 492,
    "start_time": "2023-06-08T19:43:16.162Z"
   },
   {
    "duration": 558,
    "start_time": "2023-06-08T19:43:32.867Z"
   },
   {
    "duration": 678,
    "start_time": "2023-06-08T19:43:59.223Z"
   },
   {
    "duration": 47012,
    "start_time": "2023-06-08T19:44:18.814Z"
   },
   {
    "duration": 5,
    "start_time": "2023-06-08T19:46:30.499Z"
   },
   {
    "duration": 26108,
    "start_time": "2023-06-08T19:51:34.119Z"
   },
   {
    "duration": 48917,
    "start_time": "2023-06-08T19:52:16.838Z"
   },
   {
    "duration": 3,
    "start_time": "2023-06-08T19:53:17.119Z"
   },
   {
    "duration": 39918,
    "start_time": "2023-06-08T19:53:17.138Z"
   },
   {
    "duration": 3746,
    "start_time": "2023-06-08T19:53:57.062Z"
   },
   {
    "duration": 13,
    "start_time": "2023-06-08T19:54:00.810Z"
   },
   {
    "duration": 106,
    "start_time": "2023-06-08T19:54:00.825Z"
   },
   {
    "duration": 284,
    "start_time": "2023-06-08T19:54:00.934Z"
   },
   {
    "duration": 23,
    "start_time": "2023-06-08T19:54:01.220Z"
   },
   {
    "duration": 7303,
    "start_time": "2023-06-08T19:54:01.245Z"
   },
   {
    "duration": 29,
    "start_time": "2023-06-08T19:54:08.550Z"
   },
   {
    "duration": 31,
    "start_time": "2023-06-08T19:54:08.580Z"
   },
   {
    "duration": 62,
    "start_time": "2023-06-08T19:54:08.613Z"
   },
   {
    "duration": 452,
    "start_time": "2023-06-08T19:54:08.684Z"
   },
   {
    "duration": 0,
    "start_time": "2023-06-08T19:54:09.137Z"
   },
   {
    "duration": 0,
    "start_time": "2023-06-08T19:54:09.139Z"
   },
   {
    "duration": 0,
    "start_time": "2023-06-08T19:54:09.140Z"
   },
   {
    "duration": 0,
    "start_time": "2023-06-08T19:54:09.143Z"
   },
   {
    "duration": 0,
    "start_time": "2023-06-08T19:54:09.144Z"
   },
   {
    "duration": 0,
    "start_time": "2023-06-08T19:54:09.149Z"
   },
   {
    "duration": 0,
    "start_time": "2023-06-08T19:54:09.150Z"
   },
   {
    "duration": 100,
    "start_time": "2023-06-08T19:56:13.585Z"
   },
   {
    "duration": 559,
    "start_time": "2023-06-08T19:56:23.179Z"
   },
   {
    "duration": 9,
    "start_time": "2023-06-08T19:57:17.386Z"
   },
   {
    "duration": 23131,
    "start_time": "2023-06-08T19:57:17.400Z"
   },
   {
    "duration": 948,
    "start_time": "2023-06-08T19:57:40.533Z"
   },
   {
    "duration": 19,
    "start_time": "2023-06-08T19:57:41.490Z"
   },
   {
    "duration": 59,
    "start_time": "2023-06-08T19:57:41.511Z"
   },
   {
    "duration": 285,
    "start_time": "2023-06-08T19:57:41.573Z"
   },
   {
    "duration": 13,
    "start_time": "2023-06-08T19:57:41.860Z"
   },
   {
    "duration": 7009,
    "start_time": "2023-06-08T19:57:41.874Z"
   },
   {
    "duration": 516,
    "start_time": "2023-06-08T19:57:48.890Z"
   },
   {
    "duration": 3,
    "start_time": "2023-06-08T19:57:49.408Z"
   },
   {
    "duration": 9,
    "start_time": "2023-06-08T19:57:49.412Z"
   },
   {
    "duration": 70,
    "start_time": "2023-06-08T19:57:49.443Z"
   },
   {
    "duration": 8,
    "start_time": "2023-06-08T19:57:49.515Z"
   },
   {
    "duration": 69,
    "start_time": "2023-06-08T19:57:49.524Z"
   },
   {
    "duration": 364,
    "start_time": "2023-06-08T19:57:49.596Z"
   },
   {
    "duration": 0,
    "start_time": "2023-06-08T19:57:49.962Z"
   },
   {
    "duration": 0,
    "start_time": "2023-06-08T19:57:49.964Z"
   },
   {
    "duration": 0,
    "start_time": "2023-06-08T19:57:49.966Z"
   },
   {
    "duration": 0,
    "start_time": "2023-06-08T19:57:49.967Z"
   },
   {
    "duration": 3,
    "start_time": "2023-06-11T10:44:10.998Z"
   },
   {
    "duration": 4325,
    "start_time": "2023-06-11T10:44:11.003Z"
   },
   {
    "duration": 2936,
    "start_time": "2023-06-11T10:44:15.330Z"
   },
   {
    "duration": 8,
    "start_time": "2023-06-11T10:44:18.268Z"
   },
   {
    "duration": 50,
    "start_time": "2023-06-11T10:44:18.277Z"
   },
   {
    "duration": 209,
    "start_time": "2023-06-11T10:44:18.328Z"
   },
   {
    "duration": 9,
    "start_time": "2023-06-11T10:44:18.538Z"
   },
   {
    "duration": 4214,
    "start_time": "2023-06-11T10:44:18.549Z"
   },
   {
    "duration": 427,
    "start_time": "2023-06-11T10:44:22.765Z"
   },
   {
    "duration": 2,
    "start_time": "2023-06-11T10:44:23.194Z"
   },
   {
    "duration": 7,
    "start_time": "2023-06-11T10:44:23.205Z"
   },
   {
    "duration": 57,
    "start_time": "2023-06-11T10:44:23.213Z"
   },
   {
    "duration": 8,
    "start_time": "2023-06-11T10:44:23.271Z"
   },
   {
    "duration": 30,
    "start_time": "2023-06-11T10:44:23.280Z"
   },
   {
    "duration": 269,
    "start_time": "2023-06-11T10:44:23.311Z"
   },
   {
    "duration": 0,
    "start_time": "2023-06-11T10:44:23.582Z"
   },
   {
    "duration": 0,
    "start_time": "2023-06-11T10:44:23.583Z"
   },
   {
    "duration": 0,
    "start_time": "2023-06-11T10:44:23.584Z"
   },
   {
    "duration": 0,
    "start_time": "2023-06-11T10:44:23.585Z"
   },
   {
    "duration": 0,
    "start_time": "2023-06-11T10:44:23.586Z"
   },
   {
    "duration": 5,
    "start_time": "2023-06-11T10:44:34.208Z"
   },
   {
    "duration": 3599,
    "start_time": "2023-06-11T10:44:34.215Z"
   },
   {
    "duration": 656,
    "start_time": "2023-06-11T10:44:37.815Z"
   },
   {
    "duration": 7,
    "start_time": "2023-06-11T10:44:38.473Z"
   },
   {
    "duration": 34,
    "start_time": "2023-06-11T10:44:38.482Z"
   },
   {
    "duration": 203,
    "start_time": "2023-06-11T10:44:38.518Z"
   },
   {
    "duration": 9,
    "start_time": "2023-06-11T10:44:38.722Z"
   },
   {
    "duration": 4258,
    "start_time": "2023-06-11T10:44:38.732Z"
   },
   {
    "duration": 360,
    "start_time": "2023-06-11T10:44:42.991Z"
   },
   {
    "duration": 3,
    "start_time": "2023-06-11T10:44:43.352Z"
   },
   {
    "duration": 24,
    "start_time": "2023-06-11T10:44:43.357Z"
   },
   {
    "duration": 39,
    "start_time": "2023-06-11T10:44:43.382Z"
   },
   {
    "duration": 7,
    "start_time": "2023-06-11T10:44:43.422Z"
   },
   {
    "duration": 25,
    "start_time": "2023-06-11T10:44:43.431Z"
   },
   {
    "duration": 287,
    "start_time": "2023-06-11T10:44:43.457Z"
   },
   {
    "duration": 0,
    "start_time": "2023-06-11T10:44:43.746Z"
   },
   {
    "duration": 0,
    "start_time": "2023-06-11T10:44:43.747Z"
   },
   {
    "duration": 0,
    "start_time": "2023-06-11T10:44:43.748Z"
   },
   {
    "duration": 0,
    "start_time": "2023-06-11T10:44:43.749Z"
   },
   {
    "duration": 0,
    "start_time": "2023-06-11T10:44:43.750Z"
   },
   {
    "duration": 15,
    "start_time": "2023-06-11T10:49:51.442Z"
   },
   {
    "duration": 4,
    "start_time": "2023-06-11T10:50:50.256Z"
   },
   {
    "duration": 15,
    "start_time": "2023-06-11T10:50:57.247Z"
   },
   {
    "duration": 17,
    "start_time": "2023-06-11T10:51:41.553Z"
   },
   {
    "duration": 444,
    "start_time": "2023-06-11T10:51:52.806Z"
   },
   {
    "duration": 3,
    "start_time": "2023-06-11T10:56:06.613Z"
   },
   {
    "duration": 66,
    "start_time": "2023-06-11T10:56:10.785Z"
   },
   {
    "duration": 66,
    "start_time": "2023-06-11T11:00:06.275Z"
   },
   {
    "duration": 67,
    "start_time": "2023-06-11T11:00:13.251Z"
   },
   {
    "duration": 94,
    "start_time": "2023-06-11T11:00:19.323Z"
   },
   {
    "duration": 84,
    "start_time": "2023-06-11T11:00:23.839Z"
   },
   {
    "duration": 4,
    "start_time": "2023-06-11T11:00:42.526Z"
   },
   {
    "duration": 3600,
    "start_time": "2023-06-11T11:00:42.547Z"
   },
   {
    "duration": 656,
    "start_time": "2023-06-11T11:00:46.149Z"
   },
   {
    "duration": 9,
    "start_time": "2023-06-11T11:00:46.807Z"
   },
   {
    "duration": 33,
    "start_time": "2023-06-11T11:00:46.817Z"
   },
   {
    "duration": 209,
    "start_time": "2023-06-11T11:00:46.853Z"
   },
   {
    "duration": 2,
    "start_time": "2023-06-11T11:00:47.063Z"
   },
   {
    "duration": 477441,
    "start_time": "2023-06-11T11:00:47.066Z"
   },
   {
    "duration": 285109,
    "start_time": "2023-06-11T11:08:44.508Z"
   },
   {
    "duration": 2,
    "start_time": "2023-06-11T11:13:29.619Z"
   },
   {
    "duration": 38,
    "start_time": "2023-06-11T11:13:29.622Z"
   },
   {
    "duration": 5312,
    "start_time": "2023-06-11T11:13:29.661Z"
   },
   {
    "duration": 572,
    "start_time": "2023-06-11T11:13:34.974Z"
   },
   {
    "duration": 3,
    "start_time": "2023-06-11T11:13:35.548Z"
   },
   {
    "duration": 207370,
    "start_time": "2023-06-11T11:13:35.553Z"
   },
   {
    "duration": 321,
    "start_time": "2023-06-11T11:17:02.925Z"
   },
   {
    "duration": 0,
    "start_time": "2023-06-11T11:17:03.248Z"
   },
   {
    "duration": 0,
    "start_time": "2023-06-11T11:17:03.249Z"
   },
   {
    "duration": 0,
    "start_time": "2023-06-11T11:17:03.250Z"
   },
   {
    "duration": 0,
    "start_time": "2023-06-11T11:17:03.251Z"
   },
   {
    "duration": 51,
    "start_time": "2023-06-11T11:23:31.708Z"
   },
   {
    "duration": 47,
    "start_time": "2023-06-11T11:24:16.247Z"
   },
   {
    "duration": 48,
    "start_time": "2023-06-11T11:24:22.986Z"
   },
   {
    "duration": 25164,
    "start_time": "2023-06-11T11:30:27.494Z"
   },
   {
    "duration": 26293,
    "start_time": "2023-06-11T11:31:29.732Z"
   },
   {
    "duration": 21,
    "start_time": "2023-06-11T11:39:53.217Z"
   },
   {
    "duration": 16,
    "start_time": "2023-06-11T11:43:36.676Z"
   },
   {
    "duration": 0,
    "start_time": "2023-06-11T11:56:20.537Z"
   },
   {
    "duration": 0,
    "start_time": "2023-06-11T11:56:20.538Z"
   },
   {
    "duration": 3,
    "start_time": "2023-06-11T11:56:22.898Z"
   },
   {
    "duration": 42,
    "start_time": "2023-06-11T11:59:30.440Z"
   },
   {
    "duration": 3822,
    "start_time": "2023-06-11T11:59:42.543Z"
   },
   {
    "duration": 3041,
    "start_time": "2023-06-11T11:59:47.600Z"
   },
   {
    "duration": 10,
    "start_time": "2023-06-11T11:59:50.642Z"
   },
   {
    "duration": 30,
    "start_time": "2023-06-11T11:59:53.764Z"
   },
   {
    "duration": 219,
    "start_time": "2023-06-11T11:59:54.542Z"
   },
   {
    "duration": 2,
    "start_time": "2023-06-11T11:59:59.099Z"
   },
   {
    "duration": 473893,
    "start_time": "2023-06-11T12:03:30.576Z"
   },
   {
    "duration": 292560,
    "start_time": "2023-06-11T12:13:52.123Z"
   },
   {
    "duration": 2,
    "start_time": "2023-06-11T12:21:37.394Z"
   },
   {
    "duration": 29,
    "start_time": "2023-06-11T12:21:41.609Z"
   },
   {
    "duration": 3,
    "start_time": "2023-06-11T12:21:49.882Z"
   },
   {
    "duration": 44,
    "start_time": "2023-06-11T12:22:25.121Z"
   },
   {
    "duration": 3901,
    "start_time": "2023-06-11T12:22:40.012Z"
   },
   {
    "duration": 12605,
    "start_time": "2023-06-11T12:22:48.966Z"
   },
   {
    "duration": 2907,
    "start_time": "2023-06-11T12:23:37.579Z"
   },
   {
    "duration": 122382,
    "start_time": "2023-06-11T12:23:44.669Z"
   },
   {
    "duration": 0,
    "start_time": "2023-06-11T12:25:47.053Z"
   },
   {
    "duration": 0,
    "start_time": "2023-06-11T12:25:47.054Z"
   },
   {
    "duration": 3,
    "start_time": "2023-06-11T12:41:57.674Z"
   },
   {
    "duration": 3872,
    "start_time": "2023-06-11T12:41:57.679Z"
   },
   {
    "duration": 682,
    "start_time": "2023-06-11T12:42:01.552Z"
   },
   {
    "duration": 9,
    "start_time": "2023-06-11T12:42:02.236Z"
   },
   {
    "duration": 50,
    "start_time": "2023-06-11T12:42:02.247Z"
   },
   {
    "duration": 220,
    "start_time": "2023-06-11T12:42:02.299Z"
   },
   {
    "duration": 5,
    "start_time": "2023-06-11T12:42:02.522Z"
   },
   {
    "duration": 487649,
    "start_time": "2023-06-11T12:42:02.528Z"
   },
   {
    "duration": 288534,
    "start_time": "2023-06-11T12:50:10.178Z"
   },
   {
    "duration": 2,
    "start_time": "2023-06-11T12:54:58.714Z"
   },
   {
    "duration": 35,
    "start_time": "2023-06-11T12:54:58.718Z"
   },
   {
    "duration": 5487,
    "start_time": "2023-06-11T12:54:58.755Z"
   },
   {
    "duration": 621,
    "start_time": "2023-06-11T12:55:04.244Z"
   },
   {
    "duration": 3,
    "start_time": "2023-06-11T12:55:04.868Z"
   },
   {
    "duration": 222945,
    "start_time": "2023-06-11T12:55:04.872Z"
   },
   {
    "duration": 49,
    "start_time": "2023-06-11T12:58:47.818Z"
   },
   {
    "duration": 31467,
    "start_time": "2023-06-11T12:58:47.869Z"
   },
   {
    "duration": 3,
    "start_time": "2023-06-11T12:59:19.338Z"
   },
   {
    "duration": 1591,
    "start_time": "2023-06-11T12:59:19.343Z"
   },
   {
    "duration": 0,
    "start_time": "2023-06-11T12:59:20.936Z"
   },
   {
    "duration": 0,
    "start_time": "2023-06-11T12:59:20.937Z"
   },
   {
    "duration": 0,
    "start_time": "2023-06-11T12:59:20.939Z"
   },
   {
    "duration": 0,
    "start_time": "2023-06-11T12:59:20.940Z"
   },
   {
    "duration": 0,
    "start_time": "2023-06-11T12:59:20.941Z"
   },
   {
    "duration": 0,
    "start_time": "2023-06-11T12:59:20.942Z"
   },
   {
    "duration": 0,
    "start_time": "2023-06-11T12:59:20.943Z"
   },
   {
    "duration": 0,
    "start_time": "2023-06-11T12:59:20.944Z"
   },
   {
    "duration": 16,
    "start_time": "2023-06-11T13:11:44.147Z"
   },
   {
    "duration": 1375,
    "start_time": "2023-06-11T13:12:53.955Z"
   },
   {
    "duration": 5,
    "start_time": "2023-06-11T13:16:22.254Z"
   },
   {
    "duration": 9384,
    "start_time": "2023-06-11T13:16:25.925Z"
   },
   {
    "duration": 9572,
    "start_time": "2023-06-11T13:17:54.763Z"
   },
   {
    "duration": 4,
    "start_time": "2023-06-11T13:18:29.168Z"
   },
   {
    "duration": 13849,
    "start_time": "2023-06-11T13:18:35.261Z"
   },
   {
    "duration": 120,
    "start_time": "2023-06-11T13:21:39.715Z"
   },
   {
    "duration": 2949,
    "start_time": "2023-06-11T13:23:43.216Z"
   },
   {
    "duration": 2883,
    "start_time": "2023-06-11T13:24:10.466Z"
   },
   {
    "duration": 17,
    "start_time": "2023-06-11T13:24:22.918Z"
   },
   {
    "duration": 59,
    "start_time": "2023-06-11T13:24:44.957Z"
   },
   {
    "duration": 7,
    "start_time": "2023-06-11T13:24:56.725Z"
   },
   {
    "duration": 52748,
    "start_time": "2023-06-11T13:25:03.728Z"
   },
   {
    "duration": 69,
    "start_time": "2023-06-11T13:27:10.558Z"
   },
   {
    "duration": 664,
    "start_time": "2023-06-11T13:27:54.624Z"
   },
   {
    "duration": 18,
    "start_time": "2023-06-11T13:28:04.661Z"
   },
   {
    "duration": 17,
    "start_time": "2023-06-11T13:28:28.084Z"
   },
   {
    "duration": 763,
    "start_time": "2023-06-11T13:28:38.513Z"
   },
   {
    "duration": 195477,
    "start_time": "2023-06-11T13:28:59.376Z"
   },
   {
    "duration": 2,
    "start_time": "2023-06-11T13:32:29.957Z"
   },
   {
    "duration": 41,
    "start_time": "2023-06-11T13:33:23.538Z"
   },
   {
    "duration": 4239,
    "start_time": "2023-06-11T13:33:32.028Z"
   },
   {
    "duration": 3045,
    "start_time": "2023-06-11T13:33:41.765Z"
   },
   {
    "duration": 8,
    "start_time": "2023-06-11T13:34:00.185Z"
   },
   {
    "duration": 13896,
    "start_time": "2023-06-11T13:34:03.112Z"
   },
   {
    "duration": 2,
    "start_time": "2023-06-11T13:34:23.065Z"
   },
   {
    "duration": 41,
    "start_time": "2023-06-11T13:36:41.313Z"
   },
   {
    "duration": 4323,
    "start_time": "2023-06-11T13:36:48.084Z"
   },
   {
    "duration": 5,
    "start_time": "2023-06-11T13:36:58.408Z"
   },
   {
    "duration": 3110,
    "start_time": "2023-06-11T13:37:00.213Z"
   },
   {
    "duration": 11,
    "start_time": "2023-06-11T13:37:18.861Z"
   },
   {
    "duration": 14512,
    "start_time": "2023-06-11T13:37:21.982Z"
   },
   {
    "duration": 3,
    "start_time": "2023-06-11T13:37:38.556Z"
   },
   {
    "duration": 48,
    "start_time": "2023-06-11T13:38:49.220Z"
   },
   {
    "duration": 4423,
    "start_time": "2023-06-11T13:38:56.224Z"
   },
   {
    "duration": 2970,
    "start_time": "2023-06-11T13:39:04.400Z"
   },
   {
    "duration": 7,
    "start_time": "2023-06-11T13:39:19.329Z"
   },
   {
    "duration": 13050,
    "start_time": "2023-06-11T13:39:21.077Z"
   },
   {
    "duration": 2,
    "start_time": "2023-06-11T13:39:36.477Z"
   },
   {
    "duration": 3,
    "start_time": "2023-06-11T13:40:29.508Z"
   },
   {
    "duration": 2,
    "start_time": "2023-06-11T13:40:44.770Z"
   },
   {
    "duration": 57,
    "start_time": "2023-06-11T13:44:37.074Z"
   },
   {
    "duration": 25291,
    "start_time": "2023-06-13T12:33:44.670Z"
   },
   {
    "duration": 4657,
    "start_time": "2023-06-13T12:34:09.964Z"
   },
   {
    "duration": 11,
    "start_time": "2023-06-13T12:34:14.623Z"
   },
   {
    "duration": 52,
    "start_time": "2023-06-13T12:34:14.636Z"
   },
   {
    "duration": 255,
    "start_time": "2023-06-13T12:34:14.690Z"
   },
   {
    "duration": 6,
    "start_time": "2023-06-13T12:34:14.946Z"
   },
   {
    "duration": 674952,
    "start_time": "2023-06-13T12:34:14.953Z"
   },
   {
    "duration": 475370,
    "start_time": "2023-06-13T12:45:29.906Z"
   },
   {
    "duration": 6,
    "start_time": "2023-06-13T12:53:25.278Z"
   },
   {
    "duration": 59,
    "start_time": "2023-06-13T12:53:25.295Z"
   },
   {
    "duration": 7054,
    "start_time": "2023-06-13T12:53:25.355Z"
   },
   {
    "duration": 759,
    "start_time": "2023-06-13T12:53:32.412Z"
   },
   {
    "duration": 3,
    "start_time": "2023-06-13T12:53:33.173Z"
   },
   {
    "duration": 8,
    "start_time": "2023-06-13T12:53:33.178Z"
   },
   {
    "duration": 5,
    "start_time": "2023-06-13T12:53:33.187Z"
   },
   {
    "duration": 366,
    "start_time": "2023-06-13T12:53:33.194Z"
   },
   {
    "duration": 0,
    "start_time": "2023-06-13T12:53:33.561Z"
   },
   {
    "duration": 0,
    "start_time": "2023-06-13T12:53:33.562Z"
   },
   {
    "duration": 0,
    "start_time": "2023-06-13T12:53:33.563Z"
   },
   {
    "duration": 0,
    "start_time": "2023-06-13T12:53:33.564Z"
   },
   {
    "duration": 0,
    "start_time": "2023-06-13T12:53:33.565Z"
   },
   {
    "duration": 0,
    "start_time": "2023-06-13T12:53:33.566Z"
   },
   {
    "duration": 0,
    "start_time": "2023-06-13T12:53:33.567Z"
   },
   {
    "duration": 0,
    "start_time": "2023-06-13T12:53:33.568Z"
   },
   {
    "duration": 0,
    "start_time": "2023-06-13T12:53:33.569Z"
   },
   {
    "duration": 0,
    "start_time": "2023-06-13T12:53:33.569Z"
   },
   {
    "duration": 0,
    "start_time": "2023-06-13T12:53:33.570Z"
   },
   {
    "duration": 0,
    "start_time": "2023-06-13T12:53:33.571Z"
   },
   {
    "duration": 0,
    "start_time": "2023-06-13T12:53:33.572Z"
   },
   {
    "duration": 0,
    "start_time": "2023-06-13T12:53:33.574Z"
   },
   {
    "duration": 0,
    "start_time": "2023-06-13T12:53:33.575Z"
   },
   {
    "duration": 0,
    "start_time": "2023-06-13T12:53:33.577Z"
   },
   {
    "duration": 0,
    "start_time": "2023-06-13T12:53:33.578Z"
   },
   {
    "duration": 0,
    "start_time": "2023-06-13T12:53:33.579Z"
   },
   {
    "duration": 0,
    "start_time": "2023-06-13T12:53:33.580Z"
   },
   {
    "duration": 16,
    "start_time": "2023-06-13T12:59:22.899Z"
   },
   {
    "duration": 19,
    "start_time": "2023-06-13T12:59:35.099Z"
   },
   {
    "duration": 23,
    "start_time": "2023-06-13T12:59:44.791Z"
   },
   {
    "duration": 17,
    "start_time": "2023-06-13T13:00:19.439Z"
   },
   {
    "duration": 28,
    "start_time": "2023-06-13T13:00:32.341Z"
   },
   {
    "duration": 20,
    "start_time": "2023-06-13T13:00:57.220Z"
   },
   {
    "duration": 18,
    "start_time": "2023-06-13T13:01:23.023Z"
   },
   {
    "duration": 17,
    "start_time": "2023-06-13T13:04:05.745Z"
   },
   {
    "duration": 3,
    "start_time": "2023-06-13T13:04:10.285Z"
   },
   {
    "duration": 298557,
    "start_time": "2023-06-13T13:04:11.227Z"
   },
   {
    "duration": 4,
    "start_time": "2023-06-13T13:10:54.487Z"
   },
   {
    "duration": 4,
    "start_time": "2023-06-13T13:11:01.801Z"
   },
   {
    "duration": 67,
    "start_time": "2023-06-13T13:11:04.893Z"
   },
   {
    "duration": 4,
    "start_time": "2023-06-13T13:11:13.447Z"
   },
   {
    "duration": 31141,
    "start_time": "2023-06-13T13:22:18.244Z"
   },
   {
    "duration": 3,
    "start_time": "2023-06-13T13:23:58.198Z"
   },
   {
    "duration": 550178,
    "start_time": "2023-06-13T13:24:00.799Z"
   },
   {
    "duration": 5,
    "start_time": "2023-06-13T13:33:52.402Z"
   },
   {
    "duration": 4,
    "start_time": "2023-06-13T13:33:54.325Z"
   },
   {
    "duration": 4,
    "start_time": "2023-06-13T13:33:56.799Z"
   },
   {
    "duration": 2,
    "start_time": "2023-06-13T13:36:05.603Z"
   },
   {
    "duration": 4,
    "start_time": "2023-06-13T13:36:19.702Z"
   },
   {
    "duration": 3,
    "start_time": "2023-06-13T13:36:22.800Z"
   },
   {
    "duration": 535092,
    "start_time": "2023-06-13T13:36:26.281Z"
   },
   {
    "duration": 4,
    "start_time": "2023-06-13T13:45:30.643Z"
   },
   {
    "duration": 4,
    "start_time": "2023-06-13T13:45:33.485Z"
   },
   {
    "duration": 4,
    "start_time": "2023-06-13T13:45:35.256Z"
   },
   {
    "duration": 31083,
    "start_time": "2023-06-13T13:45:40.500Z"
   },
   {
    "duration": 3,
    "start_time": "2023-06-13T13:49:28.960Z"
   },
   {
    "duration": 5,
    "start_time": "2023-06-13T13:49:31.295Z"
   },
   {
    "duration": 3,
    "start_time": "2023-06-13T13:49:38.797Z"
   },
   {
    "duration": 316672,
    "start_time": "2023-06-13T13:49:42.004Z"
   },
   {
    "duration": 5,
    "start_time": "2023-06-13T13:56:08.255Z"
   },
   {
    "duration": 4,
    "start_time": "2023-06-13T13:56:13.225Z"
   },
   {
    "duration": 4,
    "start_time": "2023-06-13T13:56:15.818Z"
   },
   {
    "duration": 14024,
    "start_time": "2023-06-13T13:56:21.254Z"
   },
   {
    "duration": 316464,
    "start_time": "2023-06-13T13:57:49.608Z"
   },
   {
    "duration": 5,
    "start_time": "2023-06-13T14:03:18.485Z"
   },
   {
    "duration": 4,
    "start_time": "2023-06-13T14:03:21.904Z"
   },
   {
    "duration": 3,
    "start_time": "2023-06-13T14:03:24.797Z"
   },
   {
    "duration": 13956,
    "start_time": "2023-06-13T14:03:30.022Z"
   },
   {
    "duration": 322871,
    "start_time": "2023-06-13T14:04:24.504Z"
   },
   {
    "duration": 4,
    "start_time": "2023-06-13T14:10:00.528Z"
   },
   {
    "duration": 4,
    "start_time": "2023-06-13T14:10:06.213Z"
   },
   {
    "duration": 5,
    "start_time": "2023-06-13T14:10:09.983Z"
   },
   {
    "duration": 19991,
    "start_time": "2023-06-13T14:10:15.397Z"
   },
   {
    "duration": 4,
    "start_time": "2023-06-13T14:42:56.285Z"
   },
   {
    "duration": 44269,
    "start_time": "2023-06-13T14:43:06.551Z"
   },
   {
    "duration": 5,
    "start_time": "2023-06-13T14:45:22.013Z"
   },
   {
    "duration": 7,
    "start_time": "2023-06-13T14:45:30.746Z"
   },
   {
    "duration": 5,
    "start_time": "2023-06-13T14:45:56.403Z"
   },
   {
    "duration": 5,
    "start_time": "2023-06-13T14:46:25.673Z"
   },
   {
    "duration": 74780,
    "start_time": "2023-06-13T14:46:55.080Z"
   },
   {
    "duration": 5,
    "start_time": "2023-06-13T14:49:19.233Z"
   },
   {
    "duration": 5,
    "start_time": "2023-06-13T14:49:30.053Z"
   },
   {
    "duration": 6,
    "start_time": "2023-06-13T14:49:31.961Z"
   },
   {
    "duration": 4,
    "start_time": "2023-06-13T14:52:50.183Z"
   },
   {
    "duration": 308486,
    "start_time": "2023-06-13T14:52:53.281Z"
   },
   {
    "duration": 26,
    "start_time": "2023-06-13T15:00:21.258Z"
   },
   {
    "duration": 27,
    "start_time": "2023-06-13T15:00:56.044Z"
   },
   {
    "duration": 274998,
    "start_time": "2023-06-13T15:01:36.020Z"
   },
   {
    "duration": 4,
    "start_time": "2023-06-13T15:07:49.295Z"
   },
   {
    "duration": 4,
    "start_time": "2023-06-13T15:07:51.426Z"
   },
   {
    "duration": 20563,
    "start_time": "2023-06-13T15:10:40.624Z"
   },
   {
    "duration": 4,
    "start_time": "2023-06-13T15:17:49.735Z"
   },
   {
    "duration": 20263,
    "start_time": "2023-06-13T15:17:52.117Z"
   }
  ],
  "kernelspec": {
   "display_name": "Python 3 (ipykernel)",
   "language": "python",
   "name": "python3"
  },
  "language_info": {
   "codemirror_mode": {
    "name": "ipython",
    "version": 3
   },
   "file_extension": ".py",
   "mimetype": "text/x-python",
   "name": "python",
   "nbconvert_exporter": "python",
   "pygments_lexer": "ipython3",
   "version": "3.9.5"
  },
  "toc": {
   "base_numbering": 1,
   "nav_menu": {},
   "number_sections": true,
   "sideBar": true,
   "skip_h1_title": true,
   "title_cell": "Содержание",
   "title_sidebar": "Contents",
   "toc_cell": true,
   "toc_position": {
    "height": "calc(100% - 180px)",
    "left": "10px",
    "top": "150px",
    "width": "302.391px"
   },
   "toc_section_display": true,
   "toc_window_display": false
  }
 },
 "nbformat": 4,
 "nbformat_minor": 2
}
