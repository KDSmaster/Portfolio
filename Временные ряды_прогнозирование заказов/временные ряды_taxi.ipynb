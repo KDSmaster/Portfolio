{
 "cells": [
  {
   "cell_type": "markdown",
   "metadata": {
    "toc": true
   },
   "source": [
    "<h1>Содержание<span class=\"tocSkip\"></span></h1>\n",
    "<div class=\"toc\"><ul class=\"toc-item\"><li><span><a href=\"#Подготовка\" data-toc-modified-id=\"Подготовка-1\"><span class=\"toc-item-num\">1&nbsp;&nbsp;</span>Подготовка</a></span></li><li><span><a href=\"#Анализ\" data-toc-modified-id=\"Анализ-2\"><span class=\"toc-item-num\">2&nbsp;&nbsp;</span>Анализ</a></span></li><li><span><a href=\"#Обучение\" data-toc-modified-id=\"Обучение-3\"><span class=\"toc-item-num\">3&nbsp;&nbsp;</span>Обучение</a></span></li><li><span><a href=\"#Тестирование\" data-toc-modified-id=\"Тестирование-4\"><span class=\"toc-item-num\">4&nbsp;&nbsp;</span>Тестирование</a></span></li><li><span><a href=\"#Чек-лист-проверки\" data-toc-modified-id=\"Чек-лист-проверки-5\"><span class=\"toc-item-num\">5&nbsp;&nbsp;</span>Чек-лист проверки</a></span></li></ul></div>"
   ]
  },
  {
   "cell_type": "markdown",
   "metadata": {},
   "source": [
    "#  Прогнозирование заказов такси"
   ]
  },
  {
   "cell_type": "markdown",
   "metadata": {},
   "source": [
    "Прогнозирование заказов такси на основе имеющихся данных таксопарка.\n",
    "\n",
    "Целевая метрика - *RMSE* на тестовой выборке должно быть не больше 48.\n",
    "\n",
    "Ход работы:\n",
    "\n",
    "1. Загрузка данных и выполнение их ресемплирование по одному часу.\n",
    "2. Проанализирование данные.\n",
    "3. Обучение моделей с различными гиперпараметрами. Сделать тестовую выборку размером 10% от исходных данных.\n",
    "4. Проверить данные на тестовой выборке и сделать выводы.\n",
    "\n",
    "\n",
    "Данные лежат в файле `taxi.csv`. Количество заказов находится в столбце `num_orders` (от англ. *number of orders*, «число заказов»)."
   ]
  },
  {
   "cell_type": "markdown",
   "metadata": {},
   "source": [
    "## Подготовка"
   ]
  },
  {
   "cell_type": "code",
   "execution_count": 1,
   "metadata": {},
   "outputs": [],
   "source": [
    "import pandas as pd\n",
    "import numpy as np\n",
    "from statsmodels.tsa.seasonal import seasonal_decompose\n",
    "import matplotlib.pyplot as plt\n",
    "from sklearn.linear_model import LinearRegression\n",
    "from sklearn.tree import DecisionTreeRegressor\n",
    "from sklearn.ensemble import RandomForestRegressor\n",
    "from sklearn.model_selection import train_test_split, GridSearchCV, TimeSeriesSplit, cross_val_score\n",
    "from sklearn.metrics import mean_squared_error\n",
    "from lightgbm import LGBMRegressor"
   ]
  },
  {
   "cell_type": "code",
   "execution_count": 2,
   "metadata": {},
   "outputs": [
    {
     "data": {
      "text/html": [
       "<div>\n",
       "<style scoped>\n",
       "    .dataframe tbody tr th:only-of-type {\n",
       "        vertical-align: middle;\n",
       "    }\n",
       "\n",
       "    .dataframe tbody tr th {\n",
       "        vertical-align: top;\n",
       "    }\n",
       "\n",
       "    .dataframe thead th {\n",
       "        text-align: right;\n",
       "    }\n",
       "</style>\n",
       "<table border=\"1\" class=\"dataframe\">\n",
       "  <thead>\n",
       "    <tr style=\"text-align: right;\">\n",
       "      <th></th>\n",
       "      <th>num_orders</th>\n",
       "    </tr>\n",
       "    <tr>\n",
       "      <th>datetime</th>\n",
       "      <th></th>\n",
       "    </tr>\n",
       "  </thead>\n",
       "  <tbody>\n",
       "    <tr>\n",
       "      <th>2018-03-01 00:00:00</th>\n",
       "      <td>9</td>\n",
       "    </tr>\n",
       "    <tr>\n",
       "      <th>2018-03-01 00:10:00</th>\n",
       "      <td>14</td>\n",
       "    </tr>\n",
       "    <tr>\n",
       "      <th>2018-03-01 00:20:00</th>\n",
       "      <td>28</td>\n",
       "    </tr>\n",
       "    <tr>\n",
       "      <th>2018-03-01 00:30:00</th>\n",
       "      <td>20</td>\n",
       "    </tr>\n",
       "    <tr>\n",
       "      <th>2018-03-01 00:40:00</th>\n",
       "      <td>32</td>\n",
       "    </tr>\n",
       "    <tr>\n",
       "      <th>...</th>\n",
       "      <td>...</td>\n",
       "    </tr>\n",
       "    <tr>\n",
       "      <th>2018-08-31 23:10:00</th>\n",
       "      <td>32</td>\n",
       "    </tr>\n",
       "    <tr>\n",
       "      <th>2018-08-31 23:20:00</th>\n",
       "      <td>24</td>\n",
       "    </tr>\n",
       "    <tr>\n",
       "      <th>2018-08-31 23:30:00</th>\n",
       "      <td>27</td>\n",
       "    </tr>\n",
       "    <tr>\n",
       "      <th>2018-08-31 23:40:00</th>\n",
       "      <td>39</td>\n",
       "    </tr>\n",
       "    <tr>\n",
       "      <th>2018-08-31 23:50:00</th>\n",
       "      <td>53</td>\n",
       "    </tr>\n",
       "  </tbody>\n",
       "</table>\n",
       "<p>26496 rows × 1 columns</p>\n",
       "</div>"
      ],
      "text/plain": [
       "                     num_orders\n",
       "datetime                       \n",
       "2018-03-01 00:00:00           9\n",
       "2018-03-01 00:10:00          14\n",
       "2018-03-01 00:20:00          28\n",
       "2018-03-01 00:30:00          20\n",
       "2018-03-01 00:40:00          32\n",
       "...                         ...\n",
       "2018-08-31 23:10:00          32\n",
       "2018-08-31 23:20:00          24\n",
       "2018-08-31 23:30:00          27\n",
       "2018-08-31 23:40:00          39\n",
       "2018-08-31 23:50:00          53\n",
       "\n",
       "[26496 rows x 1 columns]"
      ]
     },
     "execution_count": 2,
     "metadata": {},
     "output_type": "execute_result"
    }
   ],
   "source": [
    "orders = pd.read_csv('/datasets/taxi.csv', index_col=[0], parse_dates=[0])\n",
    "orders.sort_index(inplace = True)\n",
    "orders"
   ]
  },
  {
   "cell_type": "code",
   "execution_count": 3,
   "metadata": {},
   "outputs": [
    {
     "name": "stdout",
     "output_type": "stream",
     "text": [
      "<class 'pandas.core.frame.DataFrame'>\n",
      "DatetimeIndex: 26496 entries, 2018-03-01 00:00:00 to 2018-08-31 23:50:00\n",
      "Data columns (total 1 columns):\n",
      " #   Column      Non-Null Count  Dtype\n",
      "---  ------      --------------  -----\n",
      " 0   num_orders  26496 non-null  int64\n",
      "dtypes: int64(1)\n",
      "memory usage: 414.0 KB\n"
     ]
    }
   ],
   "source": [
    "orders.info();"
   ]
  },
  {
   "cell_type": "code",
   "execution_count": 4,
   "metadata": {},
   "outputs": [
    {
     "data": {
      "text/html": [
       "<div>\n",
       "<style scoped>\n",
       "    .dataframe tbody tr th:only-of-type {\n",
       "        vertical-align: middle;\n",
       "    }\n",
       "\n",
       "    .dataframe tbody tr th {\n",
       "        vertical-align: top;\n",
       "    }\n",
       "\n",
       "    .dataframe thead th {\n",
       "        text-align: right;\n",
       "    }\n",
       "</style>\n",
       "<table border=\"1\" class=\"dataframe\">\n",
       "  <thead>\n",
       "    <tr style=\"text-align: right;\">\n",
       "      <th></th>\n",
       "      <th>num_orders</th>\n",
       "    </tr>\n",
       "  </thead>\n",
       "  <tbody>\n",
       "    <tr>\n",
       "      <th>count</th>\n",
       "      <td>26496.000000</td>\n",
       "    </tr>\n",
       "    <tr>\n",
       "      <th>mean</th>\n",
       "      <td>14.070463</td>\n",
       "    </tr>\n",
       "    <tr>\n",
       "      <th>std</th>\n",
       "      <td>9.211330</td>\n",
       "    </tr>\n",
       "    <tr>\n",
       "      <th>min</th>\n",
       "      <td>0.000000</td>\n",
       "    </tr>\n",
       "    <tr>\n",
       "      <th>25%</th>\n",
       "      <td>8.000000</td>\n",
       "    </tr>\n",
       "    <tr>\n",
       "      <th>50%</th>\n",
       "      <td>13.000000</td>\n",
       "    </tr>\n",
       "    <tr>\n",
       "      <th>75%</th>\n",
       "      <td>19.000000</td>\n",
       "    </tr>\n",
       "    <tr>\n",
       "      <th>max</th>\n",
       "      <td>119.000000</td>\n",
       "    </tr>\n",
       "  </tbody>\n",
       "</table>\n",
       "</div>"
      ],
      "text/plain": [
       "         num_orders\n",
       "count  26496.000000\n",
       "mean      14.070463\n",
       "std        9.211330\n",
       "min        0.000000\n",
       "25%        8.000000\n",
       "50%       13.000000\n",
       "75%       19.000000\n",
       "max      119.000000"
      ]
     },
     "execution_count": 4,
     "metadata": {},
     "output_type": "execute_result"
    }
   ],
   "source": [
    "orders.describe()"
   ]
  },
  {
   "cell_type": "markdown",
   "metadata": {},
   "source": [
    "Данные корректные: пропусков нет, неадекватных значениц нет, явных дубликатов нет.\n",
    "\n",
    "Временной интервал: 01 Марта 2018г - 31 Августа 2018г (6 полных месяца)."
   ]
  },
  {
   "cell_type": "markdown",
   "metadata": {},
   "source": [
    "## Анализ"
   ]
  },
  {
   "cell_type": "markdown",
   "metadata": {},
   "source": [
    "Ресемплирование до 1 дня:"
   ]
  },
  {
   "cell_type": "code",
   "execution_count": 6,
   "metadata": {},
   "outputs": [],
   "source": [
    "data_1d = orders.resample('1D').sum()"
   ]
  },
  {
   "cell_type": "code",
   "execution_count": 7,
   "metadata": {},
   "outputs": [
    {
     "data": {
      "image/png": "[encoded data removed]",
      "text/plain": [
       "<Figure size 1080x432 with 1 Axes>"
      ]
     },
     "metadata": {
      "needs_background": "light"
     },
     "output_type": "display_data"
    }
   ],
   "source": [
    "data_1d.plot(figsize=(15,6));\n",
    "plt.title('Кол-во заказов в масштабе 1-го дня');"
   ]
  },
  {
   "cell_type": "markdown",
   "metadata": {},
   "source": [
    "Скользящая средняя"
   ]
  },
  {
   "cell_type": "code",
   "execution_count": 8,
   "metadata": {},
   "outputs": [
    {
     "data": {
      "image/png": "[encoded data removed]",
      "text/plain": [
       "<Figure size 1080x432 with 1 Axes>"
      ]
     },
     "metadata": {
      "needs_background": "light"
     },
     "output_type": "display_data"
    }
   ],
   "source": [
    "data_1d.rolling(10).mean()\n",
    "data_1d.plot(figsize=(15,6));\n",
    "plt.title('Скользящая средняя');"
   ]
  },
  {
   "cell_type": "markdown",
   "metadata": {},
   "source": [
    "Сезонность и тренды"
   ]
  },
  {
   "cell_type": "code",
   "execution_count": 9,
   "metadata": {},
   "outputs": [
    {
     "data": {
      "image/png": "[encoded data removed]",
      "text/plain": [
       "<Figure size 1080x576 with 3 Axes>"
      ]
     },
     "metadata": {
      "needs_background": "light"
     },
     "output_type": "display_data"
    }
   ],
   "source": [
    "decomposed = seasonal_decompose(data_1d)\n",
    "plt.figure(figsize=(15, 8))\n",
    "plt.subplot(311)\n",
    "\n",
    "decomposed.trend.plot(ax=plt.gca())\n",
    "plt.title('Trend')\n",
    "plt.subplot(312)\n",
    "\n",
    "decomposed.seasonal.plot(ax=plt.gca())\n",
    "plt.title('Seasonality')\n",
    "plt.subplot(313)\n",
    "\n",
    "decomposed.resid.plot(ax=plt.gca())\n",
    "plt.title('Residuals')\n",
    "plt.tight_layout()"
   ]
  },
  {
   "cell_type": "markdown",
   "metadata": {},
   "source": [
    "Наблюдается явный растущий тренд на всём временном интревале.\n",
    "\n",
    "Сезонность требует уменьшения исследуемого интервала.\n",
    "\n",
    "По остатку видим всплески и провалы в праздничные дни (8 марта, май, 12 июня) и во второй половине августа (возможно отпуска, подготовка к началу учебного года).  "
   ]
  },
  {
   "cell_type": "code",
   "execution_count": 10,
   "metadata": {},
   "outputs": [
    {
     "data": {
      "image/png": "[encoded data removed]",
      "text/plain": [
       "<Figure size 432x288 with 1 Axes>"
      ]
     },
     "metadata": {
      "needs_background": "light"
     },
     "output_type": "display_data"
    }
   ],
   "source": [
    "decomposed.seasonal['2018-04-01':'2018-04-15'].plot(ax=plt.gca());"
   ]
  },
  {
   "cell_type": "markdown",
   "metadata": {},
   "source": [
    "Наблюдаем спад заказов по вторникам и воскресеньям, повышенную активность по понедельникам и пятницам."
   ]
  },
  {
   "cell_type": "code",
   "execution_count": 11,
   "metadata": {},
   "outputs": [
    {
     "data": {
      "image/png": "[encoded data removed]",
      "text/plain": [
       "<Figure size 1080x432 with 1 Axes>"
      ]
     },
     "metadata": {
      "needs_background": "light"
     },
     "output_type": "display_data"
    }
   ],
   "source": [
    "data_1d['2018-04-01':'2018-04-7'].resample('1H').sum().plot(figsize=(15,6));"
   ]
  },
  {
   "cell_type": "markdown",
   "metadata": {},
   "source": [
    "Стационарность ряда:"
   ]
  },
  {
   "cell_type": "code",
   "execution_count": 12,
   "metadata": {},
   "outputs": [
    {
     "data": {
      "image/png": "[encoded data removed]",
      "text/plain": [
       "<Figure size 1080x576 with 1 Axes>"
      ]
     },
     "metadata": {
      "needs_background": "light"
     },
     "output_type": "display_data"
    }
   ],
   "source": [
    "data_1d['mean'] = data_1d['num_orders'].rolling(10).mean()\n",
    "data_1d['std'] = data_1d['num_orders'].rolling(10).std()\n",
    "data_1d.plot(figsize=(15, 8));"
   ]
  },
  {
   "cell_type": "markdown",
   "metadata": {},
   "source": [
    "Ряд нестационарный.\n",
    "\n",
    "Строим разность временного ряда:"
   ]
  },
  {
   "cell_type": "code",
   "execution_count": 13,
   "metadata": {},
   "outputs": [
    {
     "name": "stdout",
     "output_type": "stream",
     "text": [
      "Если значение с индексом 1 меньше P-Value, заданное нами (обычно берут 0.05), то ряд стационарный\n",
      "Наш ряд стационарный\n"
     ]
    }
   ],
   "source": [
    "from statsmodels.tsa.stattools import adfuller\n",
    "\n",
    "taxi = pd.read_csv(\"/datasets/taxi.csv\", index_col=[0], parse_dates=[0]).resample('1H').sum()\n",
    "\n",
    "ts = taxi['num_orders']\n",
    "st_test = adfuller(ts, regression='ctt')\n",
    "\n",
    "print('Если значение с индексом 1 меньше P-Value, заданное нами (обычно берут 0.05), то ряд стационарный')\n",
    "if st_test[1] < 0.05:\n",
    "    print('Наш ряд стационарный')\n",
    "else:\n",
    "    print('Ряд нестационарный')\n",
    "\n"
   ]
  },
  {
   "cell_type": "code",
   "execution_count": 14,
   "metadata": {},
   "outputs": [
    {
     "data": {
      "image/png": "[encoded data removed]",
      "text/plain": [
       "<Figure size 1080x576 with 1 Axes>"
      ]
     },
     "metadata": {
      "needs_background": "light"
     },
     "output_type": "display_data"
    }
   ],
   "source": [
    "data_1d = data_1d - data_1d.shift()\n",
    "data_1d['mean'] = data_1d['num_orders'].rolling(10).mean()\n",
    "data_1d['std'] = data_1d['num_orders'].rolling(10).std()\n",
    "data_1d.plot(figsize=(15, 8));"
   ]
  },
  {
   "cell_type": "markdown",
   "metadata": {},
   "source": [
    "## Обучение"
   ]
  },
  {
   "cell_type": "code",
   "execution_count": 15,
   "metadata": {},
   "outputs": [],
   "source": [
    "orders = orders.resample('1H').sum() #дневной интервал"
   ]
  },
  {
   "cell_type": "markdown",
   "metadata": {},
   "source": [
    "Создание признаков:"
   ]
  },
  {
   "cell_type": "code",
   "execution_count": 16,
   "metadata": {},
   "outputs": [],
   "source": [
    "def make_features(orders, max_lag, rolling_mean_size):\n",
    "    #orders['year'] = orders.index.year\n",
    "    #orders['month'] = orders.index.month\n",
    "    orders['hour'] = orders.index.hour\n",
    "    orders['day'] = orders.index.day\n",
    "    orders['dayofweek'] = orders.index.dayofweek\n",
    "    \n",
    "    for lag in range(1, max_lag + 1):\n",
    "        orders['lag_{}'.format(lag)] = orders['num_orders'].shift(lag)\n",
    "\n",
    "    orders['rolling_mean'] = orders['num_orders'].shift().rolling(rolling_mean_size).mean()\n",
    "\n",
    "make_features(orders, 168, 24)\n",
    "#print(orders.head())"
   ]
  },
  {
   "cell_type": "code",
   "execution_count": 17,
   "metadata": {},
   "outputs": [
    {
     "data": {
      "text/html": [
       "<div>\n",
       "<style scoped>\n",
       "    .dataframe tbody tr th:only-of-type {\n",
       "        vertical-align: middle;\n",
       "    }\n",
       "\n",
       "    .dataframe tbody tr th {\n",
       "        vertical-align: top;\n",
       "    }\n",
       "\n",
       "    .dataframe thead th {\n",
       "        text-align: right;\n",
       "    }\n",
       "</style>\n",
       "<table border=\"1\" class=\"dataframe\">\n",
       "  <thead>\n",
       "    <tr style=\"text-align: right;\">\n",
       "      <th></th>\n",
       "      <th>num_orders</th>\n",
       "      <th>hour</th>\n",
       "      <th>day</th>\n",
       "      <th>dayofweek</th>\n",
       "      <th>lag_1</th>\n",
       "      <th>lag_2</th>\n",
       "      <th>lag_3</th>\n",
       "      <th>lag_4</th>\n",
       "      <th>lag_5</th>\n",
       "      <th>lag_6</th>\n",
       "      <th>...</th>\n",
       "      <th>lag_160</th>\n",
       "      <th>lag_161</th>\n",
       "      <th>lag_162</th>\n",
       "      <th>lag_163</th>\n",
       "      <th>lag_164</th>\n",
       "      <th>lag_165</th>\n",
       "      <th>lag_166</th>\n",
       "      <th>lag_167</th>\n",
       "      <th>lag_168</th>\n",
       "      <th>rolling_mean</th>\n",
       "    </tr>\n",
       "    <tr>\n",
       "      <th>datetime</th>\n",
       "      <th></th>\n",
       "      <th></th>\n",
       "      <th></th>\n",
       "      <th></th>\n",
       "      <th></th>\n",
       "      <th></th>\n",
       "      <th></th>\n",
       "      <th></th>\n",
       "      <th></th>\n",
       "      <th></th>\n",
       "      <th></th>\n",
       "      <th></th>\n",
       "      <th></th>\n",
       "      <th></th>\n",
       "      <th></th>\n",
       "      <th></th>\n",
       "      <th></th>\n",
       "      <th></th>\n",
       "      <th></th>\n",
       "      <th></th>\n",
       "      <th></th>\n",
       "    </tr>\n",
       "  </thead>\n",
       "  <tbody>\n",
       "    <tr>\n",
       "      <th>2018-03-01 00:00:00</th>\n",
       "      <td>124</td>\n",
       "      <td>0</td>\n",
       "      <td>1</td>\n",
       "      <td>3</td>\n",
       "      <td>NaN</td>\n",
       "      <td>NaN</td>\n",
       "      <td>NaN</td>\n",
       "      <td>NaN</td>\n",
       "      <td>NaN</td>\n",
       "      <td>NaN</td>\n",
       "      <td>...</td>\n",
       "      <td>NaN</td>\n",
       "      <td>NaN</td>\n",
       "      <td>NaN</td>\n",
       "      <td>NaN</td>\n",
       "      <td>NaN</td>\n",
       "      <td>NaN</td>\n",
       "      <td>NaN</td>\n",
       "      <td>NaN</td>\n",
       "      <td>NaN</td>\n",
       "      <td>NaN</td>\n",
       "    </tr>\n",
       "    <tr>\n",
       "      <th>2018-03-01 01:00:00</th>\n",
       "      <td>85</td>\n",
       "      <td>1</td>\n",
       "      <td>1</td>\n",
       "      <td>3</td>\n",
       "      <td>124.0</td>\n",
       "      <td>NaN</td>\n",
       "      <td>NaN</td>\n",
       "      <td>NaN</td>\n",
       "      <td>NaN</td>\n",
       "      <td>NaN</td>\n",
       "      <td>...</td>\n",
       "      <td>NaN</td>\n",
       "      <td>NaN</td>\n",
       "      <td>NaN</td>\n",
       "      <td>NaN</td>\n",
       "      <td>NaN</td>\n",
       "      <td>NaN</td>\n",
       "      <td>NaN</td>\n",
       "      <td>NaN</td>\n",
       "      <td>NaN</td>\n",
       "      <td>NaN</td>\n",
       "    </tr>\n",
       "    <tr>\n",
       "      <th>2018-03-01 02:00:00</th>\n",
       "      <td>71</td>\n",
       "      <td>2</td>\n",
       "      <td>1</td>\n",
       "      <td>3</td>\n",
       "      <td>85.0</td>\n",
       "      <td>124.0</td>\n",
       "      <td>NaN</td>\n",
       "      <td>NaN</td>\n",
       "      <td>NaN</td>\n",
       "      <td>NaN</td>\n",
       "      <td>...</td>\n",
       "      <td>NaN</td>\n",
       "      <td>NaN</td>\n",
       "      <td>NaN</td>\n",
       "      <td>NaN</td>\n",
       "      <td>NaN</td>\n",
       "      <td>NaN</td>\n",
       "      <td>NaN</td>\n",
       "      <td>NaN</td>\n",
       "      <td>NaN</td>\n",
       "      <td>NaN</td>\n",
       "    </tr>\n",
       "    <tr>\n",
       "      <th>2018-03-01 03:00:00</th>\n",
       "      <td>66</td>\n",
       "      <td>3</td>\n",
       "      <td>1</td>\n",
       "      <td>3</td>\n",
       "      <td>71.0</td>\n",
       "      <td>85.0</td>\n",
       "      <td>124.0</td>\n",
       "      <td>NaN</td>\n",
       "      <td>NaN</td>\n",
       "      <td>NaN</td>\n",
       "      <td>...</td>\n",
       "      <td>NaN</td>\n",
       "      <td>NaN</td>\n",
       "      <td>NaN</td>\n",
       "      <td>NaN</td>\n",
       "      <td>NaN</td>\n",
       "      <td>NaN</td>\n",
       "      <td>NaN</td>\n",
       "      <td>NaN</td>\n",
       "      <td>NaN</td>\n",
       "      <td>NaN</td>\n",
       "    </tr>\n",
       "    <tr>\n",
       "      <th>2018-03-01 04:00:00</th>\n",
       "      <td>43</td>\n",
       "      <td>4</td>\n",
       "      <td>1</td>\n",
       "      <td>3</td>\n",
       "      <td>66.0</td>\n",
       "      <td>71.0</td>\n",
       "      <td>85.0</td>\n",
       "      <td>124.0</td>\n",
       "      <td>NaN</td>\n",
       "      <td>NaN</td>\n",
       "      <td>...</td>\n",
       "      <td>NaN</td>\n",
       "      <td>NaN</td>\n",
       "      <td>NaN</td>\n",
       "      <td>NaN</td>\n",
       "      <td>NaN</td>\n",
       "      <td>NaN</td>\n",
       "      <td>NaN</td>\n",
       "      <td>NaN</td>\n",
       "      <td>NaN</td>\n",
       "      <td>NaN</td>\n",
       "    </tr>\n",
       "    <tr>\n",
       "      <th>...</th>\n",
       "      <td>...</td>\n",
       "      <td>...</td>\n",
       "      <td>...</td>\n",
       "      <td>...</td>\n",
       "      <td>...</td>\n",
       "      <td>...</td>\n",
       "      <td>...</td>\n",
       "      <td>...</td>\n",
       "      <td>...</td>\n",
       "      <td>...</td>\n",
       "      <td>...</td>\n",
       "      <td>...</td>\n",
       "      <td>...</td>\n",
       "      <td>...</td>\n",
       "      <td>...</td>\n",
       "      <td>...</td>\n",
       "      <td>...</td>\n",
       "      <td>...</td>\n",
       "      <td>...</td>\n",
       "      <td>...</td>\n",
       "      <td>...</td>\n",
       "    </tr>\n",
       "    <tr>\n",
       "      <th>2018-08-31 19:00:00</th>\n",
       "      <td>136</td>\n",
       "      <td>19</td>\n",
       "      <td>31</td>\n",
       "      <td>4</td>\n",
       "      <td>207.0</td>\n",
       "      <td>217.0</td>\n",
       "      <td>197.0</td>\n",
       "      <td>116.0</td>\n",
       "      <td>133.0</td>\n",
       "      <td>166.0</td>\n",
       "      <td>...</td>\n",
       "      <td>187.0</td>\n",
       "      <td>160.0</td>\n",
       "      <td>246.0</td>\n",
       "      <td>273.0</td>\n",
       "      <td>173.0</td>\n",
       "      <td>242.0</td>\n",
       "      <td>166.0</td>\n",
       "      <td>179.0</td>\n",
       "      <td>113.0</td>\n",
       "      <td>164.875000</td>\n",
       "    </tr>\n",
       "    <tr>\n",
       "      <th>2018-08-31 20:00:00</th>\n",
       "      <td>154</td>\n",
       "      <td>20</td>\n",
       "      <td>31</td>\n",
       "      <td>4</td>\n",
       "      <td>136.0</td>\n",
       "      <td>207.0</td>\n",
       "      <td>217.0</td>\n",
       "      <td>197.0</td>\n",
       "      <td>116.0</td>\n",
       "      <td>133.0</td>\n",
       "      <td>...</td>\n",
       "      <td>196.0</td>\n",
       "      <td>187.0</td>\n",
       "      <td>160.0</td>\n",
       "      <td>246.0</td>\n",
       "      <td>273.0</td>\n",
       "      <td>173.0</td>\n",
       "      <td>242.0</td>\n",
       "      <td>166.0</td>\n",
       "      <td>179.0</td>\n",
       "      <td>167.541667</td>\n",
       "    </tr>\n",
       "    <tr>\n",
       "      <th>2018-08-31 21:00:00</th>\n",
       "      <td>159</td>\n",
       "      <td>21</td>\n",
       "      <td>31</td>\n",
       "      <td>4</td>\n",
       "      <td>154.0</td>\n",
       "      <td>136.0</td>\n",
       "      <td>207.0</td>\n",
       "      <td>217.0</td>\n",
       "      <td>197.0</td>\n",
       "      <td>116.0</td>\n",
       "      <td>...</td>\n",
       "      <td>118.0</td>\n",
       "      <td>196.0</td>\n",
       "      <td>187.0</td>\n",
       "      <td>160.0</td>\n",
       "      <td>246.0</td>\n",
       "      <td>273.0</td>\n",
       "      <td>173.0</td>\n",
       "      <td>242.0</td>\n",
       "      <td>166.0</td>\n",
       "      <td>168.041667</td>\n",
       "    </tr>\n",
       "    <tr>\n",
       "      <th>2018-08-31 22:00:00</th>\n",
       "      <td>223</td>\n",
       "      <td>22</td>\n",
       "      <td>31</td>\n",
       "      <td>4</td>\n",
       "      <td>159.0</td>\n",
       "      <td>154.0</td>\n",
       "      <td>136.0</td>\n",
       "      <td>207.0</td>\n",
       "      <td>217.0</td>\n",
       "      <td>197.0</td>\n",
       "      <td>...</td>\n",
       "      <td>74.0</td>\n",
       "      <td>118.0</td>\n",
       "      <td>196.0</td>\n",
       "      <td>187.0</td>\n",
       "      <td>160.0</td>\n",
       "      <td>246.0</td>\n",
       "      <td>273.0</td>\n",
       "      <td>173.0</td>\n",
       "      <td>242.0</td>\n",
       "      <td>166.416667</td>\n",
       "    </tr>\n",
       "    <tr>\n",
       "      <th>2018-08-31 23:00:00</th>\n",
       "      <td>205</td>\n",
       "      <td>23</td>\n",
       "      <td>31</td>\n",
       "      <td>4</td>\n",
       "      <td>223.0</td>\n",
       "      <td>159.0</td>\n",
       "      <td>154.0</td>\n",
       "      <td>136.0</td>\n",
       "      <td>207.0</td>\n",
       "      <td>217.0</td>\n",
       "      <td>...</td>\n",
       "      <td>22.0</td>\n",
       "      <td>74.0</td>\n",
       "      <td>118.0</td>\n",
       "      <td>196.0</td>\n",
       "      <td>187.0</td>\n",
       "      <td>160.0</td>\n",
       "      <td>246.0</td>\n",
       "      <td>273.0</td>\n",
       "      <td>173.0</td>\n",
       "      <td>169.125000</td>\n",
       "    </tr>\n",
       "  </tbody>\n",
       "</table>\n",
       "<p>4416 rows × 173 columns</p>\n",
       "</div>"
      ],
      "text/plain": [
       "                     num_orders  hour  day  dayofweek  lag_1  lag_2  lag_3  \\\n",
       "datetime                                                                     \n",
       "2018-03-01 00:00:00         124     0    1          3    NaN    NaN    NaN   \n",
       "2018-03-01 01:00:00          85     1    1          3  124.0    NaN    NaN   \n",
       "2018-03-01 02:00:00          71     2    1          3   85.0  124.0    NaN   \n",
       "2018-03-01 03:00:00          66     3    1          3   71.0   85.0  124.0   \n",
       "2018-03-01 04:00:00          43     4    1          3   66.0   71.0   85.0   \n",
       "...                         ...   ...  ...        ...    ...    ...    ...   \n",
       "2018-08-31 19:00:00         136    19   31          4  207.0  217.0  197.0   \n",
       "2018-08-31 20:00:00         154    20   31          4  136.0  207.0  217.0   \n",
       "2018-08-31 21:00:00         159    21   31          4  154.0  136.0  207.0   \n",
       "2018-08-31 22:00:00         223    22   31          4  159.0  154.0  136.0   \n",
       "2018-08-31 23:00:00         205    23   31          4  223.0  159.0  154.0   \n",
       "\n",
       "                     lag_4  lag_5  lag_6  ...  lag_160  lag_161  lag_162  \\\n",
       "datetime                                  ...                              \n",
       "2018-03-01 00:00:00    NaN    NaN    NaN  ...      NaN      NaN      NaN   \n",
       "2018-03-01 01:00:00    NaN    NaN    NaN  ...      NaN      NaN      NaN   \n",
       "2018-03-01 02:00:00    NaN    NaN    NaN  ...      NaN      NaN      NaN   \n",
       "2018-03-01 03:00:00    NaN    NaN    NaN  ...      NaN      NaN      NaN   \n",
       "2018-03-01 04:00:00  124.0    NaN    NaN  ...      NaN      NaN      NaN   \n",
       "...                    ...    ...    ...  ...      ...      ...      ...   \n",
       "2018-08-31 19:00:00  116.0  133.0  166.0  ...    187.0    160.0    246.0   \n",
       "2018-08-31 20:00:00  197.0  116.0  133.0  ...    196.0    187.0    160.0   \n",
       "2018-08-31 21:00:00  217.0  197.0  116.0  ...    118.0    196.0    187.0   \n",
       "2018-08-31 22:00:00  207.0  217.0  197.0  ...     74.0    118.0    196.0   \n",
       "2018-08-31 23:00:00  136.0  207.0  217.0  ...     22.0     74.0    118.0   \n",
       "\n",
       "                     lag_163  lag_164  lag_165  lag_166  lag_167  lag_168  \\\n",
       "datetime                                                                    \n",
       "2018-03-01 00:00:00      NaN      NaN      NaN      NaN      NaN      NaN   \n",
       "2018-03-01 01:00:00      NaN      NaN      NaN      NaN      NaN      NaN   \n",
       "2018-03-01 02:00:00      NaN      NaN      NaN      NaN      NaN      NaN   \n",
       "2018-03-01 03:00:00      NaN      NaN      NaN      NaN      NaN      NaN   \n",
       "2018-03-01 04:00:00      NaN      NaN      NaN      NaN      NaN      NaN   \n",
       "...                      ...      ...      ...      ...      ...      ...   \n",
       "2018-08-31 19:00:00    273.0    173.0    242.0    166.0    179.0    113.0   \n",
       "2018-08-31 20:00:00    246.0    273.0    173.0    242.0    166.0    179.0   \n",
       "2018-08-31 21:00:00    160.0    246.0    273.0    173.0    242.0    166.0   \n",
       "2018-08-31 22:00:00    187.0    160.0    246.0    273.0    173.0    242.0   \n",
       "2018-08-31 23:00:00    196.0    187.0    160.0    246.0    273.0    173.0   \n",
       "\n",
       "                     rolling_mean  \n",
       "datetime                           \n",
       "2018-03-01 00:00:00           NaN  \n",
       "2018-03-01 01:00:00           NaN  \n",
       "2018-03-01 02:00:00           NaN  \n",
       "2018-03-01 03:00:00           NaN  \n",
       "2018-03-01 04:00:00           NaN  \n",
       "...                           ...  \n",
       "2018-08-31 19:00:00    164.875000  \n",
       "2018-08-31 20:00:00    167.541667  \n",
       "2018-08-31 21:00:00    168.041667  \n",
       "2018-08-31 22:00:00    166.416667  \n",
       "2018-08-31 23:00:00    169.125000  \n",
       "\n",
       "[4416 rows x 173 columns]"
      ]
     },
     "metadata": {},
     "output_type": "display_data"
    }
   ],
   "source": [
    "display(orders)"
   ]
  },
  {
   "cell_type": "code",
   "execution_count": 18,
   "metadata": {},
   "outputs": [
    {
     "data": {
      "text/html": [
       "<div>\n",
       "<style scoped>\n",
       "    .dataframe tbody tr th:only-of-type {\n",
       "        vertical-align: middle;\n",
       "    }\n",
       "\n",
       "    .dataframe tbody tr th {\n",
       "        vertical-align: top;\n",
       "    }\n",
       "\n",
       "    .dataframe thead th {\n",
       "        text-align: right;\n",
       "    }\n",
       "</style>\n",
       "<table border=\"1\" class=\"dataframe\">\n",
       "  <thead>\n",
       "    <tr style=\"text-align: right;\">\n",
       "      <th></th>\n",
       "      <th>num_orders</th>\n",
       "      <th>hour</th>\n",
       "      <th>day</th>\n",
       "      <th>dayofweek</th>\n",
       "      <th>lag_1</th>\n",
       "      <th>lag_2</th>\n",
       "      <th>lag_3</th>\n",
       "      <th>lag_4</th>\n",
       "      <th>lag_5</th>\n",
       "      <th>lag_6</th>\n",
       "      <th>...</th>\n",
       "      <th>lag_160</th>\n",
       "      <th>lag_161</th>\n",
       "      <th>lag_162</th>\n",
       "      <th>lag_163</th>\n",
       "      <th>lag_164</th>\n",
       "      <th>lag_165</th>\n",
       "      <th>lag_166</th>\n",
       "      <th>lag_167</th>\n",
       "      <th>lag_168</th>\n",
       "      <th>rolling_mean</th>\n",
       "    </tr>\n",
       "    <tr>\n",
       "      <th>datetime</th>\n",
       "      <th></th>\n",
       "      <th></th>\n",
       "      <th></th>\n",
       "      <th></th>\n",
       "      <th></th>\n",
       "      <th></th>\n",
       "      <th></th>\n",
       "      <th></th>\n",
       "      <th></th>\n",
       "      <th></th>\n",
       "      <th></th>\n",
       "      <th></th>\n",
       "      <th></th>\n",
       "      <th></th>\n",
       "      <th></th>\n",
       "      <th></th>\n",
       "      <th></th>\n",
       "      <th></th>\n",
       "      <th></th>\n",
       "      <th></th>\n",
       "      <th></th>\n",
       "    </tr>\n",
       "  </thead>\n",
       "  <tbody>\n",
       "    <tr>\n",
       "      <th>2018-03-08 00:00:00</th>\n",
       "      <td>143</td>\n",
       "      <td>0</td>\n",
       "      <td>8</td>\n",
       "      <td>3</td>\n",
       "      <td>94.0</td>\n",
       "      <td>127.0</td>\n",
       "      <td>108.0</td>\n",
       "      <td>76.0</td>\n",
       "      <td>50.0</td>\n",
       "      <td>99.0</td>\n",
       "      <td>...</td>\n",
       "      <td>34.0</td>\n",
       "      <td>15.0</td>\n",
       "      <td>12.0</td>\n",
       "      <td>6.0</td>\n",
       "      <td>43.0</td>\n",
       "      <td>66.0</td>\n",
       "      <td>71.0</td>\n",
       "      <td>85.0</td>\n",
       "      <td>124.0</td>\n",
       "      <td>60.041667</td>\n",
       "    </tr>\n",
       "    <tr>\n",
       "      <th>2018-03-08 01:00:00</th>\n",
       "      <td>78</td>\n",
       "      <td>1</td>\n",
       "      <td>8</td>\n",
       "      <td>3</td>\n",
       "      <td>143.0</td>\n",
       "      <td>94.0</td>\n",
       "      <td>127.0</td>\n",
       "      <td>108.0</td>\n",
       "      <td>76.0</td>\n",
       "      <td>50.0</td>\n",
       "      <td>...</td>\n",
       "      <td>69.0</td>\n",
       "      <td>34.0</td>\n",
       "      <td>15.0</td>\n",
       "      <td>12.0</td>\n",
       "      <td>6.0</td>\n",
       "      <td>43.0</td>\n",
       "      <td>66.0</td>\n",
       "      <td>71.0</td>\n",
       "      <td>85.0</td>\n",
       "      <td>61.833333</td>\n",
       "    </tr>\n",
       "    <tr>\n",
       "      <th>2018-03-08 02:00:00</th>\n",
       "      <td>65</td>\n",
       "      <td>2</td>\n",
       "      <td>8</td>\n",
       "      <td>3</td>\n",
       "      <td>78.0</td>\n",
       "      <td>143.0</td>\n",
       "      <td>94.0</td>\n",
       "      <td>127.0</td>\n",
       "      <td>108.0</td>\n",
       "      <td>76.0</td>\n",
       "      <td>...</td>\n",
       "      <td>64.0</td>\n",
       "      <td>69.0</td>\n",
       "      <td>34.0</td>\n",
       "      <td>15.0</td>\n",
       "      <td>12.0</td>\n",
       "      <td>6.0</td>\n",
       "      <td>43.0</td>\n",
       "      <td>66.0</td>\n",
       "      <td>71.0</td>\n",
       "      <td>60.041667</td>\n",
       "    </tr>\n",
       "    <tr>\n",
       "      <th>2018-03-08 03:00:00</th>\n",
       "      <td>68</td>\n",
       "      <td>3</td>\n",
       "      <td>8</td>\n",
       "      <td>3</td>\n",
       "      <td>65.0</td>\n",
       "      <td>78.0</td>\n",
       "      <td>143.0</td>\n",
       "      <td>94.0</td>\n",
       "      <td>127.0</td>\n",
       "      <td>108.0</td>\n",
       "      <td>...</td>\n",
       "      <td>96.0</td>\n",
       "      <td>64.0</td>\n",
       "      <td>69.0</td>\n",
       "      <td>34.0</td>\n",
       "      <td>15.0</td>\n",
       "      <td>12.0</td>\n",
       "      <td>6.0</td>\n",
       "      <td>43.0</td>\n",
       "      <td>66.0</td>\n",
       "      <td>61.750000</td>\n",
       "    </tr>\n",
       "    <tr>\n",
       "      <th>2018-03-08 04:00:00</th>\n",
       "      <td>60</td>\n",
       "      <td>4</td>\n",
       "      <td>8</td>\n",
       "      <td>3</td>\n",
       "      <td>68.0</td>\n",
       "      <td>65.0</td>\n",
       "      <td>78.0</td>\n",
       "      <td>143.0</td>\n",
       "      <td>94.0</td>\n",
       "      <td>127.0</td>\n",
       "      <td>...</td>\n",
       "      <td>30.0</td>\n",
       "      <td>96.0</td>\n",
       "      <td>64.0</td>\n",
       "      <td>69.0</td>\n",
       "      <td>34.0</td>\n",
       "      <td>15.0</td>\n",
       "      <td>12.0</td>\n",
       "      <td>6.0</td>\n",
       "      <td>43.0</td>\n",
       "      <td>61.833333</td>\n",
       "    </tr>\n",
       "    <tr>\n",
       "      <th>...</th>\n",
       "      <td>...</td>\n",
       "      <td>...</td>\n",
       "      <td>...</td>\n",
       "      <td>...</td>\n",
       "      <td>...</td>\n",
       "      <td>...</td>\n",
       "      <td>...</td>\n",
       "      <td>...</td>\n",
       "      <td>...</td>\n",
       "      <td>...</td>\n",
       "      <td>...</td>\n",
       "      <td>...</td>\n",
       "      <td>...</td>\n",
       "      <td>...</td>\n",
       "      <td>...</td>\n",
       "      <td>...</td>\n",
       "      <td>...</td>\n",
       "      <td>...</td>\n",
       "      <td>...</td>\n",
       "      <td>...</td>\n",
       "      <td>...</td>\n",
       "    </tr>\n",
       "    <tr>\n",
       "      <th>2018-08-13 09:00:00</th>\n",
       "      <td>137</td>\n",
       "      <td>9</td>\n",
       "      <td>13</td>\n",
       "      <td>0</td>\n",
       "      <td>91.0</td>\n",
       "      <td>39.0</td>\n",
       "      <td>66.0</td>\n",
       "      <td>83.0</td>\n",
       "      <td>143.0</td>\n",
       "      <td>168.0</td>\n",
       "      <td>...</td>\n",
       "      <td>133.0</td>\n",
       "      <td>204.0</td>\n",
       "      <td>117.0</td>\n",
       "      <td>98.0</td>\n",
       "      <td>104.0</td>\n",
       "      <td>87.0</td>\n",
       "      <td>131.0</td>\n",
       "      <td>124.0</td>\n",
       "      <td>136.0</td>\n",
       "      <td>134.041667</td>\n",
       "    </tr>\n",
       "    <tr>\n",
       "      <th>2018-08-13 10:00:00</th>\n",
       "      <td>156</td>\n",
       "      <td>10</td>\n",
       "      <td>13</td>\n",
       "      <td>0</td>\n",
       "      <td>137.0</td>\n",
       "      <td>91.0</td>\n",
       "      <td>39.0</td>\n",
       "      <td>66.0</td>\n",
       "      <td>83.0</td>\n",
       "      <td>143.0</td>\n",
       "      <td>...</td>\n",
       "      <td>85.0</td>\n",
       "      <td>133.0</td>\n",
       "      <td>204.0</td>\n",
       "      <td>117.0</td>\n",
       "      <td>98.0</td>\n",
       "      <td>104.0</td>\n",
       "      <td>87.0</td>\n",
       "      <td>131.0</td>\n",
       "      <td>124.0</td>\n",
       "      <td>135.250000</td>\n",
       "    </tr>\n",
       "    <tr>\n",
       "      <th>2018-08-13 11:00:00</th>\n",
       "      <td>144</td>\n",
       "      <td>11</td>\n",
       "      <td>13</td>\n",
       "      <td>0</td>\n",
       "      <td>156.0</td>\n",
       "      <td>137.0</td>\n",
       "      <td>91.0</td>\n",
       "      <td>39.0</td>\n",
       "      <td>66.0</td>\n",
       "      <td>83.0</td>\n",
       "      <td>...</td>\n",
       "      <td>104.0</td>\n",
       "      <td>85.0</td>\n",
       "      <td>133.0</td>\n",
       "      <td>204.0</td>\n",
       "      <td>117.0</td>\n",
       "      <td>98.0</td>\n",
       "      <td>104.0</td>\n",
       "      <td>87.0</td>\n",
       "      <td>131.0</td>\n",
       "      <td>137.250000</td>\n",
       "    </tr>\n",
       "    <tr>\n",
       "      <th>2018-08-13 12:00:00</th>\n",
       "      <td>92</td>\n",
       "      <td>12</td>\n",
       "      <td>13</td>\n",
       "      <td>0</td>\n",
       "      <td>144.0</td>\n",
       "      <td>156.0</td>\n",
       "      <td>137.0</td>\n",
       "      <td>91.0</td>\n",
       "      <td>39.0</td>\n",
       "      <td>66.0</td>\n",
       "      <td>...</td>\n",
       "      <td>67.0</td>\n",
       "      <td>104.0</td>\n",
       "      <td>85.0</td>\n",
       "      <td>133.0</td>\n",
       "      <td>204.0</td>\n",
       "      <td>117.0</td>\n",
       "      <td>98.0</td>\n",
       "      <td>104.0</td>\n",
       "      <td>87.0</td>\n",
       "      <td>139.875000</td>\n",
       "    </tr>\n",
       "    <tr>\n",
       "      <th>2018-08-13 13:00:00</th>\n",
       "      <td>119</td>\n",
       "      <td>13</td>\n",
       "      <td>13</td>\n",
       "      <td>0</td>\n",
       "      <td>92.0</td>\n",
       "      <td>144.0</td>\n",
       "      <td>156.0</td>\n",
       "      <td>137.0</td>\n",
       "      <td>91.0</td>\n",
       "      <td>39.0</td>\n",
       "      <td>...</td>\n",
       "      <td>98.0</td>\n",
       "      <td>67.0</td>\n",
       "      <td>104.0</td>\n",
       "      <td>85.0</td>\n",
       "      <td>133.0</td>\n",
       "      <td>204.0</td>\n",
       "      <td>117.0</td>\n",
       "      <td>98.0</td>\n",
       "      <td>104.0</td>\n",
       "      <td>138.583333</td>\n",
       "    </tr>\n",
       "  </tbody>\n",
       "</table>\n",
       "<p>3806 rows × 173 columns</p>\n",
       "</div>"
      ],
      "text/plain": [
       "                     num_orders  hour  day  dayofweek  lag_1  lag_2  lag_3  \\\n",
       "datetime                                                                     \n",
       "2018-03-08 00:00:00         143     0    8          3   94.0  127.0  108.0   \n",
       "2018-03-08 01:00:00          78     1    8          3  143.0   94.0  127.0   \n",
       "2018-03-08 02:00:00          65     2    8          3   78.0  143.0   94.0   \n",
       "2018-03-08 03:00:00          68     3    8          3   65.0   78.0  143.0   \n",
       "2018-03-08 04:00:00          60     4    8          3   68.0   65.0   78.0   \n",
       "...                         ...   ...  ...        ...    ...    ...    ...   \n",
       "2018-08-13 09:00:00         137     9   13          0   91.0   39.0   66.0   \n",
       "2018-08-13 10:00:00         156    10   13          0  137.0   91.0   39.0   \n",
       "2018-08-13 11:00:00         144    11   13          0  156.0  137.0   91.0   \n",
       "2018-08-13 12:00:00          92    12   13          0  144.0  156.0  137.0   \n",
       "2018-08-13 13:00:00         119    13   13          0   92.0  144.0  156.0   \n",
       "\n",
       "                     lag_4  lag_5  lag_6  ...  lag_160  lag_161  lag_162  \\\n",
       "datetime                                  ...                              \n",
       "2018-03-08 00:00:00   76.0   50.0   99.0  ...     34.0     15.0     12.0   \n",
       "2018-03-08 01:00:00  108.0   76.0   50.0  ...     69.0     34.0     15.0   \n",
       "2018-03-08 02:00:00  127.0  108.0   76.0  ...     64.0     69.0     34.0   \n",
       "2018-03-08 03:00:00   94.0  127.0  108.0  ...     96.0     64.0     69.0   \n",
       "2018-03-08 04:00:00  143.0   94.0  127.0  ...     30.0     96.0     64.0   \n",
       "...                    ...    ...    ...  ...      ...      ...      ...   \n",
       "2018-08-13 09:00:00   83.0  143.0  168.0  ...    133.0    204.0    117.0   \n",
       "2018-08-13 10:00:00   66.0   83.0  143.0  ...     85.0    133.0    204.0   \n",
       "2018-08-13 11:00:00   39.0   66.0   83.0  ...    104.0     85.0    133.0   \n",
       "2018-08-13 12:00:00   91.0   39.0   66.0  ...     67.0    104.0     85.0   \n",
       "2018-08-13 13:00:00  137.0   91.0   39.0  ...     98.0     67.0    104.0   \n",
       "\n",
       "                     lag_163  lag_164  lag_165  lag_166  lag_167  lag_168  \\\n",
       "datetime                                                                    \n",
       "2018-03-08 00:00:00      6.0     43.0     66.0     71.0     85.0    124.0   \n",
       "2018-03-08 01:00:00     12.0      6.0     43.0     66.0     71.0     85.0   \n",
       "2018-03-08 02:00:00     15.0     12.0      6.0     43.0     66.0     71.0   \n",
       "2018-03-08 03:00:00     34.0     15.0     12.0      6.0     43.0     66.0   \n",
       "2018-03-08 04:00:00     69.0     34.0     15.0     12.0      6.0     43.0   \n",
       "...                      ...      ...      ...      ...      ...      ...   \n",
       "2018-08-13 09:00:00     98.0    104.0     87.0    131.0    124.0    136.0   \n",
       "2018-08-13 10:00:00    117.0     98.0    104.0     87.0    131.0    124.0   \n",
       "2018-08-13 11:00:00    204.0    117.0     98.0    104.0     87.0    131.0   \n",
       "2018-08-13 12:00:00    133.0    204.0    117.0     98.0    104.0     87.0   \n",
       "2018-08-13 13:00:00     85.0    133.0    204.0    117.0     98.0    104.0   \n",
       "\n",
       "                     rolling_mean  \n",
       "datetime                           \n",
       "2018-03-08 00:00:00     60.041667  \n",
       "2018-03-08 01:00:00     61.833333  \n",
       "2018-03-08 02:00:00     60.041667  \n",
       "2018-03-08 03:00:00     61.750000  \n",
       "2018-03-08 04:00:00     61.833333  \n",
       "...                           ...  \n",
       "2018-08-13 09:00:00    134.041667  \n",
       "2018-08-13 10:00:00    135.250000  \n",
       "2018-08-13 11:00:00    137.250000  \n",
       "2018-08-13 12:00:00    139.875000  \n",
       "2018-08-13 13:00:00    138.583333  \n",
       "\n",
       "[3806 rows x 173 columns]"
      ]
     },
     "metadata": {},
     "output_type": "display_data"
    }
   ],
   "source": [
    "train, test = train_test_split(orders, shuffle=False, test_size=0.1)\n",
    "train = train.dropna()\n",
    "display(train)"
   ]
  },
  {
   "cell_type": "code",
   "execution_count": 19,
   "metadata": {},
   "outputs": [
    {
     "data": {
      "text/html": [
       "<div>\n",
       "<style scoped>\n",
       "    .dataframe tbody tr th:only-of-type {\n",
       "        vertical-align: middle;\n",
       "    }\n",
       "\n",
       "    .dataframe tbody tr th {\n",
       "        vertical-align: top;\n",
       "    }\n",
       "\n",
       "    .dataframe thead th {\n",
       "        text-align: right;\n",
       "    }\n",
       "</style>\n",
       "<table border=\"1\" class=\"dataframe\">\n",
       "  <thead>\n",
       "    <tr style=\"text-align: right;\">\n",
       "      <th></th>\n",
       "      <th>num_orders</th>\n",
       "      <th>hour</th>\n",
       "      <th>day</th>\n",
       "      <th>dayofweek</th>\n",
       "      <th>lag_1</th>\n",
       "      <th>lag_2</th>\n",
       "      <th>lag_3</th>\n",
       "      <th>lag_4</th>\n",
       "      <th>lag_5</th>\n",
       "      <th>lag_6</th>\n",
       "      <th>...</th>\n",
       "      <th>lag_160</th>\n",
       "      <th>lag_161</th>\n",
       "      <th>lag_162</th>\n",
       "      <th>lag_163</th>\n",
       "      <th>lag_164</th>\n",
       "      <th>lag_165</th>\n",
       "      <th>lag_166</th>\n",
       "      <th>lag_167</th>\n",
       "      <th>lag_168</th>\n",
       "      <th>rolling_mean</th>\n",
       "    </tr>\n",
       "    <tr>\n",
       "      <th>datetime</th>\n",
       "      <th></th>\n",
       "      <th></th>\n",
       "      <th></th>\n",
       "      <th></th>\n",
       "      <th></th>\n",
       "      <th></th>\n",
       "      <th></th>\n",
       "      <th></th>\n",
       "      <th></th>\n",
       "      <th></th>\n",
       "      <th></th>\n",
       "      <th></th>\n",
       "      <th></th>\n",
       "      <th></th>\n",
       "      <th></th>\n",
       "      <th></th>\n",
       "      <th></th>\n",
       "      <th></th>\n",
       "      <th></th>\n",
       "      <th></th>\n",
       "      <th></th>\n",
       "    </tr>\n",
       "  </thead>\n",
       "  <tbody>\n",
       "    <tr>\n",
       "      <th>2018-08-13 14:00:00</th>\n",
       "      <td>102</td>\n",
       "      <td>14</td>\n",
       "      <td>13</td>\n",
       "      <td>0</td>\n",
       "      <td>119.0</td>\n",
       "      <td>92.0</td>\n",
       "      <td>144.0</td>\n",
       "      <td>156.0</td>\n",
       "      <td>137.0</td>\n",
       "      <td>91.0</td>\n",
       "      <td>...</td>\n",
       "      <td>101.0</td>\n",
       "      <td>98.0</td>\n",
       "      <td>67.0</td>\n",
       "      <td>104.0</td>\n",
       "      <td>85.0</td>\n",
       "      <td>133.0</td>\n",
       "      <td>204.0</td>\n",
       "      <td>117.0</td>\n",
       "      <td>98.0</td>\n",
       "      <td>138.541667</td>\n",
       "    </tr>\n",
       "    <tr>\n",
       "      <th>2018-08-13 15:00:00</th>\n",
       "      <td>175</td>\n",
       "      <td>15</td>\n",
       "      <td>13</td>\n",
       "      <td>0</td>\n",
       "      <td>102.0</td>\n",
       "      <td>119.0</td>\n",
       "      <td>92.0</td>\n",
       "      <td>144.0</td>\n",
       "      <td>156.0</td>\n",
       "      <td>137.0</td>\n",
       "      <td>...</td>\n",
       "      <td>119.0</td>\n",
       "      <td>101.0</td>\n",
       "      <td>98.0</td>\n",
       "      <td>67.0</td>\n",
       "      <td>104.0</td>\n",
       "      <td>85.0</td>\n",
       "      <td>133.0</td>\n",
       "      <td>204.0</td>\n",
       "      <td>117.0</td>\n",
       "      <td>138.458333</td>\n",
       "    </tr>\n",
       "    <tr>\n",
       "      <th>2018-08-13 16:00:00</th>\n",
       "      <td>144</td>\n",
       "      <td>16</td>\n",
       "      <td>13</td>\n",
       "      <td>0</td>\n",
       "      <td>175.0</td>\n",
       "      <td>102.0</td>\n",
       "      <td>119.0</td>\n",
       "      <td>92.0</td>\n",
       "      <td>144.0</td>\n",
       "      <td>156.0</td>\n",
       "      <td>...</td>\n",
       "      <td>156.0</td>\n",
       "      <td>119.0</td>\n",
       "      <td>101.0</td>\n",
       "      <td>98.0</td>\n",
       "      <td>67.0</td>\n",
       "      <td>104.0</td>\n",
       "      <td>85.0</td>\n",
       "      <td>133.0</td>\n",
       "      <td>204.0</td>\n",
       "      <td>139.541667</td>\n",
       "    </tr>\n",
       "    <tr>\n",
       "      <th>2018-08-13 17:00:00</th>\n",
       "      <td>152</td>\n",
       "      <td>17</td>\n",
       "      <td>13</td>\n",
       "      <td>0</td>\n",
       "      <td>144.0</td>\n",
       "      <td>175.0</td>\n",
       "      <td>102.0</td>\n",
       "      <td>119.0</td>\n",
       "      <td>92.0</td>\n",
       "      <td>144.0</td>\n",
       "      <td>...</td>\n",
       "      <td>101.0</td>\n",
       "      <td>156.0</td>\n",
       "      <td>119.0</td>\n",
       "      <td>101.0</td>\n",
       "      <td>98.0</td>\n",
       "      <td>67.0</td>\n",
       "      <td>104.0</td>\n",
       "      <td>85.0</td>\n",
       "      <td>133.0</td>\n",
       "      <td>139.166667</td>\n",
       "    </tr>\n",
       "    <tr>\n",
       "      <th>2018-08-13 18:00:00</th>\n",
       "      <td>104</td>\n",
       "      <td>18</td>\n",
       "      <td>13</td>\n",
       "      <td>0</td>\n",
       "      <td>152.0</td>\n",
       "      <td>144.0</td>\n",
       "      <td>175.0</td>\n",
       "      <td>102.0</td>\n",
       "      <td>119.0</td>\n",
       "      <td>92.0</td>\n",
       "      <td>...</td>\n",
       "      <td>125.0</td>\n",
       "      <td>101.0</td>\n",
       "      <td>156.0</td>\n",
       "      <td>119.0</td>\n",
       "      <td>101.0</td>\n",
       "      <td>98.0</td>\n",
       "      <td>67.0</td>\n",
       "      <td>104.0</td>\n",
       "      <td>85.0</td>\n",
       "      <td>140.708333</td>\n",
       "    </tr>\n",
       "    <tr>\n",
       "      <th>...</th>\n",
       "      <td>...</td>\n",
       "      <td>...</td>\n",
       "      <td>...</td>\n",
       "      <td>...</td>\n",
       "      <td>...</td>\n",
       "      <td>...</td>\n",
       "      <td>...</td>\n",
       "      <td>...</td>\n",
       "      <td>...</td>\n",
       "      <td>...</td>\n",
       "      <td>...</td>\n",
       "      <td>...</td>\n",
       "      <td>...</td>\n",
       "      <td>...</td>\n",
       "      <td>...</td>\n",
       "      <td>...</td>\n",
       "      <td>...</td>\n",
       "      <td>...</td>\n",
       "      <td>...</td>\n",
       "      <td>...</td>\n",
       "      <td>...</td>\n",
       "    </tr>\n",
       "    <tr>\n",
       "      <th>2018-08-31 19:00:00</th>\n",
       "      <td>136</td>\n",
       "      <td>19</td>\n",
       "      <td>31</td>\n",
       "      <td>4</td>\n",
       "      <td>207.0</td>\n",
       "      <td>217.0</td>\n",
       "      <td>197.0</td>\n",
       "      <td>116.0</td>\n",
       "      <td>133.0</td>\n",
       "      <td>166.0</td>\n",
       "      <td>...</td>\n",
       "      <td>187.0</td>\n",
       "      <td>160.0</td>\n",
       "      <td>246.0</td>\n",
       "      <td>273.0</td>\n",
       "      <td>173.0</td>\n",
       "      <td>242.0</td>\n",
       "      <td>166.0</td>\n",
       "      <td>179.0</td>\n",
       "      <td>113.0</td>\n",
       "      <td>164.875000</td>\n",
       "    </tr>\n",
       "    <tr>\n",
       "      <th>2018-08-31 20:00:00</th>\n",
       "      <td>154</td>\n",
       "      <td>20</td>\n",
       "      <td>31</td>\n",
       "      <td>4</td>\n",
       "      <td>136.0</td>\n",
       "      <td>207.0</td>\n",
       "      <td>217.0</td>\n",
       "      <td>197.0</td>\n",
       "      <td>116.0</td>\n",
       "      <td>133.0</td>\n",
       "      <td>...</td>\n",
       "      <td>196.0</td>\n",
       "      <td>187.0</td>\n",
       "      <td>160.0</td>\n",
       "      <td>246.0</td>\n",
       "      <td>273.0</td>\n",
       "      <td>173.0</td>\n",
       "      <td>242.0</td>\n",
       "      <td>166.0</td>\n",
       "      <td>179.0</td>\n",
       "      <td>167.541667</td>\n",
       "    </tr>\n",
       "    <tr>\n",
       "      <th>2018-08-31 21:00:00</th>\n",
       "      <td>159</td>\n",
       "      <td>21</td>\n",
       "      <td>31</td>\n",
       "      <td>4</td>\n",
       "      <td>154.0</td>\n",
       "      <td>136.0</td>\n",
       "      <td>207.0</td>\n",
       "      <td>217.0</td>\n",
       "      <td>197.0</td>\n",
       "      <td>116.0</td>\n",
       "      <td>...</td>\n",
       "      <td>118.0</td>\n",
       "      <td>196.0</td>\n",
       "      <td>187.0</td>\n",
       "      <td>160.0</td>\n",
       "      <td>246.0</td>\n",
       "      <td>273.0</td>\n",
       "      <td>173.0</td>\n",
       "      <td>242.0</td>\n",
       "      <td>166.0</td>\n",
       "      <td>168.041667</td>\n",
       "    </tr>\n",
       "    <tr>\n",
       "      <th>2018-08-31 22:00:00</th>\n",
       "      <td>223</td>\n",
       "      <td>22</td>\n",
       "      <td>31</td>\n",
       "      <td>4</td>\n",
       "      <td>159.0</td>\n",
       "      <td>154.0</td>\n",
       "      <td>136.0</td>\n",
       "      <td>207.0</td>\n",
       "      <td>217.0</td>\n",
       "      <td>197.0</td>\n",
       "      <td>...</td>\n",
       "      <td>74.0</td>\n",
       "      <td>118.0</td>\n",
       "      <td>196.0</td>\n",
       "      <td>187.0</td>\n",
       "      <td>160.0</td>\n",
       "      <td>246.0</td>\n",
       "      <td>273.0</td>\n",
       "      <td>173.0</td>\n",
       "      <td>242.0</td>\n",
       "      <td>166.416667</td>\n",
       "    </tr>\n",
       "    <tr>\n",
       "      <th>2018-08-31 23:00:00</th>\n",
       "      <td>205</td>\n",
       "      <td>23</td>\n",
       "      <td>31</td>\n",
       "      <td>4</td>\n",
       "      <td>223.0</td>\n",
       "      <td>159.0</td>\n",
       "      <td>154.0</td>\n",
       "      <td>136.0</td>\n",
       "      <td>207.0</td>\n",
       "      <td>217.0</td>\n",
       "      <td>...</td>\n",
       "      <td>22.0</td>\n",
       "      <td>74.0</td>\n",
       "      <td>118.0</td>\n",
       "      <td>196.0</td>\n",
       "      <td>187.0</td>\n",
       "      <td>160.0</td>\n",
       "      <td>246.0</td>\n",
       "      <td>273.0</td>\n",
       "      <td>173.0</td>\n",
       "      <td>169.125000</td>\n",
       "    </tr>\n",
       "  </tbody>\n",
       "</table>\n",
       "<p>442 rows × 173 columns</p>\n",
       "</div>"
      ],
      "text/plain": [
       "                     num_orders  hour  day  dayofweek  lag_1  lag_2  lag_3  \\\n",
       "datetime                                                                     \n",
       "2018-08-13 14:00:00         102    14   13          0  119.0   92.0  144.0   \n",
       "2018-08-13 15:00:00         175    15   13          0  102.0  119.0   92.0   \n",
       "2018-08-13 16:00:00         144    16   13          0  175.0  102.0  119.0   \n",
       "2018-08-13 17:00:00         152    17   13          0  144.0  175.0  102.0   \n",
       "2018-08-13 18:00:00         104    18   13          0  152.0  144.0  175.0   \n",
       "...                         ...   ...  ...        ...    ...    ...    ...   \n",
       "2018-08-31 19:00:00         136    19   31          4  207.0  217.0  197.0   \n",
       "2018-08-31 20:00:00         154    20   31          4  136.0  207.0  217.0   \n",
       "2018-08-31 21:00:00         159    21   31          4  154.0  136.0  207.0   \n",
       "2018-08-31 22:00:00         223    22   31          4  159.0  154.0  136.0   \n",
       "2018-08-31 23:00:00         205    23   31          4  223.0  159.0  154.0   \n",
       "\n",
       "                     lag_4  lag_5  lag_6  ...  lag_160  lag_161  lag_162  \\\n",
       "datetime                                  ...                              \n",
       "2018-08-13 14:00:00  156.0  137.0   91.0  ...    101.0     98.0     67.0   \n",
       "2018-08-13 15:00:00  144.0  156.0  137.0  ...    119.0    101.0     98.0   \n",
       "2018-08-13 16:00:00   92.0  144.0  156.0  ...    156.0    119.0    101.0   \n",
       "2018-08-13 17:00:00  119.0   92.0  144.0  ...    101.0    156.0    119.0   \n",
       "2018-08-13 18:00:00  102.0  119.0   92.0  ...    125.0    101.0    156.0   \n",
       "...                    ...    ...    ...  ...      ...      ...      ...   \n",
       "2018-08-31 19:00:00  116.0  133.0  166.0  ...    187.0    160.0    246.0   \n",
       "2018-08-31 20:00:00  197.0  116.0  133.0  ...    196.0    187.0    160.0   \n",
       "2018-08-31 21:00:00  217.0  197.0  116.0  ...    118.0    196.0    187.0   \n",
       "2018-08-31 22:00:00  207.0  217.0  197.0  ...     74.0    118.0    196.0   \n",
       "2018-08-31 23:00:00  136.0  207.0  217.0  ...     22.0     74.0    118.0   \n",
       "\n",
       "                     lag_163  lag_164  lag_165  lag_166  lag_167  lag_168  \\\n",
       "datetime                                                                    \n",
       "2018-08-13 14:00:00    104.0     85.0    133.0    204.0    117.0     98.0   \n",
       "2018-08-13 15:00:00     67.0    104.0     85.0    133.0    204.0    117.0   \n",
       "2018-08-13 16:00:00     98.0     67.0    104.0     85.0    133.0    204.0   \n",
       "2018-08-13 17:00:00    101.0     98.0     67.0    104.0     85.0    133.0   \n",
       "2018-08-13 18:00:00    119.0    101.0     98.0     67.0    104.0     85.0   \n",
       "...                      ...      ...      ...      ...      ...      ...   \n",
       "2018-08-31 19:00:00    273.0    173.0    242.0    166.0    179.0    113.0   \n",
       "2018-08-31 20:00:00    246.0    273.0    173.0    242.0    166.0    179.0   \n",
       "2018-08-31 21:00:00    160.0    246.0    273.0    173.0    242.0    166.0   \n",
       "2018-08-31 22:00:00    187.0    160.0    246.0    273.0    173.0    242.0   \n",
       "2018-08-31 23:00:00    196.0    187.0    160.0    246.0    273.0    173.0   \n",
       "\n",
       "                     rolling_mean  \n",
       "datetime                           \n",
       "2018-08-13 14:00:00    138.541667  \n",
       "2018-08-13 15:00:00    138.458333  \n",
       "2018-08-13 16:00:00    139.541667  \n",
       "2018-08-13 17:00:00    139.166667  \n",
       "2018-08-13 18:00:00    140.708333  \n",
       "...                           ...  \n",
       "2018-08-31 19:00:00    164.875000  \n",
       "2018-08-31 20:00:00    167.541667  \n",
       "2018-08-31 21:00:00    168.041667  \n",
       "2018-08-31 22:00:00    166.416667  \n",
       "2018-08-31 23:00:00    169.125000  \n",
       "\n",
       "[442 rows x 173 columns]"
      ]
     },
     "metadata": {},
     "output_type": "display_data"
    }
   ],
   "source": [
    "display(test)"
   ]
  },
  {
   "cell_type": "code",
   "execution_count": 20,
   "metadata": {},
   "outputs": [
    {
     "name": "stdout",
     "output_type": "stream",
     "text": [
      "2018-03-08 00:00:00 2018-08-13 13:00:00\n",
      "2018-08-13 14:00:00 2018-08-31 23:00:00\n"
     ]
    }
   ],
   "source": [
    "print(train.index.min(), train.index.max())\n",
    "print(test.index.min(), test.index.max())"
   ]
  },
  {
   "cell_type": "code",
   "execution_count": 21,
   "metadata": {},
   "outputs": [
    {
     "name": "stdout",
     "output_type": "stream",
     "text": [
      "RMSE обучающей выборки лин. регресси: 20.36356497660353\n",
      "RMSE тестовой выборки лин. регресси: 34.5607186951862\n"
     ]
    }
   ],
   "source": [
    "features_train= train.drop(['num_orders'], axis=1) \n",
    "features_test= test.drop(['num_orders'], axis=1) \n",
    "target_train = train['num_orders']\n",
    "target_test = test['num_orders']\n",
    "\n",
    "model = LinearRegression()\n",
    "model.fit(features_train, target_train)\n",
    "\n",
    "prediction_train= model.predict(features_train)\n",
    "prediction_test= model.predict(features_test)\n",
    "print(\"RMSE обучающей выборки лин. регресси:\", mean_squared_error(target_train, prediction_train)**0.5)\n",
    "print(\"RMSE тестовой выборки лин. регресси:\", mean_squared_error(target_test, prediction_test)**0.5)"
   ]
  },
  {
   "cell_type": "code",
   "execution_count": 22,
   "metadata": {},
   "outputs": [
    {
     "name": "stdout",
     "output_type": "stream",
     "text": [
      "CPU times: user 1.23 s, sys: 1.47 s, total: 2.69 s\n",
      "Wall time: 2.7 s\n"
     ]
    },
    {
     "data": {
      "text/plain": [
       "23.2"
      ]
     },
     "execution_count": 22,
     "metadata": {},
     "output_type": "execute_result"
    }
   ],
   "source": [
    "%%time\n",
    "#модель линейной регрессии\n",
    "cv = TimeSeriesSplit(n_splits=3).split(features_train)\n",
    "model_lr = LinearRegression() \n",
    "model_lr.fit(features_train, target_train)\n",
    "score_lr = cross_val_score(model_lr, features_train, target_train, scoring='neg_mean_squared_error', cv=cv)\n",
    "round(np.mean(-score_lr)**0.5, 2)"
   ]
  },
  {
   "cell_type": "markdown",
   "metadata": {},
   "source": [
    "Модель Дерево решений:"
   ]
  },
  {
   "cell_type": "code",
   "execution_count": 23,
   "metadata": {},
   "outputs": [
    {
     "name": "stdout",
     "output_type": "stream",
     "text": [
      "Лучшая RMSE модели дерева решений: 26.60549600443208 при параметрах {'max_depth': 15, 'min_samples_leaf': 27}\n"
     ]
    }
   ],
   "source": [
    "model_dt= DecisionTreeRegressor(random_state=12345)\n",
    "param_grid = {\n",
    "    \"max_depth\" : range(15,16),\n",
    "    \"min_samples_leaf\" : range(20,30)\n",
    "}\n",
    "gsearch = GridSearchCV(model_dt, param_grid = param_grid, scoring='neg_root_mean_squared_error', cv=TimeSeriesSplit(n_splits=5))\n",
    "dt_model = gsearch.fit(features_train,target_train)\n",
    "print(f'Лучшая RMSE модели дерева решений: {-dt_model.best_score_} при параметрах {dt_model.best_params_}')"
   ]
  },
  {
   "cell_type": "code",
   "execution_count": 24,
   "metadata": {},
   "outputs": [
    {
     "name": "stdout",
     "output_type": "stream",
     "text": [
      "Лучшая RMSE модели случайный лес: 22.911451113215715 при параметрах ,{'max_depth': 15, 'min_samples_leaf': 2}\n"
     ]
    }
   ],
   "source": [
    "model_rf= RandomForestRegressor(random_state=12345)\n",
    "param_grid = {\n",
    "    \"max_depth\" : range(15,16),\n",
    "    \"min_samples_leaf\" : range(2,3)\n",
    "}\n",
    "gsearch = GridSearchCV(model_rf, param_grid = param_grid, scoring='neg_root_mean_squared_error', cv=TimeSeriesSplit(n_splits=5))\n",
    "rf_model = gsearch.fit(features_train,target_train)\n",
    "print(f'Лучшая RMSE модели случайный лес: {-rf_model.best_score_} при параметрах ,{rf_model.best_params_}')"
   ]
  },
  {
   "cell_type": "markdown",
   "metadata": {},
   "source": [
    "Модель LGBM:"
   ]
  },
  {
   "cell_type": "code",
   "execution_count": 25,
   "metadata": {},
   "outputs": [
    {
     "name": "stdout",
     "output_type": "stream",
     "text": [
      "Лучшие параметры: {'max_depth': 15, 'n_estimators': 50}\n",
      "Лучшее значение: 23.09492953735093\n"
     ]
    }
   ],
   "source": [
    "model_LGBM = LGBMRegressor(num_leaves= 31,learning_rate=0.1)\n",
    "\n",
    "parameters = {\n",
    "    'n_estimators': [50,100,250],\n",
    "    'max_depth': [5,15,20]   \n",
    "}\n",
    "\n",
    "grid = GridSearchCV(model_LGBM, parameters, scoring='neg_mean_squared_error', cv=TimeSeriesSplit(n_splits=5))\n",
    "\n",
    "lgb_model = grid.fit(features_train, target_train)\n",
    "\n",
    "print('Лучшие параметры:', grid.best_params_)\n",
    "print('Лучшее значение:', (-1*(grid.best_score_))**0.5)"
   ]
  },
  {
   "cell_type": "markdown",
   "metadata": {},
   "source": [
    "Лучшая модель LightGBM c лучшими параметрами обеспечивает RMSE = 23 при скользящей средней = 24 и лагом = 168."
   ]
  },
  {
   "cell_type": "markdown",
   "metadata": {},
   "source": [
    "## Тестирование"
   ]
  },
  {
   "cell_type": "code",
   "execution_count": 29,
   "metadata": {},
   "outputs": [
    {
     "name": "stdout",
     "output_type": "stream",
     "text": [
      "43.896494132488634 38.65478030340361 34.5607186951862 36.88620555414358\n"
     ]
    }
   ],
   "source": [
    "dt_model_test = dt_model.fit(features_train,target_train)\n",
    "dt_predictions = dt_model_test.predict(features_test)\n",
    "RSME_dt_test = mean_squared_error(target_test, dt_predictions,squared= False)\n",
    "\n",
    "rf_model_test = rf_model.fit(features_train,target_train)\n",
    "rf_predictions = rf_model_test.predict(features_test)\n",
    "RSME_rf_test = mean_squared_error(target_test, rf_predictions,squared= False)\n",
    "\n",
    "\n",
    "lr_model_test = model_lr.fit(features_train,target_train)\n",
    "lr_predictions = lr_model_test.predict(features_test)\n",
    "RSME_lr_test = mean_squared_error(target_test, lr_predictions,squared= False)\n",
    "\n",
    "lgb_model_test = lgb_model.fit(features_train,target_train)\n",
    "lgb_predictions = lgb_model_test.predict(features_test)\n",
    "RSME_lgb_test = mean_squared_error(target_test, lgb_predictions,squared= False)\n",
    "\n",
    "print(RSME_dt_test,RSME_rf_test,RSME_lr_test,RSME_lgb_test)"
   ]
  },
  {
   "cell_type": "markdown",
   "metadata": {},
   "source": [
    "ИТОГ:\n",
    "\n",
    "- проведен анализ данных и выбраны признаки для прогнозирования целевого признака на нестационарном временном ряду\n",
    "- построены модели с перебором параметров при скользящей средней = 24 и лагом = 168. \n",
    "- наиболее эффективная модель - модель линейной регрессии со значением RMSE = 34.6 (ниже пороговой = 48)"
   ]
  },
  {
   "cell_type": "markdown",
   "metadata": {},
   "source": [
    "Допополнительно. Проверка корреляции для выбора нужного лага."
   ]
  },
  {
   "cell_type": "code",
   "execution_count": 27,
   "metadata": {},
   "outputs": [
    {
     "data": {
      "image/png": "[encoded data removed]",
      "text/plain": [
       "<Figure size 1332x432 with 1 Axes>"
      ]
     },
     "metadata": {
      "needs_background": "light"
     },
     "output_type": "display_data"
    }
   ],
   "source": [
    "from statsmodels.graphics import tsaplots\n",
    "\n",
    "taxi = pd.read_csv(\"/datasets/taxi.csv\", index_col=[0], parse_dates=[0]).resample('1H').sum()\n",
    "ts = taxi['num_orders']\n",
    "\n",
    "fig = tsaplots.plot_acf(ts,lags= 190)\n",
    "fig.set_size_inches(18.5, 6)\n",
    "plt.ylim(-.1, 1.1)\n",
    "plt.show() \n",
    "\n"
   ]
  }
 ],
 "metadata": {
  "ExecuteTimeLog": [
   {
    "duration": 49,
    "start_time": "2023-06-04T10:33:20.357Z"
   },
   {
    "duration": 411,
    "start_time": "2023-06-04T10:33:27.147Z"
   },
   {
    "duration": 29,
    "start_time": "2023-06-04T10:33:27.615Z"
   },
   {
    "duration": 110,
    "start_time": "2023-06-04T10:33:41.545Z"
   },
   {
    "duration": 51,
    "start_time": "2023-06-04T10:33:57.577Z"
   },
   {
    "duration": 7,
    "start_time": "2023-06-04T10:34:21.097Z"
   },
   {
    "duration": 3,
    "start_time": "2023-06-04T10:34:26.645Z"
   },
   {
    "duration": 2,
    "start_time": "2023-06-04T10:34:29.875Z"
   },
   {
    "duration": 6,
    "start_time": "2023-06-04T10:34:34.565Z"
   },
   {
    "duration": 9,
    "start_time": "2023-06-04T10:34:48.247Z"
   },
   {
    "duration": 8,
    "start_time": "2023-06-04T10:34:52.196Z"
   },
   {
    "duration": 13,
    "start_time": "2023-06-04T10:34:57.996Z"
   },
   {
    "duration": 12,
    "start_time": "2023-06-04T10:35:07.495Z"
   },
   {
    "duration": 19,
    "start_time": "2023-06-04T10:35:32.515Z"
   },
   {
    "duration": 47,
    "start_time": "2023-06-04T10:36:56.437Z"
   },
   {
    "duration": 11,
    "start_time": "2023-06-04T10:39:03.147Z"
   },
   {
    "duration": 13,
    "start_time": "2023-06-04T10:40:27.007Z"
   },
   {
    "duration": 8,
    "start_time": "2023-06-04T10:40:34.487Z"
   },
   {
    "duration": 14,
    "start_time": "2023-06-04T10:41:20.225Z"
   },
   {
    "duration": 12,
    "start_time": "2023-06-04T10:41:28.745Z"
   },
   {
    "duration": 8,
    "start_time": "2023-06-04T10:52:44.227Z"
   },
   {
    "duration": 13,
    "start_time": "2023-06-04T10:52:50.878Z"
   },
   {
    "duration": 10,
    "start_time": "2023-06-04T10:53:33.207Z"
   },
   {
    "duration": 7,
    "start_time": "2023-06-04T10:56:20.707Z"
   },
   {
    "duration": 52,
    "start_time": "2023-06-04T10:56:26.717Z"
   },
   {
    "duration": 52,
    "start_time": "2023-06-04T10:56:51.767Z"
   },
   {
    "duration": 52,
    "start_time": "2023-06-04T10:57:43.277Z"
   },
   {
    "duration": 55,
    "start_time": "2023-06-04T10:57:59.057Z"
   },
   {
    "duration": 58,
    "start_time": "2023-06-04T10:58:22.948Z"
   },
   {
    "duration": 54,
    "start_time": "2023-06-04T10:58:29.563Z"
   },
   {
    "duration": 53,
    "start_time": "2023-06-04T10:58:53.188Z"
   },
   {
    "duration": 1083,
    "start_time": "2023-06-04T10:59:27.039Z"
   },
   {
    "duration": 626,
    "start_time": "2023-06-04T10:59:32.795Z"
   },
   {
    "duration": 713,
    "start_time": "2023-06-04T10:59:58.915Z"
   },
   {
    "duration": 703,
    "start_time": "2023-06-04T11:00:10.197Z"
   },
   {
    "duration": 67,
    "start_time": "2023-06-04T11:00:20.065Z"
   },
   {
    "duration": 50,
    "start_time": "2023-06-04T11:00:35.026Z"
   },
   {
    "duration": 244,
    "start_time": "2023-06-04T11:00:37.188Z"
   },
   {
    "duration": 51,
    "start_time": "2023-06-04T11:00:47.796Z"
   },
   {
    "duration": 301,
    "start_time": "2023-06-04T11:00:49.227Z"
   },
   {
    "duration": 50,
    "start_time": "2023-06-04T11:00:59.556Z"
   },
   {
    "duration": 240,
    "start_time": "2023-06-04T11:01:04.365Z"
   },
   {
    "duration": 494,
    "start_time": "2023-06-04T11:03:24.185Z"
   },
   {
    "duration": 13,
    "start_time": "2023-06-04T11:04:32.975Z"
   },
   {
    "duration": 6,
    "start_time": "2023-06-04T11:04:43.905Z"
   },
   {
    "duration": 64,
    "start_time": "2023-06-04T11:09:23.037Z"
   },
   {
    "duration": 3,
    "start_time": "2023-06-04T11:09:42.895Z"
   },
   {
    "duration": 769,
    "start_time": "2023-06-04T11:09:49.735Z"
   },
   {
    "duration": 785,
    "start_time": "2023-06-04T11:10:13.756Z"
   },
   {
    "duration": 241,
    "start_time": "2023-06-04T11:14:20.937Z"
   },
   {
    "duration": 228,
    "start_time": "2023-06-04T11:14:24.855Z"
   },
   {
    "duration": 231,
    "start_time": "2023-06-04T11:14:43.507Z"
   },
   {
    "duration": 190,
    "start_time": "2023-06-04T11:16:57.265Z"
   },
   {
    "duration": 248,
    "start_time": "2023-06-04T11:17:17.566Z"
   },
   {
    "duration": 158,
    "start_time": "2023-06-04T11:20:03.757Z"
   },
   {
    "duration": 189,
    "start_time": "2023-06-04T11:21:35.273Z"
   },
   {
    "duration": 157,
    "start_time": "2023-06-04T11:25:09.466Z"
   },
   {
    "duration": 166,
    "start_time": "2023-06-04T11:26:30.255Z"
   },
   {
    "duration": 114,
    "start_time": "2023-06-04T11:29:41.267Z"
   },
   {
    "duration": 15,
    "start_time": "2023-06-04T11:35:36.105Z"
   },
   {
    "duration": 272,
    "start_time": "2023-06-04T11:36:07.974Z"
   },
   {
    "duration": 234,
    "start_time": "2023-06-04T11:36:14.376Z"
   },
   {
    "duration": 263,
    "start_time": "2023-06-04T11:36:38.785Z"
   },
   {
    "duration": 300,
    "start_time": "2023-06-04T11:36:44.607Z"
   },
   {
    "duration": 287,
    "start_time": "2023-06-04T11:38:51.967Z"
   },
   {
    "duration": 16,
    "start_time": "2023-06-04T11:38:54.715Z"
   },
   {
    "duration": 1148,
    "start_time": "2023-06-04T11:39:42.106Z"
   },
   {
    "duration": 107,
    "start_time": "2023-06-04T11:39:43.256Z"
   },
   {
    "duration": 12,
    "start_time": "2023-06-04T11:39:43.365Z"
   },
   {
    "duration": 14,
    "start_time": "2023-06-04T11:39:43.379Z"
   },
   {
    "duration": 12,
    "start_time": "2023-06-04T11:39:43.394Z"
   },
   {
    "duration": 58,
    "start_time": "2023-06-04T11:39:43.408Z"
   },
   {
    "duration": 249,
    "start_time": "2023-06-04T11:39:43.468Z"
   },
   {
    "duration": 318,
    "start_time": "2023-06-04T11:39:43.718Z"
   },
   {
    "duration": 104,
    "start_time": "2023-06-04T11:39:44.038Z"
   },
   {
    "duration": 0,
    "start_time": "2023-06-04T11:39:44.146Z"
   },
   {
    "duration": 0,
    "start_time": "2023-06-04T11:39:44.148Z"
   },
   {
    "duration": 13,
    "start_time": "2023-06-04T11:40:42.836Z"
   },
   {
    "duration": 289,
    "start_time": "2023-06-04T11:40:49.336Z"
   },
   {
    "duration": 1074,
    "start_time": "2023-06-04T11:42:48.965Z"
   },
   {
    "duration": 110,
    "start_time": "2023-06-04T11:42:50.041Z"
   },
   {
    "duration": 13,
    "start_time": "2023-06-04T11:42:50.152Z"
   },
   {
    "duration": 13,
    "start_time": "2023-06-04T11:42:50.167Z"
   },
   {
    "duration": 12,
    "start_time": "2023-06-04T11:42:50.183Z"
   },
   {
    "duration": 65,
    "start_time": "2023-06-04T11:42:50.197Z"
   },
   {
    "duration": 277,
    "start_time": "2023-06-04T11:42:50.264Z"
   },
   {
    "duration": 244,
    "start_time": "2023-06-04T11:42:50.546Z"
   },
   {
    "duration": 728,
    "start_time": "2023-06-04T11:42:50.792Z"
   },
   {
    "duration": 174,
    "start_time": "2023-06-04T11:42:51.522Z"
   },
   {
    "duration": 317,
    "start_time": "2023-06-04T11:42:51.698Z"
   },
   {
    "duration": 315,
    "start_time": "2023-06-04T11:44:01.664Z"
   },
   {
    "duration": 84,
    "start_time": "2023-06-04T11:45:38.624Z"
   },
   {
    "duration": 244,
    "start_time": "2023-06-04T11:47:43.216Z"
   },
   {
    "duration": 281,
    "start_time": "2023-06-04T11:47:57.554Z"
   },
   {
    "duration": 349,
    "start_time": "2023-06-04T11:48:10.966Z"
   },
   {
    "duration": 283,
    "start_time": "2023-06-04T11:48:27.064Z"
   },
   {
    "duration": 279,
    "start_time": "2023-06-04T11:48:39.412Z"
   },
   {
    "duration": 255,
    "start_time": "2023-06-04T11:52:28.420Z"
   },
   {
    "duration": 15,
    "start_time": "2023-06-04T11:53:19.320Z"
   },
   {
    "duration": 17,
    "start_time": "2023-06-04T11:54:19.115Z"
   },
   {
    "duration": 4,
    "start_time": "2023-06-04T11:56:33.876Z"
   },
   {
    "duration": 51,
    "start_time": "2023-06-04T13:00:40.994Z"
   },
   {
    "duration": 14,
    "start_time": "2023-06-04T13:00:43.045Z"
   },
   {
    "duration": 124,
    "start_time": "2023-06-04T13:00:46.985Z"
   },
   {
    "duration": 19,
    "start_time": "2023-06-04T13:00:53.394Z"
   },
   {
    "duration": 48,
    "start_time": "2023-06-04T13:05:16.634Z"
   },
   {
    "duration": 77,
    "start_time": "2023-06-04T13:05:42.375Z"
   },
   {
    "duration": 5,
    "start_time": "2023-06-04T13:07:24.157Z"
   },
   {
    "duration": 64,
    "start_time": "2023-06-04T13:07:36.094Z"
   },
   {
    "duration": 5,
    "start_time": "2023-06-04T13:07:46.886Z"
   },
   {
    "duration": 13,
    "start_time": "2023-06-04T13:07:54.504Z"
   },
   {
    "duration": 28,
    "start_time": "2023-06-04T13:07:58.334Z"
   },
   {
    "duration": 19,
    "start_time": "2023-06-04T13:08:17.845Z"
   },
   {
    "duration": 31,
    "start_time": "2023-06-04T13:08:35.935Z"
   },
   {
    "duration": 3,
    "start_time": "2023-06-04T13:12:51.837Z"
   },
   {
    "duration": 9,
    "start_time": "2023-06-04T13:15:39.615Z"
   },
   {
    "duration": 91,
    "start_time": "2023-06-04T13:17:24.504Z"
   },
   {
    "duration": 4,
    "start_time": "2023-06-04T13:19:38.224Z"
   },
   {
    "duration": 12,
    "start_time": "2023-06-04T13:19:52.395Z"
   },
   {
    "duration": 17,
    "start_time": "2023-06-04T13:19:54.175Z"
   },
   {
    "duration": 106,
    "start_time": "2023-06-04T13:19:55.655Z"
   },
   {
    "duration": 124,
    "start_time": "2023-06-04T13:20:29.665Z"
   },
   {
    "duration": 5,
    "start_time": "2023-06-04T13:20:36.314Z"
   },
   {
    "duration": 103,
    "start_time": "2023-06-04T13:20:44.425Z"
   },
   {
    "duration": 1383,
    "start_time": "2023-06-04T13:29:05.599Z"
   },
   {
    "duration": 56,
    "start_time": "2023-06-04T13:29:06.984Z"
   },
   {
    "duration": 15,
    "start_time": "2023-06-04T13:29:07.042Z"
   },
   {
    "duration": 36,
    "start_time": "2023-06-04T13:29:07.059Z"
   },
   {
    "duration": 14,
    "start_time": "2023-06-04T13:29:07.096Z"
   },
   {
    "duration": 36,
    "start_time": "2023-06-04T13:29:07.112Z"
   },
   {
    "duration": 270,
    "start_time": "2023-06-04T13:29:07.150Z"
   },
   {
    "duration": 248,
    "start_time": "2023-06-04T13:29:07.421Z"
   },
   {
    "duration": 742,
    "start_time": "2023-06-04T13:29:07.670Z"
   },
   {
    "duration": 172,
    "start_time": "2023-06-04T13:29:08.415Z"
   },
   {
    "duration": 368,
    "start_time": "2023-06-04T13:29:08.589Z"
   },
   {
    "duration": 306,
    "start_time": "2023-06-04T13:29:08.959Z"
   },
   {
    "duration": 63,
    "start_time": "2023-06-04T13:29:09.267Z"
   },
   {
    "duration": 19,
    "start_time": "2023-06-04T13:29:09.332Z"
   },
   {
    "duration": 4,
    "start_time": "2023-06-04T13:29:09.353Z"
   },
   {
    "duration": 17,
    "start_time": "2023-06-04T13:29:09.358Z"
   },
   {
    "duration": 13,
    "start_time": "2023-06-04T13:29:09.376Z"
   },
   {
    "duration": 141,
    "start_time": "2023-06-04T13:29:09.390Z"
   },
   {
    "duration": 20,
    "start_time": "2023-06-04T13:31:34.415Z"
   },
   {
    "duration": 4,
    "start_time": "2023-06-04T13:31:37.005Z"
   },
   {
    "duration": 11,
    "start_time": "2023-06-04T13:31:38.583Z"
   },
   {
    "duration": 12,
    "start_time": "2023-06-04T13:31:41.645Z"
   },
   {
    "duration": 11,
    "start_time": "2023-06-04T13:31:44.115Z"
   },
   {
    "duration": 14,
    "start_time": "2023-06-04T13:31:59.188Z"
   },
   {
    "duration": 11,
    "start_time": "2023-06-04T13:32:34.698Z"
   },
   {
    "duration": 14,
    "start_time": "2023-06-04T13:32:37.644Z"
   },
   {
    "duration": 11,
    "start_time": "2023-06-04T13:32:46.067Z"
   },
   {
    "duration": 14,
    "start_time": "2023-06-04T13:32:51.587Z"
   },
   {
    "duration": 12,
    "start_time": "2023-06-04T13:32:59.136Z"
   },
   {
    "duration": 14,
    "start_time": "2023-06-04T13:33:01.387Z"
   },
   {
    "duration": 13,
    "start_time": "2023-06-04T13:33:06.786Z"
   },
   {
    "duration": 14,
    "start_time": "2023-06-04T13:33:09.005Z"
   },
   {
    "duration": 14,
    "start_time": "2023-06-04T13:33:18.725Z"
   },
   {
    "duration": 14,
    "start_time": "2023-06-04T13:33:20.638Z"
   },
   {
    "duration": 26,
    "start_time": "2023-06-04T13:37:34.004Z"
   },
   {
    "duration": 1302227,
    "start_time": "2023-06-04T13:37:40.724Z"
   },
   {
    "duration": 21,
    "start_time": "2023-06-04T14:03:00.545Z"
   },
   {
    "duration": 315,
    "start_time": "2023-06-04T14:03:46.545Z"
   },
   {
    "duration": 202,
    "start_time": "2023-06-04T14:04:51.993Z"
   },
   {
    "duration": 5,
    "start_time": "2023-06-04T14:19:25.487Z"
   },
   {
    "duration": 66,
    "start_time": "2023-06-04T14:23:26.674Z"
   },
   {
    "duration": 20,
    "start_time": "2023-06-04T14:23:34.573Z"
   },
   {
    "duration": 5,
    "start_time": "2023-06-04T14:23:37.381Z"
   },
   {
    "duration": 17,
    "start_time": "2023-06-04T14:24:49.170Z"
   },
   {
    "duration": 17,
    "start_time": "2023-06-04T14:24:52.271Z"
   },
   {
    "duration": 18,
    "start_time": "2023-06-04T14:25:37.144Z"
   },
   {
    "duration": 17,
    "start_time": "2023-06-04T14:25:40.005Z"
   },
   {
    "duration": 28,
    "start_time": "2023-06-04T14:26:24.005Z"
   },
   {
    "duration": 25,
    "start_time": "2023-06-04T14:26:28.045Z"
   },
   {
    "duration": 17,
    "start_time": "2023-06-04T14:26:48.906Z"
   },
   {
    "duration": 67,
    "start_time": "2023-06-04T14:26:52.280Z"
   },
   {
    "duration": 17,
    "start_time": "2023-06-04T14:27:05.380Z"
   },
   {
    "duration": 17,
    "start_time": "2023-06-04T14:27:09.014Z"
   },
   {
    "duration": 28,
    "start_time": "2023-06-04T14:29:26.821Z"
   },
   {
    "duration": 14,
    "start_time": "2023-06-04T14:30:17.415Z"
   },
   {
    "duration": 29,
    "start_time": "2023-06-04T14:30:50.425Z"
   },
   {
    "duration": 70,
    "start_time": "2023-06-04T14:31:23.056Z"
   },
   {
    "duration": 20,
    "start_time": "2023-06-04T14:31:24.480Z"
   },
   {
    "duration": 4,
    "start_time": "2023-06-04T14:31:25.880Z"
   },
   {
    "duration": 14,
    "start_time": "2023-06-04T14:31:28.095Z"
   },
   {
    "duration": 20,
    "start_time": "2023-06-04T14:31:31.577Z"
   },
   {
    "duration": 509,
    "start_time": "2023-06-04T14:31:34.215Z"
   },
   {
    "duration": 4866,
    "start_time": "2023-06-04T14:32:30.175Z"
   },
   {
    "duration": 4926,
    "start_time": "2023-06-04T14:33:23.490Z"
   },
   {
    "duration": 46430,
    "start_time": "2023-06-04T14:34:11.425Z"
   },
   {
    "duration": 44078,
    "start_time": "2023-06-04T14:36:42.886Z"
   },
   {
    "duration": 49110,
    "start_time": "2023-06-04T14:38:57.846Z"
   },
   {
    "duration": 3,
    "start_time": "2023-06-04T14:41:11.686Z"
   },
   {
    "duration": 5452,
    "start_time": "2023-06-04T14:41:13.079Z"
   },
   {
    "duration": 5239,
    "start_time": "2023-06-04T14:42:29.325Z"
   },
   {
    "duration": 6421,
    "start_time": "2023-06-04T14:42:51.325Z"
   },
   {
    "duration": 1600,
    "start_time": "2023-06-04T15:04:10.917Z"
   },
   {
    "duration": 71,
    "start_time": "2023-06-04T15:04:12.520Z"
   },
   {
    "duration": 16,
    "start_time": "2023-06-04T15:04:12.593Z"
   },
   {
    "duration": 17,
    "start_time": "2023-06-04T15:04:12.611Z"
   },
   {
    "duration": 28,
    "start_time": "2023-06-04T15:04:12.632Z"
   },
   {
    "duration": 54,
    "start_time": "2023-06-04T15:04:12.662Z"
   },
   {
    "duration": 259,
    "start_time": "2023-06-04T15:04:12.719Z"
   },
   {
    "duration": 282,
    "start_time": "2023-06-04T15:04:12.980Z"
   },
   {
    "duration": 732,
    "start_time": "2023-06-04T15:04:13.264Z"
   },
   {
    "duration": 243,
    "start_time": "2023-06-04T15:04:13.998Z"
   },
   {
    "duration": 186,
    "start_time": "2023-06-04T15:04:14.245Z"
   },
   {
    "duration": 280,
    "start_time": "2023-06-04T15:04:14.433Z"
   },
   {
    "duration": 289,
    "start_time": "2023-06-04T15:04:14.715Z"
   },
   {
    "duration": 50,
    "start_time": "2023-06-04T15:04:15.007Z"
   },
   {
    "duration": 12,
    "start_time": "2023-06-04T15:04:15.058Z"
   },
   {
    "duration": 6,
    "start_time": "2023-06-04T15:04:15.072Z"
   },
   {
    "duration": 26,
    "start_time": "2023-06-04T15:04:15.080Z"
   },
   {
    "duration": 234,
    "start_time": "2023-06-04T15:04:15.108Z"
   },
   {
    "duration": 0,
    "start_time": "2023-06-04T15:04:15.344Z"
   },
   {
    "duration": 0,
    "start_time": "2023-06-04T15:04:15.345Z"
   },
   {
    "duration": 0,
    "start_time": "2023-06-04T15:04:15.346Z"
   },
   {
    "duration": 0,
    "start_time": "2023-06-04T15:04:15.347Z"
   },
   {
    "duration": 94,
    "start_time": "2023-06-04T15:08:25.886Z"
   },
   {
    "duration": 51,
    "start_time": "2023-06-04T15:11:09.285Z"
   },
   {
    "duration": 15,
    "start_time": "2023-06-04T15:11:11.074Z"
   },
   {
    "duration": 17,
    "start_time": "2023-06-04T15:11:13.146Z"
   },
   {
    "duration": 4,
    "start_time": "2023-06-04T15:11:16.275Z"
   },
   {
    "duration": 22,
    "start_time": "2023-06-04T15:11:18.031Z"
   },
   {
    "duration": 397,
    "start_time": "2023-06-04T15:11:26.664Z"
   },
   {
    "duration": 2937,
    "start_time": "2023-06-04T15:11:29.487Z"
   },
   {
    "duration": 39875,
    "start_time": "2023-06-04T15:11:37.775Z"
   },
   {
    "duration": 6365,
    "start_time": "2023-06-04T15:12:30.886Z"
   },
   {
    "duration": 1462,
    "start_time": "2023-06-04T15:13:39.246Z"
   },
   {
    "duration": 54,
    "start_time": "2023-06-04T15:13:40.710Z"
   },
   {
    "duration": 16,
    "start_time": "2023-06-04T15:13:40.766Z"
   },
   {
    "duration": 16,
    "start_time": "2023-06-04T15:13:40.785Z"
   },
   {
    "duration": 15,
    "start_time": "2023-06-04T15:13:40.803Z"
   },
   {
    "duration": 49,
    "start_time": "2023-06-04T15:13:40.819Z"
   },
   {
    "duration": 226,
    "start_time": "2023-06-04T15:13:40.870Z"
   },
   {
    "duration": 231,
    "start_time": "2023-06-04T15:13:41.097Z"
   },
   {
    "duration": 775,
    "start_time": "2023-06-04T15:13:41.329Z"
   },
   {
    "duration": 295,
    "start_time": "2023-06-04T15:13:42.107Z"
   },
   {
    "duration": 264,
    "start_time": "2023-06-04T15:13:42.405Z"
   },
   {
    "duration": 345,
    "start_time": "2023-06-04T15:13:42.671Z"
   },
   {
    "duration": 310,
    "start_time": "2023-06-04T15:13:43.018Z"
   },
   {
    "duration": 49,
    "start_time": "2023-06-04T15:13:43.330Z"
   },
   {
    "duration": 13,
    "start_time": "2023-06-04T15:13:43.381Z"
   },
   {
    "duration": 15,
    "start_time": "2023-06-04T15:13:43.395Z"
   },
   {
    "duration": 4,
    "start_time": "2023-06-04T15:13:43.412Z"
   },
   {
    "duration": 33,
    "start_time": "2023-06-04T15:13:43.417Z"
   },
   {
    "duration": 518,
    "start_time": "2023-06-04T15:13:43.454Z"
   },
   {
    "duration": 2651,
    "start_time": "2023-06-04T15:13:43.974Z"
   },
   {
    "duration": 39837,
    "start_time": "2023-06-04T15:13:46.626Z"
   },
   {
    "duration": 4689,
    "start_time": "2023-06-04T15:14:26.465Z"
   },
   {
    "duration": 1554,
    "start_time": "2023-06-04T15:16:01.507Z"
   },
   {
    "duration": 54,
    "start_time": "2023-06-04T15:16:03.063Z"
   },
   {
    "duration": 12,
    "start_time": "2023-06-04T15:16:03.119Z"
   },
   {
    "duration": 28,
    "start_time": "2023-06-04T15:16:03.132Z"
   },
   {
    "duration": 23,
    "start_time": "2023-06-04T15:16:03.162Z"
   },
   {
    "duration": 39,
    "start_time": "2023-06-04T15:16:03.186Z"
   },
   {
    "duration": 241,
    "start_time": "2023-06-04T15:16:03.227Z"
   },
   {
    "duration": 226,
    "start_time": "2023-06-04T15:16:03.470Z"
   },
   {
    "duration": 702,
    "start_time": "2023-06-04T15:16:03.698Z"
   },
   {
    "duration": 245,
    "start_time": "2023-06-04T15:16:04.404Z"
   },
   {
    "duration": 190,
    "start_time": "2023-06-04T15:16:04.651Z"
   },
   {
    "duration": 282,
    "start_time": "2023-06-04T15:16:04.842Z"
   },
   {
    "duration": 307,
    "start_time": "2023-06-04T15:16:05.125Z"
   },
   {
    "duration": 52,
    "start_time": "2023-06-04T15:16:05.433Z"
   },
   {
    "duration": 34,
    "start_time": "2023-06-04T15:16:05.487Z"
   },
   {
    "duration": 39,
    "start_time": "2023-06-04T15:16:05.523Z"
   },
   {
    "duration": 5,
    "start_time": "2023-06-04T15:16:05.564Z"
   },
   {
    "duration": 177,
    "start_time": "2023-06-04T15:16:05.571Z"
   },
   {
    "duration": 1540,
    "start_time": "2023-06-04T15:16:05.751Z"
   },
   {
    "duration": 16107,
    "start_time": "2023-06-04T15:16:07.293Z"
   },
   {
    "duration": 95649,
    "start_time": "2023-06-04T15:16:23.403Z"
   },
   {
    "duration": 18697,
    "start_time": "2023-06-04T15:17:59.054Z"
   },
   {
    "duration": 2980,
    "start_time": "2023-06-04T15:43:03.241Z"
   },
   {
    "duration": 175,
    "start_time": "2023-06-04T15:43:06.223Z"
   },
   {
    "duration": 17,
    "start_time": "2023-06-04T15:43:06.399Z"
   },
   {
    "duration": 78,
    "start_time": "2023-06-04T15:43:06.420Z"
   },
   {
    "duration": 16,
    "start_time": "2023-06-04T15:43:06.499Z"
   },
   {
    "duration": 95,
    "start_time": "2023-06-04T15:43:06.519Z"
   },
   {
    "duration": 503,
    "start_time": "2023-06-04T15:43:06.616Z"
   },
   {
    "duration": 492,
    "start_time": "2023-06-04T15:43:07.122Z"
   },
   {
    "duration": 1223,
    "start_time": "2023-06-04T15:43:07.616Z"
   },
   {
    "duration": 469,
    "start_time": "2023-06-04T15:43:08.841Z"
   },
   {
    "duration": 397,
    "start_time": "2023-06-04T15:43:09.312Z"
   },
   {
    "duration": 577,
    "start_time": "2023-06-04T15:43:09.713Z"
   },
   {
    "duration": 616,
    "start_time": "2023-06-04T15:43:10.291Z"
   },
   {
    "duration": 91,
    "start_time": "2023-06-04T15:43:10.913Z"
   },
   {
    "duration": 29,
    "start_time": "2023-06-04T15:43:11.005Z"
   },
   {
    "duration": 83,
    "start_time": "2023-06-04T15:43:11.035Z"
   },
   {
    "duration": 67,
    "start_time": "2023-06-04T15:43:11.121Z"
   },
   {
    "duration": 109,
    "start_time": "2023-06-04T15:43:11.196Z"
   },
   {
    "duration": 2912,
    "start_time": "2023-06-04T15:43:11.307Z"
   },
   {
    "duration": 32052,
    "start_time": "2023-06-04T15:43:14.221Z"
   }
  ],
  "kernelspec": {
   "display_name": "Python 3 (ipykernel)",
   "language": "python",
   "name": "python3"
  },
  "language_info": {
   "codemirror_mode": {
    "name": "ipython",
    "version": 3
   },
   "file_extension": ".py",
   "mimetype": "text/x-python",
   "name": "python",
   "nbconvert_exporter": "python",
   "pygments_lexer": "ipython3",
   "version": "3.9.5"
  },
  "toc": {
   "base_numbering": 1,
   "nav_menu": {},
   "number_sections": true,
   "sideBar": true,
   "skip_h1_title": true,
   "title_cell": "Содержание",
   "title_sidebar": "Contents",
   "toc_cell": true,
   "toc_position": {},
   "toc_section_display": true,
   "toc_window_display": false
  }
 },
 "nbformat": 4,
 "nbformat_minor": 2
}
